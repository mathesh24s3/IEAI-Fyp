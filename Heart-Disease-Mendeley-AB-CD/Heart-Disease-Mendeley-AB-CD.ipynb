{
 "cells": [
  {
   "cell_type": "code",
   "execution_count": 123,
   "metadata": {},
   "outputs": [],
   "source": [
    "import warnings\n",
    "warnings.filterwarnings('ignore')"
   ]
  },
  {
   "cell_type": "code",
   "execution_count": 124,
   "metadata": {},
   "outputs": [],
   "source": [
    "import pandas as pd"
   ]
  },
  {
   "cell_type": "code",
   "execution_count": 125,
   "metadata": {},
   "outputs": [],
   "source": [
    "from datatile.summary.df import DataFrameSummary"
   ]
  },
  {
   "cell_type": "code",
   "execution_count": 126,
   "metadata": {},
   "outputs": [],
   "source": [
    "import numpy as np "
   ]
  },
  {
   "cell_type": "code",
   "execution_count": 127,
   "metadata": {},
   "outputs": [],
   "source": [
    "import matplotlib.pyplot as plt"
   ]
  },
  {
   "cell_type": "code",
   "execution_count": 128,
   "metadata": {},
   "outputs": [],
   "source": [
    "import seaborn as sns"
   ]
  },
  {
   "cell_type": "code",
   "execution_count": 129,
   "metadata": {},
   "outputs": [],
   "source": [
    "import plotly.express as px"
   ]
  },
  {
   "cell_type": "code",
   "execution_count": 130,
   "metadata": {},
   "outputs": [],
   "source": [
    "from sklearn.model_selection import train_test_split"
   ]
  },
  {
   "cell_type": "code",
   "execution_count": 131,
   "metadata": {},
   "outputs": [],
   "source": [
    "from sklearn.preprocessing import MinMaxScaler, LabelEncoder, StandardScaler"
   ]
  },
  {
   "cell_type": "code",
   "execution_count": 132,
   "metadata": {},
   "outputs": [],
   "source": [
    "from sklearn.pipeline import Pipeline"
   ]
  },
  {
   "cell_type": "code",
   "execution_count": 133,
   "metadata": {},
   "outputs": [],
   "source": [
    "from sklearn.ensemble import RandomForestClassifier, AdaBoostClassifier, BaggingClassifier, ExtraTreesClassifier, GradientBoostingClassifier"
   ]
  },
  {
   "cell_type": "code",
   "execution_count": 134,
   "metadata": {},
   "outputs": [],
   "source": [
    "from sklearn.svm import SVC"
   ]
  },
  {
   "cell_type": "code",
   "execution_count": 135,
   "metadata": {},
   "outputs": [],
   "source": [
    "from mlxtend.plotting import plot_confusion_matrix"
   ]
  },
  {
   "cell_type": "code",
   "execution_count": 136,
   "metadata": {},
   "outputs": [],
   "source": [
    "from sklearn.metrics import confusion_matrix, accuracy_score, roc_curve, classification_report"
   ]
  },
  {
   "cell_type": "code",
   "execution_count": 137,
   "metadata": {},
   "outputs": [],
   "source": [
    "from sklearn.feature_selection import chi2"
   ]
  },
  {
   "cell_type": "code",
   "execution_count": 138,
   "metadata": {},
   "outputs": [],
   "source": [
    "from sklearn.feature_selection import SelectKBest"
   ]
  },
  {
   "cell_type": "code",
   "execution_count": 139,
   "metadata": {},
   "outputs": [],
   "source": [
    "import tensorflow.keras as k"
   ]
  },
  {
   "cell_type": "code",
   "execution_count": 140,
   "metadata": {},
   "outputs": [],
   "source": [
    "from tensorflow.keras.layers import Conv1D, Dense, Input, MaxPooling1D, Dropout, Flatten"
   ]
  },
  {
   "cell_type": "code",
   "execution_count": 141,
   "metadata": {},
   "outputs": [],
   "source": [
    "from tensorflow.keras.models import Sequential"
   ]
  },
  {
   "cell_type": "code",
   "execution_count": 142,
   "metadata": {},
   "outputs": [],
   "source": [
    "from tensorflow.keras.utils import plot_model"
   ]
  },
  {
   "cell_type": "code",
   "execution_count": 143,
   "metadata": {},
   "outputs": [],
   "source": [
    "from colorama import Fore, Back, Style"
   ]
  },
  {
   "cell_type": "code",
   "execution_count": 144,
   "metadata": {},
   "outputs": [],
   "source": [
    "from yellowbrick.classifier import ROCAUC"
   ]
  },
  {
   "cell_type": "code",
   "execution_count": 145,
   "metadata": {},
   "outputs": [],
   "source": [
    "sns.set_style('dark')"
   ]
  },
  {
   "cell_type": "code",
   "execution_count": 146,
   "metadata": {},
   "outputs": [],
   "source": [
    "df=pd.read_csv('Dataset/Heart-Attack-Dataset.csv')"
   ]
  },
  {
   "cell_type": "code",
   "execution_count": 147,
   "metadata": {},
   "outputs": [
    {
     "data": {
      "text/plain": [
       "(1319, 9)"
      ]
     },
     "execution_count": 147,
     "metadata": {},
     "output_type": "execute_result"
    }
   ],
   "source": [
    "df.shape"
   ]
  },
  {
   "cell_type": "code",
   "execution_count": 148,
   "metadata": {},
   "outputs": [
    {
     "name": "stdout",
     "output_type": "stream",
     "text": [
      "<class 'pandas.core.frame.DataFrame'>\n",
      "RangeIndex: 1319 entries, 0 to 1318\n",
      "Data columns (total 9 columns):\n",
      " #   Column                    Non-Null Count  Dtype  \n",
      "---  ------                    --------------  -----  \n",
      " 0   Age                       1319 non-null   int64  \n",
      " 1   Gender                    1319 non-null   int64  \n",
      " 2   Heart rate                1319 non-null   int64  \n",
      " 3   Systolic blood pressure   1319 non-null   int64  \n",
      " 4   Diastolic blood pressure  1319 non-null   int64  \n",
      " 5   Blood sugar               1319 non-null   float64\n",
      " 6   CK-MB                     1319 non-null   float64\n",
      " 7   Troponin                  1319 non-null   float64\n",
      " 8   Result                    1319 non-null   object \n",
      "dtypes: float64(3), int64(5), object(1)\n",
      "memory usage: 92.9+ KB\n"
     ]
    }
   ],
   "source": [
    "df.info()"
   ]
  },
  {
   "cell_type": "code",
   "execution_count": 149,
   "metadata": {},
   "outputs": [
    {
     "data": {
      "text/html": [
       "<div>\n",
       "<style scoped>\n",
       "    .dataframe tbody tr th:only-of-type {\n",
       "        vertical-align: middle;\n",
       "    }\n",
       "\n",
       "    .dataframe tbody tr th {\n",
       "        vertical-align: top;\n",
       "    }\n",
       "\n",
       "    .dataframe thead th {\n",
       "        text-align: right;\n",
       "    }\n",
       "</style>\n",
       "<table border=\"1\" class=\"dataframe\">\n",
       "  <thead>\n",
       "    <tr style=\"text-align: right;\">\n",
       "      <th></th>\n",
       "      <th>Age</th>\n",
       "      <th>Gender</th>\n",
       "      <th>Heart rate</th>\n",
       "      <th>Systolic blood pressure</th>\n",
       "      <th>Diastolic blood pressure</th>\n",
       "      <th>Blood sugar</th>\n",
       "      <th>CK-MB</th>\n",
       "      <th>Troponin</th>\n",
       "      <th>Result</th>\n",
       "    </tr>\n",
       "  </thead>\n",
       "  <tbody>\n",
       "    <tr>\n",
       "      <th>0</th>\n",
       "      <td>64</td>\n",
       "      <td>1</td>\n",
       "      <td>66</td>\n",
       "      <td>160</td>\n",
       "      <td>83</td>\n",
       "      <td>160.0</td>\n",
       "      <td>1.80</td>\n",
       "      <td>0.012</td>\n",
       "      <td>negative</td>\n",
       "    </tr>\n",
       "    <tr>\n",
       "      <th>1</th>\n",
       "      <td>21</td>\n",
       "      <td>1</td>\n",
       "      <td>94</td>\n",
       "      <td>98</td>\n",
       "      <td>46</td>\n",
       "      <td>296.0</td>\n",
       "      <td>6.75</td>\n",
       "      <td>1.060</td>\n",
       "      <td>positive</td>\n",
       "    </tr>\n",
       "    <tr>\n",
       "      <th>2</th>\n",
       "      <td>55</td>\n",
       "      <td>1</td>\n",
       "      <td>64</td>\n",
       "      <td>160</td>\n",
       "      <td>77</td>\n",
       "      <td>270.0</td>\n",
       "      <td>1.99</td>\n",
       "      <td>0.003</td>\n",
       "      <td>negative</td>\n",
       "    </tr>\n",
       "    <tr>\n",
       "      <th>3</th>\n",
       "      <td>64</td>\n",
       "      <td>1</td>\n",
       "      <td>70</td>\n",
       "      <td>120</td>\n",
       "      <td>55</td>\n",
       "      <td>270.0</td>\n",
       "      <td>13.87</td>\n",
       "      <td>0.122</td>\n",
       "      <td>positive</td>\n",
       "    </tr>\n",
       "    <tr>\n",
       "      <th>4</th>\n",
       "      <td>55</td>\n",
       "      <td>1</td>\n",
       "      <td>64</td>\n",
       "      <td>112</td>\n",
       "      <td>65</td>\n",
       "      <td>300.0</td>\n",
       "      <td>1.08</td>\n",
       "      <td>0.003</td>\n",
       "      <td>negative</td>\n",
       "    </tr>\n",
       "  </tbody>\n",
       "</table>\n",
       "</div>"
      ],
      "text/plain": [
       "   Age  Gender  Heart rate  Systolic blood pressure  Diastolic blood pressure  \\\n",
       "0   64       1          66                      160                        83   \n",
       "1   21       1          94                       98                        46   \n",
       "2   55       1          64                      160                        77   \n",
       "3   64       1          70                      120                        55   \n",
       "4   55       1          64                      112                        65   \n",
       "\n",
       "   Blood sugar  CK-MB  Troponin    Result  \n",
       "0        160.0   1.80     0.012  negative  \n",
       "1        296.0   6.75     1.060  positive  \n",
       "2        270.0   1.99     0.003  negative  \n",
       "3        270.0  13.87     0.122  positive  \n",
       "4        300.0   1.08     0.003  negative  "
      ]
     },
     "execution_count": 149,
     "metadata": {},
     "output_type": "execute_result"
    }
   ],
   "source": [
    "df.head()"
   ]
  },
  {
   "cell_type": "code",
   "execution_count": 150,
   "metadata": {},
   "outputs": [
    {
     "data": {
      "text/html": [
       "<div>\n",
       "<style scoped>\n",
       "    .dataframe tbody tr th:only-of-type {\n",
       "        vertical-align: middle;\n",
       "    }\n",
       "\n",
       "    .dataframe tbody tr th {\n",
       "        vertical-align: top;\n",
       "    }\n",
       "\n",
       "    .dataframe thead th {\n",
       "        text-align: right;\n",
       "    }\n",
       "</style>\n",
       "<table border=\"1\" class=\"dataframe\">\n",
       "  <thead>\n",
       "    <tr style=\"text-align: right;\">\n",
       "      <th></th>\n",
       "      <th>Age</th>\n",
       "      <th>Gender</th>\n",
       "      <th>Heart rate</th>\n",
       "      <th>Systolic blood pressure</th>\n",
       "      <th>Diastolic blood pressure</th>\n",
       "      <th>Blood sugar</th>\n",
       "      <th>CK-MB</th>\n",
       "      <th>Troponin</th>\n",
       "      <th>Result</th>\n",
       "    </tr>\n",
       "  </thead>\n",
       "  <tbody>\n",
       "    <tr>\n",
       "      <th>1305</th>\n",
       "      <td>47</td>\n",
       "      <td>1</td>\n",
       "      <td>71</td>\n",
       "      <td>117</td>\n",
       "      <td>61</td>\n",
       "      <td>140.0</td>\n",
       "      <td>4.390</td>\n",
       "      <td>1.370</td>\n",
       "      <td>positive</td>\n",
       "    </tr>\n",
       "    <tr>\n",
       "      <th>775</th>\n",
       "      <td>85</td>\n",
       "      <td>1</td>\n",
       "      <td>80</td>\n",
       "      <td>129</td>\n",
       "      <td>89</td>\n",
       "      <td>81.0</td>\n",
       "      <td>1.390</td>\n",
       "      <td>0.014</td>\n",
       "      <td>negative</td>\n",
       "    </tr>\n",
       "    <tr>\n",
       "      <th>640</th>\n",
       "      <td>58</td>\n",
       "      <td>1</td>\n",
       "      <td>69</td>\n",
       "      <td>148</td>\n",
       "      <td>72</td>\n",
       "      <td>169.0</td>\n",
       "      <td>3.210</td>\n",
       "      <td>1.290</td>\n",
       "      <td>positive</td>\n",
       "    </tr>\n",
       "    <tr>\n",
       "      <th>567</th>\n",
       "      <td>70</td>\n",
       "      <td>1</td>\n",
       "      <td>59</td>\n",
       "      <td>107</td>\n",
       "      <td>64</td>\n",
       "      <td>135.0</td>\n",
       "      <td>1.930</td>\n",
       "      <td>0.011</td>\n",
       "      <td>negative</td>\n",
       "    </tr>\n",
       "    <tr>\n",
       "      <th>369</th>\n",
       "      <td>78</td>\n",
       "      <td>1</td>\n",
       "      <td>59</td>\n",
       "      <td>113</td>\n",
       "      <td>65</td>\n",
       "      <td>80.0</td>\n",
       "      <td>2.650</td>\n",
       "      <td>0.693</td>\n",
       "      <td>positive</td>\n",
       "    </tr>\n",
       "    <tr>\n",
       "      <th>832</th>\n",
       "      <td>83</td>\n",
       "      <td>1</td>\n",
       "      <td>61</td>\n",
       "      <td>117</td>\n",
       "      <td>78</td>\n",
       "      <td>122.0</td>\n",
       "      <td>1.620</td>\n",
       "      <td>0.010</td>\n",
       "      <td>negative</td>\n",
       "    </tr>\n",
       "    <tr>\n",
       "      <th>864</th>\n",
       "      <td>49</td>\n",
       "      <td>1</td>\n",
       "      <td>93</td>\n",
       "      <td>105</td>\n",
       "      <td>71</td>\n",
       "      <td>93.0</td>\n",
       "      <td>3.330</td>\n",
       "      <td>0.041</td>\n",
       "      <td>positive</td>\n",
       "    </tr>\n",
       "    <tr>\n",
       "      <th>629</th>\n",
       "      <td>73</td>\n",
       "      <td>1</td>\n",
       "      <td>91</td>\n",
       "      <td>91</td>\n",
       "      <td>56</td>\n",
       "      <td>274.0</td>\n",
       "      <td>0.907</td>\n",
       "      <td>0.037</td>\n",
       "      <td>positive</td>\n",
       "    </tr>\n",
       "    <tr>\n",
       "      <th>1191</th>\n",
       "      <td>62</td>\n",
       "      <td>0</td>\n",
       "      <td>82</td>\n",
       "      <td>138</td>\n",
       "      <td>93</td>\n",
       "      <td>92.0</td>\n",
       "      <td>2.530</td>\n",
       "      <td>0.019</td>\n",
       "      <td>positive</td>\n",
       "    </tr>\n",
       "    <tr>\n",
       "      <th>1089</th>\n",
       "      <td>27</td>\n",
       "      <td>0</td>\n",
       "      <td>93</td>\n",
       "      <td>119</td>\n",
       "      <td>63</td>\n",
       "      <td>137.0</td>\n",
       "      <td>6.740</td>\n",
       "      <td>0.003</td>\n",
       "      <td>positive</td>\n",
       "    </tr>\n",
       "  </tbody>\n",
       "</table>\n",
       "</div>"
      ],
      "text/plain": [
       "      Age  Gender  Heart rate  Systolic blood pressure  \\\n",
       "1305   47       1          71                      117   \n",
       "775    85       1          80                      129   \n",
       "640    58       1          69                      148   \n",
       "567    70       1          59                      107   \n",
       "369    78       1          59                      113   \n",
       "832    83       1          61                      117   \n",
       "864    49       1          93                      105   \n",
       "629    73       1          91                       91   \n",
       "1191   62       0          82                      138   \n",
       "1089   27       0          93                      119   \n",
       "\n",
       "      Diastolic blood pressure  Blood sugar  CK-MB  Troponin    Result  \n",
       "1305                        61        140.0  4.390     1.370  positive  \n",
       "775                         89         81.0  1.390     0.014  negative  \n",
       "640                         72        169.0  3.210     1.290  positive  \n",
       "567                         64        135.0  1.930     0.011  negative  \n",
       "369                         65         80.0  2.650     0.693  positive  \n",
       "832                         78        122.0  1.620     0.010  negative  \n",
       "864                         71         93.0  3.330     0.041  positive  \n",
       "629                         56        274.0  0.907     0.037  positive  \n",
       "1191                        93         92.0  2.530     0.019  positive  \n",
       "1089                        63        137.0  6.740     0.003  positive  "
      ]
     },
     "execution_count": 150,
     "metadata": {},
     "output_type": "execute_result"
    }
   ],
   "source": [
    "df.sample(10)"
   ]
  },
  {
   "cell_type": "code",
   "execution_count": 151,
   "metadata": {},
   "outputs": [
    {
     "data": {
      "text/plain": [
       "Age                         0\n",
       "Gender                      0\n",
       "Heart rate                  0\n",
       "Systolic blood pressure     0\n",
       "Diastolic blood pressure    0\n",
       "Blood sugar                 0\n",
       "CK-MB                       0\n",
       "Troponin                    0\n",
       "Result                      0\n",
       "dtype: int64"
      ]
     },
     "execution_count": 151,
     "metadata": {},
     "output_type": "execute_result"
    }
   ],
   "source": [
    "df.isna().sum()"
   ]
  },
  {
   "cell_type": "code",
   "execution_count": 152,
   "metadata": {},
   "outputs": [
    {
     "data": {
      "text/plain": [
       "Age                         0\n",
       "Gender                      0\n",
       "Heart rate                  0\n",
       "Systolic blood pressure     0\n",
       "Diastolic blood pressure    0\n",
       "Blood sugar                 0\n",
       "CK-MB                       0\n",
       "Troponin                    0\n",
       "Result                      0\n",
       "dtype: int64"
      ]
     },
     "execution_count": 152,
     "metadata": {},
     "output_type": "execute_result"
    }
   ],
   "source": [
    "df.isnull().sum()"
   ]
  },
  {
   "cell_type": "code",
   "execution_count": 153,
   "metadata": {},
   "outputs": [
    {
     "data": {
      "text/plain": [
       "0"
      ]
     },
     "execution_count": 153,
     "metadata": {},
     "output_type": "execute_result"
    }
   ],
   "source": [
    "df.duplicated().sum()"
   ]
  },
  {
   "cell_type": "code",
   "execution_count": 154,
   "metadata": {},
   "outputs": [
    {
     "data": {
      "text/html": [
       "<style  type=\"text/css\" >\n",
       "#T_a60fb8e8_f4b6_11ed_bd11_089798d17901row0_col0,#T_a60fb8e8_f4b6_11ed_bd11_089798d17901row1_col0,#T_a60fb8e8_f4b6_11ed_bd11_089798d17901row1_col1,#T_a60fb8e8_f4b6_11ed_bd11_089798d17901row1_col2,#T_a60fb8e8_f4b6_11ed_bd11_089798d17901row1_col3,#T_a60fb8e8_f4b6_11ed_bd11_089798d17901row1_col4,#T_a60fb8e8_f4b6_11ed_bd11_089798d17901row1_col7,#T_a60fb8e8_f4b6_11ed_bd11_089798d17901row2_col0,#T_a60fb8e8_f4b6_11ed_bd11_089798d17901row3_col0,#T_a60fb8e8_f4b6_11ed_bd11_089798d17901row4_col0,#T_a60fb8e8_f4b6_11ed_bd11_089798d17901row5_col0,#T_a60fb8e8_f4b6_11ed_bd11_089798d17901row6_col0,#T_a60fb8e8_f4b6_11ed_bd11_089798d17901row7_col0,#T_a60fb8e8_f4b6_11ed_bd11_089798d17901row7_col1,#T_a60fb8e8_f4b6_11ed_bd11_089798d17901row7_col3,#T_a60fb8e8_f4b6_11ed_bd11_089798d17901row7_col4,#T_a60fb8e8_f4b6_11ed_bd11_089798d17901row7_col5,#T_a60fb8e8_f4b6_11ed_bd11_089798d17901row7_col6{\n",
       "            background-color:  #f7fcf0;\n",
       "            color:  #000000;\n",
       "        }#T_a60fb8e8_f4b6_11ed_bd11_089798d17901row0_col1{\n",
       "            background-color:  #a6dcb6;\n",
       "            color:  #000000;\n",
       "        }#T_a60fb8e8_f4b6_11ed_bd11_089798d17901row0_col2{\n",
       "            background-color:  #d8f0d2;\n",
       "            color:  #000000;\n",
       "        }#T_a60fb8e8_f4b6_11ed_bd11_089798d17901row0_col3{\n",
       "            background-color:  #b4e2ba;\n",
       "            color:  #000000;\n",
       "        }#T_a60fb8e8_f4b6_11ed_bd11_089798d17901row0_col4{\n",
       "            background-color:  #95d6bb;\n",
       "            color:  #000000;\n",
       "        }#T_a60fb8e8_f4b6_11ed_bd11_089798d17901row0_col5{\n",
       "            background-color:  #87d1c0;\n",
       "            color:  #000000;\n",
       "        }#T_a60fb8e8_f4b6_11ed_bd11_089798d17901row0_col6{\n",
       "            background-color:  #a5dcb6;\n",
       "            color:  #000000;\n",
       "        }#T_a60fb8e8_f4b6_11ed_bd11_089798d17901row0_col7{\n",
       "            background-color:  #e6f6e1;\n",
       "            color:  #000000;\n",
       "        }#T_a60fb8e8_f4b6_11ed_bd11_089798d17901row1_col5,#T_a60fb8e8_f4b6_11ed_bd11_089798d17901row7_col2,#T_a60fb8e8_f4b6_11ed_bd11_089798d17901row7_col7{\n",
       "            background-color:  #f6fbef;\n",
       "            color:  #000000;\n",
       "        }#T_a60fb8e8_f4b6_11ed_bd11_089798d17901row1_col6,#T_a60fb8e8_f4b6_11ed_bd11_089798d17901row6_col3{\n",
       "            background-color:  #f6fcef;\n",
       "            color:  #000000;\n",
       "        }#T_a60fb8e8_f4b6_11ed_bd11_089798d17901row2_col1{\n",
       "            background-color:  #6fc5c8;\n",
       "            color:  #000000;\n",
       "        }#T_a60fb8e8_f4b6_11ed_bd11_089798d17901row2_col2{\n",
       "            background-color:  #3da0c9;\n",
       "            color:  #000000;\n",
       "        }#T_a60fb8e8_f4b6_11ed_bd11_089798d17901row2_col3{\n",
       "            background-color:  #84cfc1;\n",
       "            color:  #000000;\n",
       "        }#T_a60fb8e8_f4b6_11ed_bd11_089798d17901row2_col4,#T_a60fb8e8_f4b6_11ed_bd11_089798d17901row4_col5{\n",
       "            background-color:  #5ebcce;\n",
       "            color:  #000000;\n",
       "        }#T_a60fb8e8_f4b6_11ed_bd11_089798d17901row2_col5{\n",
       "            background-color:  #58b9d0;\n",
       "            color:  #000000;\n",
       "        }#T_a60fb8e8_f4b6_11ed_bd11_089798d17901row2_col6{\n",
       "            background-color:  #7accc4;\n",
       "            color:  #000000;\n",
       "        }#T_a60fb8e8_f4b6_11ed_bd11_089798d17901row2_col7,#T_a60fb8e8_f4b6_11ed_bd11_089798d17901row3_col3,#T_a60fb8e8_f4b6_11ed_bd11_089798d17901row3_col4,#T_a60fb8e8_f4b6_11ed_bd11_089798d17901row3_col5,#T_a60fb8e8_f4b6_11ed_bd11_089798d17901row5_col1,#T_a60fb8e8_f4b6_11ed_bd11_089798d17901row5_col2,#T_a60fb8e8_f4b6_11ed_bd11_089798d17901row5_col6{\n",
       "            background-color:  #084081;\n",
       "            color:  #f1f1f1;\n",
       "        }#T_a60fb8e8_f4b6_11ed_bd11_089798d17901row3_col1{\n",
       "            background-color:  #0a6aad;\n",
       "            color:  #f1f1f1;\n",
       "        }#T_a60fb8e8_f4b6_11ed_bd11_089798d17901row3_col2{\n",
       "            background-color:  #b1e0b9;\n",
       "            color:  #000000;\n",
       "        }#T_a60fb8e8_f4b6_11ed_bd11_089798d17901row3_col6{\n",
       "            background-color:  #1171b1;\n",
       "            color:  #f1f1f1;\n",
       "        }#T_a60fb8e8_f4b6_11ed_bd11_089798d17901row3_col7{\n",
       "            background-color:  #d4eece;\n",
       "            color:  #000000;\n",
       "        }#T_a60fb8e8_f4b6_11ed_bd11_089798d17901row4_col1{\n",
       "            background-color:  #7fcdc3;\n",
       "            color:  #000000;\n",
       "        }#T_a60fb8e8_f4b6_11ed_bd11_089798d17901row4_col2{\n",
       "            background-color:  #d7efd1;\n",
       "            color:  #000000;\n",
       "        }#T_a60fb8e8_f4b6_11ed_bd11_089798d17901row4_col3{\n",
       "            background-color:  #085ea1;\n",
       "            color:  #f1f1f1;\n",
       "        }#T_a60fb8e8_f4b6_11ed_bd11_089798d17901row4_col4{\n",
       "            background-color:  #64bfcc;\n",
       "            color:  #000000;\n",
       "        }#T_a60fb8e8_f4b6_11ed_bd11_089798d17901row4_col6{\n",
       "            background-color:  #83cfc1;\n",
       "            color:  #000000;\n",
       "        }#T_a60fb8e8_f4b6_11ed_bd11_089798d17901row4_col7{\n",
       "            background-color:  #def2d9;\n",
       "            color:  #000000;\n",
       "        }#T_a60fb8e8_f4b6_11ed_bd11_089798d17901row5_col3{\n",
       "            background-color:  #1373b2;\n",
       "            color:  #f1f1f1;\n",
       "        }#T_a60fb8e8_f4b6_11ed_bd11_089798d17901row5_col4{\n",
       "            background-color:  #0862a5;\n",
       "            color:  #f1f1f1;\n",
       "        }#T_a60fb8e8_f4b6_11ed_bd11_089798d17901row5_col5{\n",
       "            background-color:  #085497;\n",
       "            color:  #f1f1f1;\n",
       "        }#T_a60fb8e8_f4b6_11ed_bd11_089798d17901row5_col7{\n",
       "            background-color:  #80cec2;\n",
       "            color:  #000000;\n",
       "        }#T_a60fb8e8_f4b6_11ed_bd11_089798d17901row6_col1{\n",
       "            background-color:  #e4f5df;\n",
       "            color:  #000000;\n",
       "        }#T_a60fb8e8_f4b6_11ed_bd11_089798d17901row6_col2{\n",
       "            background-color:  #51b5d2;\n",
       "            color:  #000000;\n",
       "        }#T_a60fb8e8_f4b6_11ed_bd11_089798d17901row6_col4{\n",
       "            background-color:  #f5fbee;\n",
       "            color:  #000000;\n",
       "        }#T_a60fb8e8_f4b6_11ed_bd11_089798d17901row6_col5{\n",
       "            background-color:  #f3fbed;\n",
       "            color:  #000000;\n",
       "        }#T_a60fb8e8_f4b6_11ed_bd11_089798d17901row6_col6{\n",
       "            background-color:  #f1faeb;\n",
       "            color:  #000000;\n",
       "        }#T_a60fb8e8_f4b6_11ed_bd11_089798d17901row6_col7{\n",
       "            background-color:  #c7e9c3;\n",
       "            color:  #000000;\n",
       "        }</style><table id=\"T_a60fb8e8_f4b6_11ed_bd11_089798d17901\" ><thead>    <tr>        <th class=\"blank level0\" ></th>        <th class=\"col_heading level0 col0\" >count</th>        <th class=\"col_heading level0 col1\" >mean</th>        <th class=\"col_heading level0 col2\" >std</th>        <th class=\"col_heading level0 col3\" >min</th>        <th class=\"col_heading level0 col4\" >25%</th>        <th class=\"col_heading level0 col5\" >50%</th>        <th class=\"col_heading level0 col6\" >75%</th>        <th class=\"col_heading level0 col7\" >max</th>    </tr></thead><tbody>\n",
       "                <tr>\n",
       "                        <th id=\"T_a60fb8e8_f4b6_11ed_bd11_089798d17901level0_row0\" class=\"row_heading level0 row0\" >Age</th>\n",
       "                        <td id=\"T_a60fb8e8_f4b6_11ed_bd11_089798d17901row0_col0\" class=\"data row0 col0\" >1319.000000</td>\n",
       "                        <td id=\"T_a60fb8e8_f4b6_11ed_bd11_089798d17901row0_col1\" class=\"data row0 col1\" >56.191812</td>\n",
       "                        <td id=\"T_a60fb8e8_f4b6_11ed_bd11_089798d17901row0_col2\" class=\"data row0 col2\" >13.647315</td>\n",
       "                        <td id=\"T_a60fb8e8_f4b6_11ed_bd11_089798d17901row0_col3\" class=\"data row0 col3\" >14.000000</td>\n",
       "                        <td id=\"T_a60fb8e8_f4b6_11ed_bd11_089798d17901row0_col4\" class=\"data row0 col4\" >47.000000</td>\n",
       "                        <td id=\"T_a60fb8e8_f4b6_11ed_bd11_089798d17901row0_col5\" class=\"data row0 col5\" >58.000000</td>\n",
       "                        <td id=\"T_a60fb8e8_f4b6_11ed_bd11_089798d17901row0_col6\" class=\"data row0 col6\" >65.000000</td>\n",
       "                        <td id=\"T_a60fb8e8_f4b6_11ed_bd11_089798d17901row0_col7\" class=\"data row0 col7\" >103.000000</td>\n",
       "            </tr>\n",
       "            <tr>\n",
       "                        <th id=\"T_a60fb8e8_f4b6_11ed_bd11_089798d17901level0_row1\" class=\"row_heading level0 row1\" >Gender</th>\n",
       "                        <td id=\"T_a60fb8e8_f4b6_11ed_bd11_089798d17901row1_col0\" class=\"data row1 col0\" >1319.000000</td>\n",
       "                        <td id=\"T_a60fb8e8_f4b6_11ed_bd11_089798d17901row1_col1\" class=\"data row1 col1\" >0.659591</td>\n",
       "                        <td id=\"T_a60fb8e8_f4b6_11ed_bd11_089798d17901row1_col2\" class=\"data row1 col2\" >0.474027</td>\n",
       "                        <td id=\"T_a60fb8e8_f4b6_11ed_bd11_089798d17901row1_col3\" class=\"data row1 col3\" >0.000000</td>\n",
       "                        <td id=\"T_a60fb8e8_f4b6_11ed_bd11_089798d17901row1_col4\" class=\"data row1 col4\" >0.000000</td>\n",
       "                        <td id=\"T_a60fb8e8_f4b6_11ed_bd11_089798d17901row1_col5\" class=\"data row1 col5\" >1.000000</td>\n",
       "                        <td id=\"T_a60fb8e8_f4b6_11ed_bd11_089798d17901row1_col6\" class=\"data row1 col6\" >1.000000</td>\n",
       "                        <td id=\"T_a60fb8e8_f4b6_11ed_bd11_089798d17901row1_col7\" class=\"data row1 col7\" >1.000000</td>\n",
       "            </tr>\n",
       "            <tr>\n",
       "                        <th id=\"T_a60fb8e8_f4b6_11ed_bd11_089798d17901level0_row2\" class=\"row_heading level0 row2\" >Heart rate</th>\n",
       "                        <td id=\"T_a60fb8e8_f4b6_11ed_bd11_089798d17901row2_col0\" class=\"data row2 col0\" >1319.000000</td>\n",
       "                        <td id=\"T_a60fb8e8_f4b6_11ed_bd11_089798d17901row2_col1\" class=\"data row2 col1\" >78.336619</td>\n",
       "                        <td id=\"T_a60fb8e8_f4b6_11ed_bd11_089798d17901row2_col2\" class=\"data row2 col2\" >51.630270</td>\n",
       "                        <td id=\"T_a60fb8e8_f4b6_11ed_bd11_089798d17901row2_col3\" class=\"data row2 col3\" >20.000000</td>\n",
       "                        <td id=\"T_a60fb8e8_f4b6_11ed_bd11_089798d17901row2_col4\" class=\"data row2 col4\" >64.000000</td>\n",
       "                        <td id=\"T_a60fb8e8_f4b6_11ed_bd11_089798d17901row2_col5\" class=\"data row2 col5\" >74.000000</td>\n",
       "                        <td id=\"T_a60fb8e8_f4b6_11ed_bd11_089798d17901row2_col6\" class=\"data row2 col6\" >85.000000</td>\n",
       "                        <td id=\"T_a60fb8e8_f4b6_11ed_bd11_089798d17901row2_col7\" class=\"data row2 col7\" >1111.000000</td>\n",
       "            </tr>\n",
       "            <tr>\n",
       "                        <th id=\"T_a60fb8e8_f4b6_11ed_bd11_089798d17901level0_row3\" class=\"row_heading level0 row3\" >Systolic blood pressure</th>\n",
       "                        <td id=\"T_a60fb8e8_f4b6_11ed_bd11_089798d17901row3_col0\" class=\"data row3 col0\" >1319.000000</td>\n",
       "                        <td id=\"T_a60fb8e8_f4b6_11ed_bd11_089798d17901row3_col1\" class=\"data row3 col1\" >127.170584</td>\n",
       "                        <td id=\"T_a60fb8e8_f4b6_11ed_bd11_089798d17901row3_col2\" class=\"data row3 col2\" >26.122720</td>\n",
       "                        <td id=\"T_a60fb8e8_f4b6_11ed_bd11_089798d17901row3_col3\" class=\"data row3 col3\" >42.000000</td>\n",
       "                        <td id=\"T_a60fb8e8_f4b6_11ed_bd11_089798d17901row3_col4\" class=\"data row3 col4\" >110.000000</td>\n",
       "                        <td id=\"T_a60fb8e8_f4b6_11ed_bd11_089798d17901row3_col5\" class=\"data row3 col5\" >124.000000</td>\n",
       "                        <td id=\"T_a60fb8e8_f4b6_11ed_bd11_089798d17901row3_col6\" class=\"data row3 col6\" >143.000000</td>\n",
       "                        <td id=\"T_a60fb8e8_f4b6_11ed_bd11_089798d17901row3_col7\" class=\"data row3 col7\" >223.000000</td>\n",
       "            </tr>\n",
       "            <tr>\n",
       "                        <th id=\"T_a60fb8e8_f4b6_11ed_bd11_089798d17901level0_row4\" class=\"row_heading level0 row4\" >Diastolic blood pressure</th>\n",
       "                        <td id=\"T_a60fb8e8_f4b6_11ed_bd11_089798d17901row4_col0\" class=\"data row4 col0\" >1319.000000</td>\n",
       "                        <td id=\"T_a60fb8e8_f4b6_11ed_bd11_089798d17901row4_col1\" class=\"data row4 col1\" >72.269143</td>\n",
       "                        <td id=\"T_a60fb8e8_f4b6_11ed_bd11_089798d17901row4_col2\" class=\"data row4 col2\" >14.033924</td>\n",
       "                        <td id=\"T_a60fb8e8_f4b6_11ed_bd11_089798d17901row4_col3\" class=\"data row4 col3\" >38.000000</td>\n",
       "                        <td id=\"T_a60fb8e8_f4b6_11ed_bd11_089798d17901row4_col4\" class=\"data row4 col4\" >62.000000</td>\n",
       "                        <td id=\"T_a60fb8e8_f4b6_11ed_bd11_089798d17901row4_col5\" class=\"data row4 col5\" >72.000000</td>\n",
       "                        <td id=\"T_a60fb8e8_f4b6_11ed_bd11_089798d17901row4_col6\" class=\"data row4 col6\" >81.000000</td>\n",
       "                        <td id=\"T_a60fb8e8_f4b6_11ed_bd11_089798d17901row4_col7\" class=\"data row4 col7\" >154.000000</td>\n",
       "            </tr>\n",
       "            <tr>\n",
       "                        <th id=\"T_a60fb8e8_f4b6_11ed_bd11_089798d17901level0_row5\" class=\"row_heading level0 row5\" >Blood sugar</th>\n",
       "                        <td id=\"T_a60fb8e8_f4b6_11ed_bd11_089798d17901row5_col0\" class=\"data row5 col0\" >1319.000000</td>\n",
       "                        <td id=\"T_a60fb8e8_f4b6_11ed_bd11_089798d17901row5_col1\" class=\"data row5 col1\" >146.634344</td>\n",
       "                        <td id=\"T_a60fb8e8_f4b6_11ed_bd11_089798d17901row5_col2\" class=\"data row5 col2\" >74.923045</td>\n",
       "                        <td id=\"T_a60fb8e8_f4b6_11ed_bd11_089798d17901row5_col3\" class=\"data row5 col3\" >35.000000</td>\n",
       "                        <td id=\"T_a60fb8e8_f4b6_11ed_bd11_089798d17901row5_col4\" class=\"data row5 col4\" >98.000000</td>\n",
       "                        <td id=\"T_a60fb8e8_f4b6_11ed_bd11_089798d17901row5_col5\" class=\"data row5 col5\" >116.000000</td>\n",
       "                        <td id=\"T_a60fb8e8_f4b6_11ed_bd11_089798d17901row5_col6\" class=\"data row5 col6\" >169.500000</td>\n",
       "                        <td id=\"T_a60fb8e8_f4b6_11ed_bd11_089798d17901row5_col7\" class=\"data row5 col7\" >541.000000</td>\n",
       "            </tr>\n",
       "            <tr>\n",
       "                        <th id=\"T_a60fb8e8_f4b6_11ed_bd11_089798d17901level0_row6\" class=\"row_heading level0 row6\" >CK-MB</th>\n",
       "                        <td id=\"T_a60fb8e8_f4b6_11ed_bd11_089798d17901row6_col0\" class=\"data row6 col0\" >1319.000000</td>\n",
       "                        <td id=\"T_a60fb8e8_f4b6_11ed_bd11_089798d17901row6_col1\" class=\"data row6 col1\" >15.274306</td>\n",
       "                        <td id=\"T_a60fb8e8_f4b6_11ed_bd11_089798d17901row6_col2\" class=\"data row6 col2\" >46.327083</td>\n",
       "                        <td id=\"T_a60fb8e8_f4b6_11ed_bd11_089798d17901row6_col3\" class=\"data row6 col3\" >0.321000</td>\n",
       "                        <td id=\"T_a60fb8e8_f4b6_11ed_bd11_089798d17901row6_col4\" class=\"data row6 col4\" >1.655000</td>\n",
       "                        <td id=\"T_a60fb8e8_f4b6_11ed_bd11_089798d17901row6_col5\" class=\"data row6 col5\" >2.850000</td>\n",
       "                        <td id=\"T_a60fb8e8_f4b6_11ed_bd11_089798d17901row6_col6\" class=\"data row6 col6\" >5.805000</td>\n",
       "                        <td id=\"T_a60fb8e8_f4b6_11ed_bd11_089798d17901row6_col7\" class=\"data row6 col7\" >300.000000</td>\n",
       "            </tr>\n",
       "            <tr>\n",
       "                        <th id=\"T_a60fb8e8_f4b6_11ed_bd11_089798d17901level0_row7\" class=\"row_heading level0 row7\" >Troponin</th>\n",
       "                        <td id=\"T_a60fb8e8_f4b6_11ed_bd11_089798d17901row7_col0\" class=\"data row7 col0\" >1319.000000</td>\n",
       "                        <td id=\"T_a60fb8e8_f4b6_11ed_bd11_089798d17901row7_col1\" class=\"data row7 col1\" >0.360942</td>\n",
       "                        <td id=\"T_a60fb8e8_f4b6_11ed_bd11_089798d17901row7_col2\" class=\"data row7 col2\" >1.154568</td>\n",
       "                        <td id=\"T_a60fb8e8_f4b6_11ed_bd11_089798d17901row7_col3\" class=\"data row7 col3\" >0.001000</td>\n",
       "                        <td id=\"T_a60fb8e8_f4b6_11ed_bd11_089798d17901row7_col4\" class=\"data row7 col4\" >0.006000</td>\n",
       "                        <td id=\"T_a60fb8e8_f4b6_11ed_bd11_089798d17901row7_col5\" class=\"data row7 col5\" >0.014000</td>\n",
       "                        <td id=\"T_a60fb8e8_f4b6_11ed_bd11_089798d17901row7_col6\" class=\"data row7 col6\" >0.085500</td>\n",
       "                        <td id=\"T_a60fb8e8_f4b6_11ed_bd11_089798d17901row7_col7\" class=\"data row7 col7\" >10.300000</td>\n",
       "            </tr>\n",
       "    </tbody></table>"
      ],
      "text/plain": [
       "<pandas.io.formats.style.Styler at 0x1849cc79e48>"
      ]
     },
     "execution_count": 154,
     "metadata": {},
     "output_type": "execute_result"
    }
   ],
   "source": [
    "df.describe().T.style.background_gradient(cmap='GnBu')"
   ]
  },
  {
   "cell_type": "code",
   "execution_count": 155,
   "metadata": {},
   "outputs": [],
   "source": [
    "dfs = DataFrameSummary(df)"
   ]
  },
  {
   "cell_type": "code",
   "execution_count": 156,
   "metadata": {},
   "outputs": [
    {
     "data": {
      "text/html": [
       "<div>\n",
       "<style scoped>\n",
       "    .dataframe tbody tr th:only-of-type {\n",
       "        vertical-align: middle;\n",
       "    }\n",
       "\n",
       "    .dataframe tbody tr th {\n",
       "        vertical-align: top;\n",
       "    }\n",
       "\n",
       "    .dataframe thead th {\n",
       "        text-align: right;\n",
       "    }\n",
       "</style>\n",
       "<table border=\"1\" class=\"dataframe\">\n",
       "  <thead>\n",
       "    <tr style=\"text-align: right;\">\n",
       "      <th></th>\n",
       "      <th>Age</th>\n",
       "      <th>Gender</th>\n",
       "      <th>Heart rate</th>\n",
       "      <th>Systolic blood pressure</th>\n",
       "      <th>Diastolic blood pressure</th>\n",
       "      <th>Blood sugar</th>\n",
       "      <th>CK-MB</th>\n",
       "      <th>Troponin</th>\n",
       "      <th>Result</th>\n",
       "    </tr>\n",
       "  </thead>\n",
       "  <tbody>\n",
       "    <tr>\n",
       "      <th>count</th>\n",
       "      <td>1319</td>\n",
       "      <td>1319</td>\n",
       "      <td>1319</td>\n",
       "      <td>1319</td>\n",
       "      <td>1319</td>\n",
       "      <td>1319</td>\n",
       "      <td>1319</td>\n",
       "      <td>1319</td>\n",
       "      <td>NaN</td>\n",
       "    </tr>\n",
       "    <tr>\n",
       "      <th>mean</th>\n",
       "      <td>56.1918</td>\n",
       "      <td>0.659591</td>\n",
       "      <td>78.3366</td>\n",
       "      <td>127.171</td>\n",
       "      <td>72.2691</td>\n",
       "      <td>146.634</td>\n",
       "      <td>15.2743</td>\n",
       "      <td>0.360942</td>\n",
       "      <td>NaN</td>\n",
       "    </tr>\n",
       "    <tr>\n",
       "      <th>std</th>\n",
       "      <td>13.6473</td>\n",
       "      <td>0.474027</td>\n",
       "      <td>51.6303</td>\n",
       "      <td>26.1227</td>\n",
       "      <td>14.0339</td>\n",
       "      <td>74.923</td>\n",
       "      <td>46.3271</td>\n",
       "      <td>1.15457</td>\n",
       "      <td>NaN</td>\n",
       "    </tr>\n",
       "    <tr>\n",
       "      <th>min</th>\n",
       "      <td>14</td>\n",
       "      <td>0</td>\n",
       "      <td>20</td>\n",
       "      <td>42</td>\n",
       "      <td>38</td>\n",
       "      <td>35</td>\n",
       "      <td>0.321</td>\n",
       "      <td>0.001</td>\n",
       "      <td>NaN</td>\n",
       "    </tr>\n",
       "    <tr>\n",
       "      <th>25%</th>\n",
       "      <td>47</td>\n",
       "      <td>0</td>\n",
       "      <td>64</td>\n",
       "      <td>110</td>\n",
       "      <td>62</td>\n",
       "      <td>98</td>\n",
       "      <td>1.655</td>\n",
       "      <td>0.006</td>\n",
       "      <td>NaN</td>\n",
       "    </tr>\n",
       "    <tr>\n",
       "      <th>50%</th>\n",
       "      <td>58</td>\n",
       "      <td>1</td>\n",
       "      <td>74</td>\n",
       "      <td>124</td>\n",
       "      <td>72</td>\n",
       "      <td>116</td>\n",
       "      <td>2.85</td>\n",
       "      <td>0.014</td>\n",
       "      <td>NaN</td>\n",
       "    </tr>\n",
       "    <tr>\n",
       "      <th>75%</th>\n",
       "      <td>65</td>\n",
       "      <td>1</td>\n",
       "      <td>85</td>\n",
       "      <td>143</td>\n",
       "      <td>81</td>\n",
       "      <td>169.5</td>\n",
       "      <td>5.805</td>\n",
       "      <td>0.0855</td>\n",
       "      <td>NaN</td>\n",
       "    </tr>\n",
       "    <tr>\n",
       "      <th>max</th>\n",
       "      <td>103</td>\n",
       "      <td>1</td>\n",
       "      <td>1111</td>\n",
       "      <td>223</td>\n",
       "      <td>154</td>\n",
       "      <td>541</td>\n",
       "      <td>300</td>\n",
       "      <td>10.3</td>\n",
       "      <td>NaN</td>\n",
       "    </tr>\n",
       "    <tr>\n",
       "      <th>counts</th>\n",
       "      <td>1319</td>\n",
       "      <td>1319</td>\n",
       "      <td>1319</td>\n",
       "      <td>1319</td>\n",
       "      <td>1319</td>\n",
       "      <td>1319</td>\n",
       "      <td>1319</td>\n",
       "      <td>1319</td>\n",
       "      <td>1319</td>\n",
       "    </tr>\n",
       "    <tr>\n",
       "      <th>uniques</th>\n",
       "      <td>75</td>\n",
       "      <td>2</td>\n",
       "      <td>79</td>\n",
       "      <td>116</td>\n",
       "      <td>73</td>\n",
       "      <td>244</td>\n",
       "      <td>700</td>\n",
       "      <td>352</td>\n",
       "      <td>2</td>\n",
       "    </tr>\n",
       "    <tr>\n",
       "      <th>missing</th>\n",
       "      <td>0</td>\n",
       "      <td>0</td>\n",
       "      <td>0</td>\n",
       "      <td>0</td>\n",
       "      <td>0</td>\n",
       "      <td>0</td>\n",
       "      <td>0</td>\n",
       "      <td>0</td>\n",
       "      <td>0</td>\n",
       "    </tr>\n",
       "    <tr>\n",
       "      <th>missing_perc</th>\n",
       "      <td>0%</td>\n",
       "      <td>0%</td>\n",
       "      <td>0%</td>\n",
       "      <td>0%</td>\n",
       "      <td>0%</td>\n",
       "      <td>0%</td>\n",
       "      <td>0%</td>\n",
       "      <td>0%</td>\n",
       "      <td>0%</td>\n",
       "    </tr>\n",
       "    <tr>\n",
       "      <th>types</th>\n",
       "      <td>numeric</td>\n",
       "      <td>bool</td>\n",
       "      <td>numeric</td>\n",
       "      <td>numeric</td>\n",
       "      <td>numeric</td>\n",
       "      <td>numeric</td>\n",
       "      <td>numeric</td>\n",
       "      <td>numeric</td>\n",
       "      <td>bool</td>\n",
       "    </tr>\n",
       "  </tbody>\n",
       "</table>\n",
       "</div>"
      ],
      "text/plain": [
       "                  Age    Gender Heart rate Systolic blood pressure  \\\n",
       "count            1319      1319       1319                    1319   \n",
       "mean          56.1918  0.659591    78.3366                 127.171   \n",
       "std           13.6473  0.474027    51.6303                 26.1227   \n",
       "min                14         0         20                      42   \n",
       "25%                47         0         64                     110   \n",
       "50%                58         1         74                     124   \n",
       "75%                65         1         85                     143   \n",
       "max               103         1       1111                     223   \n",
       "counts           1319      1319       1319                    1319   \n",
       "uniques            75         2         79                     116   \n",
       "missing             0         0          0                       0   \n",
       "missing_perc       0%        0%         0%                      0%   \n",
       "types         numeric      bool    numeric                 numeric   \n",
       "\n",
       "             Diastolic blood pressure Blood sugar    CK-MB  Troponin Result  \n",
       "count                            1319        1319     1319      1319    NaN  \n",
       "mean                          72.2691     146.634  15.2743  0.360942    NaN  \n",
       "std                           14.0339      74.923  46.3271   1.15457    NaN  \n",
       "min                                38          35    0.321     0.001    NaN  \n",
       "25%                                62          98    1.655     0.006    NaN  \n",
       "50%                                72         116     2.85     0.014    NaN  \n",
       "75%                                81       169.5    5.805    0.0855    NaN  \n",
       "max                               154         541      300      10.3    NaN  \n",
       "counts                           1319        1319     1319      1319   1319  \n",
       "uniques                            73         244      700       352      2  \n",
       "missing                             0           0        0         0      0  \n",
       "missing_perc                       0%          0%       0%        0%     0%  \n",
       "types                         numeric     numeric  numeric   numeric   bool  "
      ]
     },
     "execution_count": 156,
     "metadata": {},
     "output_type": "execute_result"
    }
   ],
   "source": [
    "dfs.summary()"
   ]
  },
  {
   "cell_type": "code",
   "execution_count": 157,
   "metadata": {},
   "outputs": [],
   "source": [
    "numeric_types  = df.select_dtypes(include=['float64', 'int64'])"
   ]
  },
  {
   "cell_type": "code",
   "execution_count": 158,
   "metadata": {},
   "outputs": [
    {
     "data": {
      "text/html": [
       "<div>\n",
       "<style scoped>\n",
       "    .dataframe tbody tr th:only-of-type {\n",
       "        vertical-align: middle;\n",
       "    }\n",
       "\n",
       "    .dataframe tbody tr th {\n",
       "        vertical-align: top;\n",
       "    }\n",
       "\n",
       "    .dataframe thead th {\n",
       "        text-align: right;\n",
       "    }\n",
       "</style>\n",
       "<table border=\"1\" class=\"dataframe\">\n",
       "  <thead>\n",
       "    <tr style=\"text-align: right;\">\n",
       "      <th></th>\n",
       "      <th>Age</th>\n",
       "      <th>Gender</th>\n",
       "      <th>Heart rate</th>\n",
       "      <th>Systolic blood pressure</th>\n",
       "      <th>Diastolic blood pressure</th>\n",
       "      <th>Blood sugar</th>\n",
       "      <th>CK-MB</th>\n",
       "      <th>Troponin</th>\n",
       "    </tr>\n",
       "  </thead>\n",
       "  <tbody>\n",
       "    <tr>\n",
       "      <th>0</th>\n",
       "      <td>64</td>\n",
       "      <td>1</td>\n",
       "      <td>66</td>\n",
       "      <td>160</td>\n",
       "      <td>83</td>\n",
       "      <td>160.0</td>\n",
       "      <td>1.80</td>\n",
       "      <td>0.012</td>\n",
       "    </tr>\n",
       "    <tr>\n",
       "      <th>1</th>\n",
       "      <td>21</td>\n",
       "      <td>1</td>\n",
       "      <td>94</td>\n",
       "      <td>98</td>\n",
       "      <td>46</td>\n",
       "      <td>296.0</td>\n",
       "      <td>6.75</td>\n",
       "      <td>1.060</td>\n",
       "    </tr>\n",
       "    <tr>\n",
       "      <th>2</th>\n",
       "      <td>55</td>\n",
       "      <td>1</td>\n",
       "      <td>64</td>\n",
       "      <td>160</td>\n",
       "      <td>77</td>\n",
       "      <td>270.0</td>\n",
       "      <td>1.99</td>\n",
       "      <td>0.003</td>\n",
       "    </tr>\n",
       "    <tr>\n",
       "      <th>3</th>\n",
       "      <td>64</td>\n",
       "      <td>1</td>\n",
       "      <td>70</td>\n",
       "      <td>120</td>\n",
       "      <td>55</td>\n",
       "      <td>270.0</td>\n",
       "      <td>13.87</td>\n",
       "      <td>0.122</td>\n",
       "    </tr>\n",
       "    <tr>\n",
       "      <th>4</th>\n",
       "      <td>55</td>\n",
       "      <td>1</td>\n",
       "      <td>64</td>\n",
       "      <td>112</td>\n",
       "      <td>65</td>\n",
       "      <td>300.0</td>\n",
       "      <td>1.08</td>\n",
       "      <td>0.003</td>\n",
       "    </tr>\n",
       "    <tr>\n",
       "      <th>...</th>\n",
       "      <td>...</td>\n",
       "      <td>...</td>\n",
       "      <td>...</td>\n",
       "      <td>...</td>\n",
       "      <td>...</td>\n",
       "      <td>...</td>\n",
       "      <td>...</td>\n",
       "      <td>...</td>\n",
       "    </tr>\n",
       "    <tr>\n",
       "      <th>1314</th>\n",
       "      <td>44</td>\n",
       "      <td>1</td>\n",
       "      <td>94</td>\n",
       "      <td>122</td>\n",
       "      <td>67</td>\n",
       "      <td>204.0</td>\n",
       "      <td>1.63</td>\n",
       "      <td>0.006</td>\n",
       "    </tr>\n",
       "    <tr>\n",
       "      <th>1315</th>\n",
       "      <td>66</td>\n",
       "      <td>1</td>\n",
       "      <td>84</td>\n",
       "      <td>125</td>\n",
       "      <td>55</td>\n",
       "      <td>149.0</td>\n",
       "      <td>1.33</td>\n",
       "      <td>0.172</td>\n",
       "    </tr>\n",
       "    <tr>\n",
       "      <th>1316</th>\n",
       "      <td>45</td>\n",
       "      <td>1</td>\n",
       "      <td>85</td>\n",
       "      <td>168</td>\n",
       "      <td>104</td>\n",
       "      <td>96.0</td>\n",
       "      <td>1.24</td>\n",
       "      <td>4.250</td>\n",
       "    </tr>\n",
       "    <tr>\n",
       "      <th>1317</th>\n",
       "      <td>54</td>\n",
       "      <td>1</td>\n",
       "      <td>58</td>\n",
       "      <td>117</td>\n",
       "      <td>68</td>\n",
       "      <td>443.0</td>\n",
       "      <td>5.80</td>\n",
       "      <td>0.359</td>\n",
       "    </tr>\n",
       "    <tr>\n",
       "      <th>1318</th>\n",
       "      <td>51</td>\n",
       "      <td>1</td>\n",
       "      <td>94</td>\n",
       "      <td>157</td>\n",
       "      <td>79</td>\n",
       "      <td>134.0</td>\n",
       "      <td>50.89</td>\n",
       "      <td>1.770</td>\n",
       "    </tr>\n",
       "  </tbody>\n",
       "</table>\n",
       "<p>1319 rows × 8 columns</p>\n",
       "</div>"
      ],
      "text/plain": [
       "      Age  Gender  Heart rate  Systolic blood pressure  \\\n",
       "0      64       1          66                      160   \n",
       "1      21       1          94                       98   \n",
       "2      55       1          64                      160   \n",
       "3      64       1          70                      120   \n",
       "4      55       1          64                      112   \n",
       "...   ...     ...         ...                      ...   \n",
       "1314   44       1          94                      122   \n",
       "1315   66       1          84                      125   \n",
       "1316   45       1          85                      168   \n",
       "1317   54       1          58                      117   \n",
       "1318   51       1          94                      157   \n",
       "\n",
       "      Diastolic blood pressure  Blood sugar  CK-MB  Troponin  \n",
       "0                           83        160.0   1.80     0.012  \n",
       "1                           46        296.0   6.75     1.060  \n",
       "2                           77        270.0   1.99     0.003  \n",
       "3                           55        270.0  13.87     0.122  \n",
       "4                           65        300.0   1.08     0.003  \n",
       "...                        ...          ...    ...       ...  \n",
       "1314                        67        204.0   1.63     0.006  \n",
       "1315                        55        149.0   1.33     0.172  \n",
       "1316                       104         96.0   1.24     4.250  \n",
       "1317                        68        443.0   5.80     0.359  \n",
       "1318                        79        134.0  50.89     1.770  \n",
       "\n",
       "[1319 rows x 8 columns]"
      ]
     },
     "execution_count": 158,
     "metadata": {},
     "output_type": "execute_result"
    }
   ],
   "source": [
    "numeric_types"
   ]
  },
  {
   "cell_type": "code",
   "execution_count": 159,
   "metadata": {},
   "outputs": [
    {
     "data": {
      "text/plain": [
       "pandas.core.frame.DataFrame"
      ]
     },
     "execution_count": 159,
     "metadata": {},
     "output_type": "execute_result"
    }
   ],
   "source": [
    "type(numeric_types)"
   ]
  },
  {
   "cell_type": "code",
   "execution_count": 160,
   "metadata": {},
   "outputs": [
    {
     "data": {
      "text/plain": [
       "<matplotlib.axes._subplots.AxesSubplot at 0x1849cd7f408>"
      ]
     },
     "execution_count": 160,
     "metadata": {},
     "output_type": "execute_result"
    },
    {
     "data": {
      "image/png": "[encoded data removed]",
      "text/plain": [
       "<Figure size 720x720 with 2 Axes>"
      ]
     },
     "metadata": {},
     "output_type": "display_data"
    }
   ],
   "source": [
    "plt.figure(figsize=(10,10))\n",
    "sns.heatmap(df.corr(), cmap=\"RdBu\", annot=True)"
   ]
  },
  {
   "cell_type": "code",
   "execution_count": 161,
   "metadata": {},
   "outputs": [],
   "source": [
    "titles = numeric_types.columns"
   ]
  },
  {
   "cell_type": "code",
   "execution_count": 162,
   "metadata": {},
   "outputs": [
    {
     "data": {
      "image/png": "[encoded data removed]",
      "text/plain": [
       "<Figure size 864x1296 with 8 Axes>"
      ]
     },
     "metadata": {},
     "output_type": "display_data"
    }
   ],
   "source": [
    "plt.figure(figsize=(12,18))\n",
    "for i, variable in enumerate(numeric_types):\n",
    "    plt.subplot(4,3,i+1)\n",
    "    sns.set_palette('Set2')\n",
    "    sns.boxplot(x=df[variable],data=df,orient=\"v\")\n",
    "    sns.despine(top=True,right=True,left=True)\n",
    "    plt.tight_layout()\n",
    "    plt.title(titles[i],size = 18)"
   ]
  },
  {
   "cell_type": "code",
   "execution_count": 163,
   "metadata": {},
   "outputs": [],
   "source": [
    "result_vc = df[\"Result\"].value_counts()"
   ]
  },
  {
   "cell_type": "code",
   "execution_count": 164,
   "metadata": {},
   "outputs": [
    {
     "data": {
      "application/vnd.plotly.v1+json": {
       "config": {
        "plotlyServerURL": "https://plot.ly"
       },
       "data": [
        {
         "alignmentgroup": "True",
         "hovertemplate": "Result=%{x}<br>Results Count=%{y}<extra></extra>",
         "legendgroup": "positive",
         "marker": {
          "color": "#3366CC",
          "pattern": {
           "shape": ""
          }
         },
         "name": "positive",
         "offsetgroup": "positive",
         "orientation": "v",
         "showlegend": true,
         "textposition": "auto",
         "type": "bar",
         "x": [
          "positive"
         ],
         "xaxis": "x",
         "y": [
          810
         ],
         "yaxis": "y"
        },
        {
         "alignmentgroup": "True",
         "hovertemplate": "Result=%{x}<br>Results Count=%{y}<extra></extra>",
         "legendgroup": "negative",
         "marker": {
          "color": "#DC3912",
          "pattern": {
           "shape": ""
          }
         },
         "name": "negative",
         "offsetgroup": "negative",
         "orientation": "v",
         "showlegend": true,
         "textposition": "auto",
         "type": "bar",
         "x": [
          "negative"
         ],
         "xaxis": "x",
         "y": [
          509
         ],
         "yaxis": "y"
        }
       ],
       "layout": {
        "barmode": "relative",
        "legend": {
         "title": {
          "text": "Result"
         },
         "tracegroupgap": 0
        },
        "template": {
         "data": {
          "bar": [
           {
            "error_x": {
             "color": "#2a3f5f"
            },
            "error_y": {
             "color": "#2a3f5f"
            },
            "marker": {
             "line": {
              "color": "#E5ECF6",
              "width": 0.5
             },
             "pattern": {
              "fillmode": "overlay",
              "size": 10,
              "solidity": 0.2
             }
            },
            "type": "bar"
           }
          ],
          "barpolar": [
           {
            "marker": {
             "line": {
              "color": "#E5ECF6",
              "width": 0.5
             },
             "pattern": {
              "fillmode": "overlay",
              "size": 10,
              "solidity": 0.2
             }
            },
            "type": "barpolar"
           }
          ],
          "carpet": [
           {
            "aaxis": {
             "endlinecolor": "#2a3f5f",
             "gridcolor": "white",
             "linecolor": "white",
             "minorgridcolor": "white",
             "startlinecolor": "#2a3f5f"
            },
            "baxis": {
             "endlinecolor": "#2a3f5f",
             "gridcolor": "white",
             "linecolor": "white",
             "minorgridcolor": "white",
             "startlinecolor": "#2a3f5f"
            },
            "type": "carpet"
           }
          ],
          "choropleth": [
           {
            "colorbar": {
             "outlinewidth": 0,
             "ticks": ""
            },
            "type": "choropleth"
           }
          ],
          "contour": [
           {
            "colorbar": {
             "outlinewidth": 0,
             "ticks": ""
            },
            "colorscale": [
             [
              0,
              "#0d0887"
             ],
             [
              0.1111111111111111,
              "#46039f"
             ],
             [
              0.2222222222222222,
              "#7201a8"
             ],
             [
              0.3333333333333333,
              "#9c179e"
             ],
             [
              0.4444444444444444,
              "#bd3786"
             ],
             [
              0.5555555555555556,
              "#d8576b"
             ],
             [
              0.6666666666666666,
              "#ed7953"
             ],
             [
              0.7777777777777778,
              "#fb9f3a"
             ],
             [
              0.8888888888888888,
              "#fdca26"
             ],
             [
              1,
              "#f0f921"
             ]
            ],
            "type": "contour"
           }
          ],
          "contourcarpet": [
           {
            "colorbar": {
             "outlinewidth": 0,
             "ticks": ""
            },
            "type": "contourcarpet"
           }
          ],
          "heatmap": [
           {
            "colorbar": {
             "outlinewidth": 0,
             "ticks": ""
            },
            "colorscale": [
             [
              0,
              "#0d0887"
             ],
             [
              0.1111111111111111,
              "#46039f"
             ],
             [
              0.2222222222222222,
              "#7201a8"
             ],
             [
              0.3333333333333333,
              "#9c179e"
             ],
             [
              0.4444444444444444,
              "#bd3786"
             ],
             [
              0.5555555555555556,
              "#d8576b"
             ],
             [
              0.6666666666666666,
              "#ed7953"
             ],
             [
              0.7777777777777778,
              "#fb9f3a"
             ],
             [
              0.8888888888888888,
              "#fdca26"
             ],
             [
              1,
              "#f0f921"
             ]
            ],
            "type": "heatmap"
           }
          ],
          "heatmapgl": [
           {
            "colorbar": {
             "outlinewidth": 0,
             "ticks": ""
            },
            "colorscale": [
             [
              0,
              "#0d0887"
             ],
             [
              0.1111111111111111,
              "#46039f"
             ],
             [
              0.2222222222222222,
              "#7201a8"
             ],
             [
              0.3333333333333333,
              "#9c179e"
             ],
             [
              0.4444444444444444,
              "#bd3786"
             ],
             [
              0.5555555555555556,
              "#d8576b"
             ],
             [
              0.6666666666666666,
              "#ed7953"
             ],
             [
              0.7777777777777778,
              "#fb9f3a"
             ],
             [
              0.8888888888888888,
              "#fdca26"
             ],
             [
              1,
              "#f0f921"
             ]
            ],
            "type": "heatmapgl"
           }
          ],
          "histogram": [
           {
            "marker": {
             "pattern": {
              "fillmode": "overlay",
              "size": 10,
              "solidity": 0.2
             }
            },
            "type": "histogram"
           }
          ],
          "histogram2d": [
           {
            "colorbar": {
             "outlinewidth": 0,
             "ticks": ""
            },
            "colorscale": [
             [
              0,
              "#0d0887"
             ],
             [
              0.1111111111111111,
              "#46039f"
             ],
             [
              0.2222222222222222,
              "#7201a8"
             ],
             [
              0.3333333333333333,
              "#9c179e"
             ],
             [
              0.4444444444444444,
              "#bd3786"
             ],
             [
              0.5555555555555556,
              "#d8576b"
             ],
             [
              0.6666666666666666,
              "#ed7953"
             ],
             [
              0.7777777777777778,
              "#fb9f3a"
             ],
             [
              0.8888888888888888,
              "#fdca26"
             ],
             [
              1,
              "#f0f921"
             ]
            ],
            "type": "histogram2d"
           }
          ],
          "histogram2dcontour": [
           {
            "colorbar": {
             "outlinewidth": 0,
             "ticks": ""
            },
            "colorscale": [
             [
              0,
              "#0d0887"
             ],
             [
              0.1111111111111111,
              "#46039f"
             ],
             [
              0.2222222222222222,
              "#7201a8"
             ],
             [
              0.3333333333333333,
              "#9c179e"
             ],
             [
              0.4444444444444444,
              "#bd3786"
             ],
             [
              0.5555555555555556,
              "#d8576b"
             ],
             [
              0.6666666666666666,
              "#ed7953"
             ],
             [
              0.7777777777777778,
              "#fb9f3a"
             ],
             [
              0.8888888888888888,
              "#fdca26"
             ],
             [
              1,
              "#f0f921"
             ]
            ],
            "type": "histogram2dcontour"
           }
          ],
          "mesh3d": [
           {
            "colorbar": {
             "outlinewidth": 0,
             "ticks": ""
            },
            "type": "mesh3d"
           }
          ],
          "parcoords": [
           {
            "line": {
             "colorbar": {
              "outlinewidth": 0,
              "ticks": ""
             }
            },
            "type": "parcoords"
           }
          ],
          "pie": [
           {
            "automargin": true,
            "type": "pie"
           }
          ],
          "scatter": [
           {
            "fillpattern": {
             "fillmode": "overlay",
             "size": 10,
             "solidity": 0.2
            },
            "type": "scatter"
           }
          ],
          "scatter3d": [
           {
            "line": {
             "colorbar": {
              "outlinewidth": 0,
              "ticks": ""
             }
            },
            "marker": {
             "colorbar": {
              "outlinewidth": 0,
              "ticks": ""
             }
            },
            "type": "scatter3d"
           }
          ],
          "scattercarpet": [
           {
            "marker": {
             "colorbar": {
              "outlinewidth": 0,
              "ticks": ""
             }
            },
            "type": "scattercarpet"
           }
          ],
          "scattergeo": [
           {
            "marker": {
             "colorbar": {
              "outlinewidth": 0,
              "ticks": ""
             }
            },
            "type": "scattergeo"
           }
          ],
          "scattergl": [
           {
            "marker": {
             "colorbar": {
              "outlinewidth": 0,
              "ticks": ""
             }
            },
            "type": "scattergl"
           }
          ],
          "scattermapbox": [
           {
            "marker": {
             "colorbar": {
              "outlinewidth": 0,
              "ticks": ""
             }
            },
            "type": "scattermapbox"
           }
          ],
          "scatterpolar": [
           {
            "marker": {
             "colorbar": {
              "outlinewidth": 0,
              "ticks": ""
             }
            },
            "type": "scatterpolar"
           }
          ],
          "scatterpolargl": [
           {
            "marker": {
             "colorbar": {
              "outlinewidth": 0,
              "ticks": ""
             }
            },
            "type": "scatterpolargl"
           }
          ],
          "scatterternary": [
           {
            "marker": {
             "colorbar": {
              "outlinewidth": 0,
              "ticks": ""
             }
            },
            "type": "scatterternary"
           }
          ],
          "surface": [
           {
            "colorbar": {
             "outlinewidth": 0,
             "ticks": ""
            },
            "colorscale": [
             [
              0,
              "#0d0887"
             ],
             [
              0.1111111111111111,
              "#46039f"
             ],
             [
              0.2222222222222222,
              "#7201a8"
             ],
             [
              0.3333333333333333,
              "#9c179e"
             ],
             [
              0.4444444444444444,
              "#bd3786"
             ],
             [
              0.5555555555555556,
              "#d8576b"
             ],
             [
              0.6666666666666666,
              "#ed7953"
             ],
             [
              0.7777777777777778,
              "#fb9f3a"
             ],
             [
              0.8888888888888888,
              "#fdca26"
             ],
             [
              1,
              "#f0f921"
             ]
            ],
            "type": "surface"
           }
          ],
          "table": [
           {
            "cells": {
             "fill": {
              "color": "#EBF0F8"
             },
             "line": {
              "color": "white"
             }
            },
            "header": {
             "fill": {
              "color": "#C8D4E3"
             },
             "line": {
              "color": "white"
             }
            },
            "type": "table"
           }
          ]
         },
         "layout": {
          "annotationdefaults": {
           "arrowcolor": "#2a3f5f",
           "arrowhead": 0,
           "arrowwidth": 1
          },
          "autotypenumbers": "strict",
          "coloraxis": {
           "colorbar": {
            "outlinewidth": 0,
            "ticks": ""
           }
          },
          "colorscale": {
           "diverging": [
            [
             0,
             "#8e0152"
            ],
            [
             0.1,
             "#c51b7d"
            ],
            [
             0.2,
             "#de77ae"
            ],
            [
             0.3,
             "#f1b6da"
            ],
            [
             0.4,
             "#fde0ef"
            ],
            [
             0.5,
             "#f7f7f7"
            ],
            [
             0.6,
             "#e6f5d0"
            ],
            [
             0.7,
             "#b8e186"
            ],
            [
             0.8,
             "#7fbc41"
            ],
            [
             0.9,
             "#4d9221"
            ],
            [
             1,
             "#276419"
            ]
           ],
           "sequential": [
            [
             0,
             "#0d0887"
            ],
            [
             0.1111111111111111,
             "#46039f"
            ],
            [
             0.2222222222222222,
             "#7201a8"
            ],
            [
             0.3333333333333333,
             "#9c179e"
            ],
            [
             0.4444444444444444,
             "#bd3786"
            ],
            [
             0.5555555555555556,
             "#d8576b"
            ],
            [
             0.6666666666666666,
             "#ed7953"
            ],
            [
             0.7777777777777778,
             "#fb9f3a"
            ],
            [
             0.8888888888888888,
             "#fdca26"
            ],
            [
             1,
             "#f0f921"
            ]
           ],
           "sequentialminus": [
            [
             0,
             "#0d0887"
            ],
            [
             0.1111111111111111,
             "#46039f"
            ],
            [
             0.2222222222222222,
             "#7201a8"
            ],
            [
             0.3333333333333333,
             "#9c179e"
            ],
            [
             0.4444444444444444,
             "#bd3786"
            ],
            [
             0.5555555555555556,
             "#d8576b"
            ],
            [
             0.6666666666666666,
             "#ed7953"
            ],
            [
             0.7777777777777778,
             "#fb9f3a"
            ],
            [
             0.8888888888888888,
             "#fdca26"
            ],
            [
             1,
             "#f0f921"
            ]
           ]
          },
          "colorway": [
           "#636efa",
           "#EF553B",
           "#00cc96",
           "#ab63fa",
           "#FFA15A",
           "#19d3f3",
           "#FF6692",
           "#B6E880",
           "#FF97FF",
           "#FECB52"
          ],
          "font": {
           "color": "#2a3f5f"
          },
          "geo": {
           "bgcolor": "white",
           "lakecolor": "white",
           "landcolor": "#E5ECF6",
           "showlakes": true,
           "showland": true,
           "subunitcolor": "white"
          },
          "hoverlabel": {
           "align": "left"
          },
          "hovermode": "closest",
          "mapbox": {
           "style": "light"
          },
          "paper_bgcolor": "white",
          "plot_bgcolor": "#E5ECF6",
          "polar": {
           "angularaxis": {
            "gridcolor": "white",
            "linecolor": "white",
            "ticks": ""
           },
           "bgcolor": "#E5ECF6",
           "radialaxis": {
            "gridcolor": "white",
            "linecolor": "white",
            "ticks": ""
           }
          },
          "scene": {
           "xaxis": {
            "backgroundcolor": "#E5ECF6",
            "gridcolor": "white",
            "gridwidth": 2,
            "linecolor": "white",
            "showbackground": true,
            "ticks": "",
            "zerolinecolor": "white"
           },
           "yaxis": {
            "backgroundcolor": "#E5ECF6",
            "gridcolor": "white",
            "gridwidth": 2,
            "linecolor": "white",
            "showbackground": true,
            "ticks": "",
            "zerolinecolor": "white"
           },
           "zaxis": {
            "backgroundcolor": "#E5ECF6",
            "gridcolor": "white",
            "gridwidth": 2,
            "linecolor": "white",
            "showbackground": true,
            "ticks": "",
            "zerolinecolor": "white"
           }
          },
          "shapedefaults": {
           "line": {
            "color": "#2a3f5f"
           }
          },
          "ternary": {
           "aaxis": {
            "gridcolor": "white",
            "linecolor": "white",
            "ticks": ""
           },
           "baxis": {
            "gridcolor": "white",
            "linecolor": "white",
            "ticks": ""
           },
           "bgcolor": "#E5ECF6",
           "caxis": {
            "gridcolor": "white",
            "linecolor": "white",
            "ticks": ""
           }
          },
          "title": {
           "x": 0.05
          },
          "xaxis": {
           "automargin": true,
           "gridcolor": "white",
           "linecolor": "white",
           "ticks": "",
           "title": {
            "standoff": 15
           },
           "zerolinecolor": "white",
           "zerolinewidth": 2
          },
          "yaxis": {
           "automargin": true,
           "gridcolor": "white",
           "linecolor": "white",
           "ticks": "",
           "title": {
            "standoff": 15
           },
           "zerolinecolor": "white",
           "zerolinewidth": 2
          }
         }
        },
        "title": {
         "text": "Train Dataset Result Wise Count"
        },
        "xaxis": {
         "anchor": "y",
         "categoryarray": [
          "positive",
          "negative"
         ],
         "categoryorder": "array",
         "domain": [
          0,
          1
         ],
         "title": {
          "text": "Result"
         }
        },
        "yaxis": {
         "anchor": "x",
         "domain": [
          0,
          1
         ],
         "title": {
          "text": "Results Count"
         }
        }
       }
      },
      "text/html": [
       "<div>                            <div id=\"ae1e3710-2c97-429d-a7bb-bb342e5414b7\" class=\"plotly-graph-div\" style=\"height:525px; width:100%;\"></div>            <script type=\"text/javascript\">                require([\"plotly\"], function(Plotly) {                    window.PLOTLYENV=window.PLOTLYENV || {};                                    if (document.getElementById(\"ae1e3710-2c97-429d-a7bb-bb342e5414b7\")) {                    Plotly.newPlot(                        \"ae1e3710-2c97-429d-a7bb-bb342e5414b7\",                        [{\"alignmentgroup\":\"True\",\"hovertemplate\":\"Result=%{x}<br>Results Count=%{y}<extra></extra>\",\"legendgroup\":\"positive\",\"marker\":{\"color\":\"#3366CC\",\"pattern\":{\"shape\":\"\"}},\"name\":\"positive\",\"offsetgroup\":\"positive\",\"orientation\":\"v\",\"showlegend\":true,\"textposition\":\"auto\",\"x\":[\"positive\"],\"xaxis\":\"x\",\"y\":[810],\"yaxis\":\"y\",\"type\":\"bar\"},{\"alignmentgroup\":\"True\",\"hovertemplate\":\"Result=%{x}<br>Results Count=%{y}<extra></extra>\",\"legendgroup\":\"negative\",\"marker\":{\"color\":\"#DC3912\",\"pattern\":{\"shape\":\"\"}},\"name\":\"negative\",\"offsetgroup\":\"negative\",\"orientation\":\"v\",\"showlegend\":true,\"textposition\":\"auto\",\"x\":[\"negative\"],\"xaxis\":\"x\",\"y\":[509],\"yaxis\":\"y\",\"type\":\"bar\"}],                        {\"template\":{\"data\":{\"histogram2dcontour\":[{\"type\":\"histogram2dcontour\",\"colorbar\":{\"outlinewidth\":0,\"ticks\":\"\"},\"colorscale\":[[0.0,\"#0d0887\"],[0.1111111111111111,\"#46039f\"],[0.2222222222222222,\"#7201a8\"],[0.3333333333333333,\"#9c179e\"],[0.4444444444444444,\"#bd3786\"],[0.5555555555555556,\"#d8576b\"],[0.6666666666666666,\"#ed7953\"],[0.7777777777777778,\"#fb9f3a\"],[0.8888888888888888,\"#fdca26\"],[1.0,\"#f0f921\"]]}],\"choropleth\":[{\"type\":\"choropleth\",\"colorbar\":{\"outlinewidth\":0,\"ticks\":\"\"}}],\"histogram2d\":[{\"type\":\"histogram2d\",\"colorbar\":{\"outlinewidth\":0,\"ticks\":\"\"},\"colorscale\":[[0.0,\"#0d0887\"],[0.1111111111111111,\"#46039f\"],[0.2222222222222222,\"#7201a8\"],[0.3333333333333333,\"#9c179e\"],[0.4444444444444444,\"#bd3786\"],[0.5555555555555556,\"#d8576b\"],[0.6666666666666666,\"#ed7953\"],[0.7777777777777778,\"#fb9f3a\"],[0.8888888888888888,\"#fdca26\"],[1.0,\"#f0f921\"]]}],\"heatmap\":[{\"type\":\"heatmap\",\"colorbar\":{\"outlinewidth\":0,\"ticks\":\"\"},\"colorscale\":[[0.0,\"#0d0887\"],[0.1111111111111111,\"#46039f\"],[0.2222222222222222,\"#7201a8\"],[0.3333333333333333,\"#9c179e\"],[0.4444444444444444,\"#bd3786\"],[0.5555555555555556,\"#d8576b\"],[0.6666666666666666,\"#ed7953\"],[0.7777777777777778,\"#fb9f3a\"],[0.8888888888888888,\"#fdca26\"],[1.0,\"#f0f921\"]]}],\"heatmapgl\":[{\"type\":\"heatmapgl\",\"colorbar\":{\"outlinewidth\":0,\"ticks\":\"\"},\"colorscale\":[[0.0,\"#0d0887\"],[0.1111111111111111,\"#46039f\"],[0.2222222222222222,\"#7201a8\"],[0.3333333333333333,\"#9c179e\"],[0.4444444444444444,\"#bd3786\"],[0.5555555555555556,\"#d8576b\"],[0.6666666666666666,\"#ed7953\"],[0.7777777777777778,\"#fb9f3a\"],[0.8888888888888888,\"#fdca26\"],[1.0,\"#f0f921\"]]}],\"contourcarpet\":[{\"type\":\"contourcarpet\",\"colorbar\":{\"outlinewidth\":0,\"ticks\":\"\"}}],\"contour\":[{\"type\":\"contour\",\"colorbar\":{\"outlinewidth\":0,\"ticks\":\"\"},\"colorscale\":[[0.0,\"#0d0887\"],[0.1111111111111111,\"#46039f\"],[0.2222222222222222,\"#7201a8\"],[0.3333333333333333,\"#9c179e\"],[0.4444444444444444,\"#bd3786\"],[0.5555555555555556,\"#d8576b\"],[0.6666666666666666,\"#ed7953\"],[0.7777777777777778,\"#fb9f3a\"],[0.8888888888888888,\"#fdca26\"],[1.0,\"#f0f921\"]]}],\"surface\":[{\"type\":\"surface\",\"colorbar\":{\"outlinewidth\":0,\"ticks\":\"\"},\"colorscale\":[[0.0,\"#0d0887\"],[0.1111111111111111,\"#46039f\"],[0.2222222222222222,\"#7201a8\"],[0.3333333333333333,\"#9c179e\"],[0.4444444444444444,\"#bd3786\"],[0.5555555555555556,\"#d8576b\"],[0.6666666666666666,\"#ed7953\"],[0.7777777777777778,\"#fb9f3a\"],[0.8888888888888888,\"#fdca26\"],[1.0,\"#f0f921\"]]}],\"mesh3d\":[{\"type\":\"mesh3d\",\"colorbar\":{\"outlinewidth\":0,\"ticks\":\"\"}}],\"scatter\":[{\"fillpattern\":{\"fillmode\":\"overlay\",\"size\":10,\"solidity\":0.2},\"type\":\"scatter\"}],\"parcoords\":[{\"type\":\"parcoords\",\"line\":{\"colorbar\":{\"outlinewidth\":0,\"ticks\":\"\"}}}],\"scatterpolargl\":[{\"type\":\"scatterpolargl\",\"marker\":{\"colorbar\":{\"outlinewidth\":0,\"ticks\":\"\"}}}],\"bar\":[{\"error_x\":{\"color\":\"#2a3f5f\"},\"error_y\":{\"color\":\"#2a3f5f\"},\"marker\":{\"line\":{\"color\":\"#E5ECF6\",\"width\":0.5},\"pattern\":{\"fillmode\":\"overlay\",\"size\":10,\"solidity\":0.2}},\"type\":\"bar\"}],\"scattergeo\":[{\"type\":\"scattergeo\",\"marker\":{\"colorbar\":{\"outlinewidth\":0,\"ticks\":\"\"}}}],\"scatterpolar\":[{\"type\":\"scatterpolar\",\"marker\":{\"colorbar\":{\"outlinewidth\":0,\"ticks\":\"\"}}}],\"histogram\":[{\"marker\":{\"pattern\":{\"fillmode\":\"overlay\",\"size\":10,\"solidity\":0.2}},\"type\":\"histogram\"}],\"scattergl\":[{\"type\":\"scattergl\",\"marker\":{\"colorbar\":{\"outlinewidth\":0,\"ticks\":\"\"}}}],\"scatter3d\":[{\"type\":\"scatter3d\",\"line\":{\"colorbar\":{\"outlinewidth\":0,\"ticks\":\"\"}},\"marker\":{\"colorbar\":{\"outlinewidth\":0,\"ticks\":\"\"}}}],\"scattermapbox\":[{\"type\":\"scattermapbox\",\"marker\":{\"colorbar\":{\"outlinewidth\":0,\"ticks\":\"\"}}}],\"scatterternary\":[{\"type\":\"scatterternary\",\"marker\":{\"colorbar\":{\"outlinewidth\":0,\"ticks\":\"\"}}}],\"scattercarpet\":[{\"type\":\"scattercarpet\",\"marker\":{\"colorbar\":{\"outlinewidth\":0,\"ticks\":\"\"}}}],\"carpet\":[{\"aaxis\":{\"endlinecolor\":\"#2a3f5f\",\"gridcolor\":\"white\",\"linecolor\":\"white\",\"minorgridcolor\":\"white\",\"startlinecolor\":\"#2a3f5f\"},\"baxis\":{\"endlinecolor\":\"#2a3f5f\",\"gridcolor\":\"white\",\"linecolor\":\"white\",\"minorgridcolor\":\"white\",\"startlinecolor\":\"#2a3f5f\"},\"type\":\"carpet\"}],\"table\":[{\"cells\":{\"fill\":{\"color\":\"#EBF0F8\"},\"line\":{\"color\":\"white\"}},\"header\":{\"fill\":{\"color\":\"#C8D4E3\"},\"line\":{\"color\":\"white\"}},\"type\":\"table\"}],\"barpolar\":[{\"marker\":{\"line\":{\"color\":\"#E5ECF6\",\"width\":0.5},\"pattern\":{\"fillmode\":\"overlay\",\"size\":10,\"solidity\":0.2}},\"type\":\"barpolar\"}],\"pie\":[{\"automargin\":true,\"type\":\"pie\"}]},\"layout\":{\"autotypenumbers\":\"strict\",\"colorway\":[\"#636efa\",\"#EF553B\",\"#00cc96\",\"#ab63fa\",\"#FFA15A\",\"#19d3f3\",\"#FF6692\",\"#B6E880\",\"#FF97FF\",\"#FECB52\"],\"font\":{\"color\":\"#2a3f5f\"},\"hovermode\":\"closest\",\"hoverlabel\":{\"align\":\"left\"},\"paper_bgcolor\":\"white\",\"plot_bgcolor\":\"#E5ECF6\",\"polar\":{\"bgcolor\":\"#E5ECF6\",\"angularaxis\":{\"gridcolor\":\"white\",\"linecolor\":\"white\",\"ticks\":\"\"},\"radialaxis\":{\"gridcolor\":\"white\",\"linecolor\":\"white\",\"ticks\":\"\"}},\"ternary\":{\"bgcolor\":\"#E5ECF6\",\"aaxis\":{\"gridcolor\":\"white\",\"linecolor\":\"white\",\"ticks\":\"\"},\"baxis\":{\"gridcolor\":\"white\",\"linecolor\":\"white\",\"ticks\":\"\"},\"caxis\":{\"gridcolor\":\"white\",\"linecolor\":\"white\",\"ticks\":\"\"}},\"coloraxis\":{\"colorbar\":{\"outlinewidth\":0,\"ticks\":\"\"}},\"colorscale\":{\"sequential\":[[0.0,\"#0d0887\"],[0.1111111111111111,\"#46039f\"],[0.2222222222222222,\"#7201a8\"],[0.3333333333333333,\"#9c179e\"],[0.4444444444444444,\"#bd3786\"],[0.5555555555555556,\"#d8576b\"],[0.6666666666666666,\"#ed7953\"],[0.7777777777777778,\"#fb9f3a\"],[0.8888888888888888,\"#fdca26\"],[1.0,\"#f0f921\"]],\"sequentialminus\":[[0.0,\"#0d0887\"],[0.1111111111111111,\"#46039f\"],[0.2222222222222222,\"#7201a8\"],[0.3333333333333333,\"#9c179e\"],[0.4444444444444444,\"#bd3786\"],[0.5555555555555556,\"#d8576b\"],[0.6666666666666666,\"#ed7953\"],[0.7777777777777778,\"#fb9f3a\"],[0.8888888888888888,\"#fdca26\"],[1.0,\"#f0f921\"]],\"diverging\":[[0,\"#8e0152\"],[0.1,\"#c51b7d\"],[0.2,\"#de77ae\"],[0.3,\"#f1b6da\"],[0.4,\"#fde0ef\"],[0.5,\"#f7f7f7\"],[0.6,\"#e6f5d0\"],[0.7,\"#b8e186\"],[0.8,\"#7fbc41\"],[0.9,\"#4d9221\"],[1,\"#276419\"]]},\"xaxis\":{\"gridcolor\":\"white\",\"linecolor\":\"white\",\"ticks\":\"\",\"title\":{\"standoff\":15},\"zerolinecolor\":\"white\",\"automargin\":true,\"zerolinewidth\":2},\"yaxis\":{\"gridcolor\":\"white\",\"linecolor\":\"white\",\"ticks\":\"\",\"title\":{\"standoff\":15},\"zerolinecolor\":\"white\",\"automargin\":true,\"zerolinewidth\":2},\"scene\":{\"xaxis\":{\"backgroundcolor\":\"#E5ECF6\",\"gridcolor\":\"white\",\"linecolor\":\"white\",\"showbackground\":true,\"ticks\":\"\",\"zerolinecolor\":\"white\",\"gridwidth\":2},\"yaxis\":{\"backgroundcolor\":\"#E5ECF6\",\"gridcolor\":\"white\",\"linecolor\":\"white\",\"showbackground\":true,\"ticks\":\"\",\"zerolinecolor\":\"white\",\"gridwidth\":2},\"zaxis\":{\"backgroundcolor\":\"#E5ECF6\",\"gridcolor\":\"white\",\"linecolor\":\"white\",\"showbackground\":true,\"ticks\":\"\",\"zerolinecolor\":\"white\",\"gridwidth\":2}},\"shapedefaults\":{\"line\":{\"color\":\"#2a3f5f\"}},\"annotationdefaults\":{\"arrowcolor\":\"#2a3f5f\",\"arrowhead\":0,\"arrowwidth\":1},\"geo\":{\"bgcolor\":\"white\",\"landcolor\":\"#E5ECF6\",\"subunitcolor\":\"white\",\"showland\":true,\"showlakes\":true,\"lakecolor\":\"white\"},\"title\":{\"x\":0.05},\"mapbox\":{\"style\":\"light\"}}},\"xaxis\":{\"anchor\":\"y\",\"domain\":[0.0,1.0],\"title\":{\"text\":\"Result\"},\"categoryorder\":\"array\",\"categoryarray\":[\"positive\",\"negative\"]},\"yaxis\":{\"anchor\":\"x\",\"domain\":[0.0,1.0],\"title\":{\"text\":\"Results Count\"}},\"legend\":{\"title\":{\"text\":\"Result\"},\"tracegroupgap\":0},\"title\":{\"text\":\"Train Dataset Result Wise Count\"},\"barmode\":\"relative\"},                        {\"responsive\": true}                    ).then(function(){\n",
       "                            \n",
       "var gd = document.getElementById('ae1e3710-2c97-429d-a7bb-bb342e5414b7');\n",
       "var x = new MutationObserver(function (mutations, observer) {{\n",
       "        var display = window.getComputedStyle(gd).display;\n",
       "        if (!display || display === 'none') {{\n",
       "            console.log([gd, 'removed!']);\n",
       "            Plotly.purge(gd);\n",
       "            observer.disconnect();\n",
       "        }}\n",
       "}});\n",
       "\n",
       "// Listen for the removal of the full notebook cells\n",
       "var notebookContainer = gd.closest('#notebook-container');\n",
       "if (notebookContainer) {{\n",
       "    x.observe(notebookContainer, {childList: true});\n",
       "}}\n",
       "\n",
       "// Listen for the clearing of the current output cell\n",
       "var outputEl = gd.closest('.output');\n",
       "if (outputEl) {{\n",
       "    x.observe(outputEl, {childList: true});\n",
       "}}\n",
       "\n",
       "                        })                };                });            </script>        </div>"
      ]
     },
     "metadata": {},
     "output_type": "display_data"
    }
   ],
   "source": [
    "px.bar(result_vc, x=result_vc.index, y = result_vc.values, \n",
    "           color=result_vc.index, title=\"Train Dataset Result Wise Count\",\n",
    "          labels={'y': \"Results Count\", 'index': \"Result\"}, color_discrete_sequence=px.colors.qualitative.G10)"
   ]
  },
  {
   "cell_type": "code",
   "execution_count": 165,
   "metadata": {},
   "outputs": [],
   "source": [
    "le=LabelEncoder()\n",
    "df[\"Result\"] = le.fit_transform(df[\"Result\"])"
   ]
  },
  {
   "cell_type": "code",
   "execution_count": 166,
   "metadata": {},
   "outputs": [],
   "source": [
    "class_names = [\"Positive\", \"Negative\"]"
   ]
  },
  {
   "cell_type": "code",
   "execution_count": 167,
   "metadata": {},
   "outputs": [],
   "source": [
    "y = df.loc[:,'Result'].values\n",
    "X = df.drop(['Result'], axis = 1)"
   ]
  },
  {
   "cell_type": "code",
   "execution_count": 168,
   "metadata": {},
   "outputs": [],
   "source": [
    "best=SelectKBest(score_func=chi2, k=6)\n",
    "fit=best.fit(X,y)"
   ]
  },
  {
   "cell_type": "code",
   "execution_count": 169,
   "metadata": {},
   "outputs": [],
   "source": [
    "data_scores=pd.DataFrame(fit.scores_)\n",
    "data_columns=pd.DataFrame(X.columns)"
   ]
  },
  {
   "cell_type": "code",
   "execution_count": 170,
   "metadata": {},
   "outputs": [],
   "source": [
    "scores=pd.concat([data_columns,data_scores],axis=1)\n",
    "scores.columns=['Feature','Score']"
   ]
  },
  {
   "cell_type": "code",
   "execution_count": 171,
   "metadata": {},
   "outputs": [
    {
     "data": {
      "text/html": [
       "<div>\n",
       "<style scoped>\n",
       "    .dataframe tbody tr th:only-of-type {\n",
       "        vertical-align: middle;\n",
       "    }\n",
       "\n",
       "    .dataframe tbody tr th {\n",
       "        vertical-align: top;\n",
       "    }\n",
       "\n",
       "    .dataframe thead th {\n",
       "        text-align: right;\n",
       "    }\n",
       "</style>\n",
       "<table border=\"1\" class=\"dataframe\">\n",
       "  <thead>\n",
       "    <tr style=\"text-align: right;\">\n",
       "      <th></th>\n",
       "      <th>Feature</th>\n",
       "      <th>Score</th>\n",
       "    </tr>\n",
       "  </thead>\n",
       "  <tbody>\n",
       "    <tr>\n",
       "      <th>6</th>\n",
       "      <td>CK-MB</td>\n",
       "      <td>8778.481659</td>\n",
       "    </tr>\n",
       "    <tr>\n",
       "      <th>7</th>\n",
       "      <td>Troponin</td>\n",
       "      <td>256.102264</td>\n",
       "    </tr>\n",
       "    <tr>\n",
       "      <th>0</th>\n",
       "      <td>Age</td>\n",
       "      <td>247.653485</td>\n",
       "    </tr>\n",
       "    <tr>\n",
       "      <th>5</th>\n",
       "      <td>Blood sugar</td>\n",
       "      <td>55.144417</td>\n",
       "    </tr>\n",
       "    <tr>\n",
       "      <th>1</th>\n",
       "      <td>Gender</td>\n",
       "      <td>4.003940</td>\n",
       "    </tr>\n",
       "    <tr>\n",
       "      <th>3</th>\n",
       "      <td>Systolic blood pressure</td>\n",
       "      <td>3.067159</td>\n",
       "    </tr>\n",
       "    <tr>\n",
       "      <th>2</th>\n",
       "      <td>Heart rate</td>\n",
       "      <td>2.147992</td>\n",
       "    </tr>\n",
       "    <tr>\n",
       "      <th>4</th>\n",
       "      <td>Diastolic blood pressure</td>\n",
       "      <td>0.335111</td>\n",
       "    </tr>\n",
       "  </tbody>\n",
       "</table>\n",
       "</div>"
      ],
      "text/plain": [
       "                    Feature        Score\n",
       "6                     CK-MB  8778.481659\n",
       "7                  Troponin   256.102264\n",
       "0                       Age   247.653485\n",
       "5               Blood sugar    55.144417\n",
       "1                    Gender     4.003940\n",
       "3   Systolic blood pressure     3.067159\n",
       "2                Heart rate     2.147992\n",
       "4  Diastolic blood pressure     0.335111"
      ]
     },
     "execution_count": 171,
     "metadata": {},
     "output_type": "execute_result"
    }
   ],
   "source": [
    "scores.sort_values(by=[\"Score\"], ascending=False)"
   ]
  },
  {
   "cell_type": "code",
   "execution_count": 172,
   "metadata": {},
   "outputs": [],
   "source": [
    "train_x, test_x, train_y, test_y = train_test_split(X, y, test_size=0.2, random_state=1,shuffle=True)"
   ]
  },
  {
   "cell_type": "code",
   "execution_count": 173,
   "metadata": {},
   "outputs": [
    {
     "data": {
      "text/html": [
       "<div>\n",
       "<style scoped>\n",
       "    .dataframe tbody tr th:only-of-type {\n",
       "        vertical-align: middle;\n",
       "    }\n",
       "\n",
       "    .dataframe tbody tr th {\n",
       "        vertical-align: top;\n",
       "    }\n",
       "\n",
       "    .dataframe thead th {\n",
       "        text-align: right;\n",
       "    }\n",
       "</style>\n",
       "<table border=\"1\" class=\"dataframe\">\n",
       "  <thead>\n",
       "    <tr style=\"text-align: right;\">\n",
       "      <th></th>\n",
       "      <th>Age</th>\n",
       "      <th>Gender</th>\n",
       "      <th>Heart rate</th>\n",
       "      <th>Systolic blood pressure</th>\n",
       "      <th>Diastolic blood pressure</th>\n",
       "      <th>Blood sugar</th>\n",
       "      <th>CK-MB</th>\n",
       "      <th>Troponin</th>\n",
       "    </tr>\n",
       "  </thead>\n",
       "  <tbody>\n",
       "    <tr>\n",
       "      <th>710</th>\n",
       "      <td>55</td>\n",
       "      <td>0</td>\n",
       "      <td>59</td>\n",
       "      <td>110</td>\n",
       "      <td>65</td>\n",
       "      <td>208.0</td>\n",
       "      <td>2.53</td>\n",
       "      <td>0.024</td>\n",
       "    </tr>\n",
       "    <tr>\n",
       "      <th>1258</th>\n",
       "      <td>33</td>\n",
       "      <td>1</td>\n",
       "      <td>62</td>\n",
       "      <td>76</td>\n",
       "      <td>55</td>\n",
       "      <td>106.0</td>\n",
       "      <td>0.71</td>\n",
       "      <td>0.007</td>\n",
       "    </tr>\n",
       "    <tr>\n",
       "      <th>435</th>\n",
       "      <td>65</td>\n",
       "      <td>1</td>\n",
       "      <td>70</td>\n",
       "      <td>142</td>\n",
       "      <td>75</td>\n",
       "      <td>108.0</td>\n",
       "      <td>165.00</td>\n",
       "      <td>0.058</td>\n",
       "    </tr>\n",
       "    <tr>\n",
       "      <th>987</th>\n",
       "      <td>52</td>\n",
       "      <td>1</td>\n",
       "      <td>60</td>\n",
       "      <td>117</td>\n",
       "      <td>68</td>\n",
       "      <td>110.0</td>\n",
       "      <td>1.04</td>\n",
       "      <td>0.810</td>\n",
       "    </tr>\n",
       "    <tr>\n",
       "      <th>1286</th>\n",
       "      <td>35</td>\n",
       "      <td>1</td>\n",
       "      <td>74</td>\n",
       "      <td>134</td>\n",
       "      <td>58</td>\n",
       "      <td>78.0</td>\n",
       "      <td>1.37</td>\n",
       "      <td>0.003</td>\n",
       "    </tr>\n",
       "    <tr>\n",
       "      <th>...</th>\n",
       "      <td>...</td>\n",
       "      <td>...</td>\n",
       "      <td>...</td>\n",
       "      <td>...</td>\n",
       "      <td>...</td>\n",
       "      <td>...</td>\n",
       "      <td>...</td>\n",
       "      <td>...</td>\n",
       "    </tr>\n",
       "    <tr>\n",
       "      <th>715</th>\n",
       "      <td>60</td>\n",
       "      <td>0</td>\n",
       "      <td>58</td>\n",
       "      <td>120</td>\n",
       "      <td>69</td>\n",
       "      <td>115.0</td>\n",
       "      <td>8.80</td>\n",
       "      <td>0.021</td>\n",
       "    </tr>\n",
       "    <tr>\n",
       "      <th>905</th>\n",
       "      <td>60</td>\n",
       "      <td>1</td>\n",
       "      <td>100</td>\n",
       "      <td>117</td>\n",
       "      <td>57</td>\n",
       "      <td>111.0</td>\n",
       "      <td>1.90</td>\n",
       "      <td>0.006</td>\n",
       "    </tr>\n",
       "    <tr>\n",
       "      <th>1096</th>\n",
       "      <td>30</td>\n",
       "      <td>1</td>\n",
       "      <td>60</td>\n",
       "      <td>202</td>\n",
       "      <td>88</td>\n",
       "      <td>197.0</td>\n",
       "      <td>12.89</td>\n",
       "      <td>0.003</td>\n",
       "    </tr>\n",
       "    <tr>\n",
       "      <th>235</th>\n",
       "      <td>60</td>\n",
       "      <td>1</td>\n",
       "      <td>53</td>\n",
       "      <td>102</td>\n",
       "      <td>61</td>\n",
       "      <td>303.0</td>\n",
       "      <td>14.07</td>\n",
       "      <td>0.816</td>\n",
       "    </tr>\n",
       "    <tr>\n",
       "      <th>1061</th>\n",
       "      <td>82</td>\n",
       "      <td>0</td>\n",
       "      <td>90</td>\n",
       "      <td>125</td>\n",
       "      <td>73</td>\n",
       "      <td>89.0</td>\n",
       "      <td>2.04</td>\n",
       "      <td>0.147</td>\n",
       "    </tr>\n",
       "  </tbody>\n",
       "</table>\n",
       "<p>1055 rows × 8 columns</p>\n",
       "</div>"
      ],
      "text/plain": [
       "      Age  Gender  Heart rate  Systolic blood pressure  \\\n",
       "710    55       0          59                      110   \n",
       "1258   33       1          62                       76   \n",
       "435    65       1          70                      142   \n",
       "987    52       1          60                      117   \n",
       "1286   35       1          74                      134   \n",
       "...   ...     ...         ...                      ...   \n",
       "715    60       0          58                      120   \n",
       "905    60       1         100                      117   \n",
       "1096   30       1          60                      202   \n",
       "235    60       1          53                      102   \n",
       "1061   82       0          90                      125   \n",
       "\n",
       "      Diastolic blood pressure  Blood sugar   CK-MB  Troponin  \n",
       "710                         65        208.0    2.53     0.024  \n",
       "1258                        55        106.0    0.71     0.007  \n",
       "435                         75        108.0  165.00     0.058  \n",
       "987                         68        110.0    1.04     0.810  \n",
       "1286                        58         78.0    1.37     0.003  \n",
       "...                        ...          ...     ...       ...  \n",
       "715                         69        115.0    8.80     0.021  \n",
       "905                         57        111.0    1.90     0.006  \n",
       "1096                        88        197.0   12.89     0.003  \n",
       "235                         61        303.0   14.07     0.816  \n",
       "1061                        73         89.0    2.04     0.147  \n",
       "\n",
       "[1055 rows x 8 columns]"
      ]
     },
     "execution_count": 173,
     "metadata": {},
     "output_type": "execute_result"
    }
   ],
   "source": [
    "train_x"
   ]
  },
  {
   "cell_type": "code",
   "execution_count": 174,
   "metadata": {},
   "outputs": [
    {
     "name": "stdout",
     "output_type": "stream",
     "text": [
      "Shape of Train Records : (1055, 8)\n",
      "Shape of Test Records : (264, 8)\n",
      "Shape of Train Records : (1055,)\n",
      "Shape of Test Records : (264,)\n"
     ]
    }
   ],
   "source": [
    "print(f\"Shape of Train Records : {np.shape(train_x)}\")\n",
    "print(f\"Shape of Test Records : {np.shape(test_x)}\")\n",
    "print(f\"Shape of Train Records : {np.shape(train_y)}\")\n",
    "print(f\"Shape of Test Records : {np.shape(test_y)}\")"
   ]
  },
  {
   "cell_type": "code",
   "execution_count": 175,
   "metadata": {},
   "outputs": [],
   "source": [
    "def visualize_outcomes(score):\n",
    "    \n",
    "    names = ['SVM', 'Random Forest', 'Bagging', 'Extra Tree', 'AdaBoost', 'Gradient Boosting']\n",
    "\n",
    "    plt.rcParams['figure.figsize']=20,8\n",
    "    ax = sns.barplot(x=names, y=score, palette = \"plasma\", saturation =2.0)\n",
    "    plt.xlabel('Model', fontsize = 20 )\n",
    "    plt.ylabel('Accuracy(%)', fontsize = 20)\n",
    "    plt.title('Model Comparison - Test set', fontsize = 20)\n",
    "    plt.xticks(fontsize = 12, horizontalalignment = 'center', rotation = 8)\n",
    "    plt.yticks(fontsize = 12)\n",
    "    for i in ax.patches:\n",
    "        width, height = i.get_width(), i.get_height()\n",
    "        x, y = i.get_xy() \n",
    "        ax.annotate(f'{round(height,2)}%', (x + width/2, y + height*1.02), ha='center', fontsize = 'x-large')\n",
    "    plt.show()"
   ]
  },
  {
   "cell_type": "code",
   "execution_count": 176,
   "metadata": {},
   "outputs": [],
   "source": [
    "def p_cm(cm_model):\n",
    "    plot_confusion_matrix(cm_model, cmap = \"viridis_r\")\n",
    "    plt.show()"
   ]
  },
  {
   "cell_type": "code",
   "execution_count": 177,
   "metadata": {},
   "outputs": [],
   "source": [
    "def model_creation_training_prediction(X_train, y_train, X_test, y_test):\n",
    "    \n",
    "    models= [[' SVM ',SVC()],\n",
    "             [' Random Forest ', RandomForestClassifier()],\n",
    "             [' Bagging ', BaggingClassifier()],\n",
    "             [' Extra Tree ', ExtraTreesClassifier()],\n",
    "             [' AdaBoost ', AdaBoostClassifier()],\n",
    "             [' Gradient Boosting ', GradientBoostingClassifier(n_estimators=100, learning_rate=1.0, max_depth=1, random_state=0)]]\n",
    "\n",
    "    scores = []\n",
    "    \n",
    "    for model_name, model in models:\n",
    "\n",
    "        model = model\n",
    "        model.fit(X_train, y_train)\n",
    "        pred = model.predict(X_test)\n",
    "        cm_model = confusion_matrix(y_test, pred)\n",
    "        scores.append(accuracy_score(y_test, model.predict(X_test)))\n",
    "        \n",
    "\n",
    "        print(Back.YELLOW + Fore.BLACK + Style.BRIGHT + model_name)\n",
    "        print(Back.RESET)\n",
    "        p_cm(cm_model)\n",
    "        print('\\n' + Fore.BLUE + 'Training Acc.  : ' + Fore.GREEN + str(round(accuracy_score(y_train, model.predict(X_train)) * 100, 2)) + '%' )\n",
    "        print(Fore.BLUE + 'Validation Acc.: ' + Fore.GREEN + str(round(accuracy_score(y_test, model.predict(X_test)) * 100, 2)) + '%' )\n",
    "        print(Fore.CYAN + classification_report(y_test, pred)) \n",
    "        \n",
    "        visualizer = ROCAUC(model,binary=True)\n",
    "        visualizer.fit(X_train, y_train)\n",
    "        visualizer.score(X_test, y_test)\n",
    "        visualizer.show()   \n",
    "\n",
    "        print('\\n' + Fore.BLACK + Back.WHITE + '⁜⁜⁜⁜⁜⁜⁜⁜⁜⁜⁜⁜⁜⁜⁜⁜⁜⁜⁜⁜⁜⁜⁜⁜⁜⁜⁜⁜⁜⁜⁜⁜⁜⁜⁜⁜⁜\\n')\n",
    "    \n",
    "        \n",
    "    return scores"
   ]
  },
  {
   "cell_type": "code",
   "execution_count": 178,
   "metadata": {},
   "outputs": [
    {
     "name": "stdout",
     "output_type": "stream",
     "text": [
      "\u001b[43m\u001b[30m\u001b[1m SVM \n",
      "\u001b[49m\n"
     ]
    },
    {
     "data": {
      "image/png": "[encoded data removed]",
      "text/plain": [
       "<Figure size 1440x576 with 1 Axes>"
      ]
     },
     "metadata": {},
     "output_type": "display_data"
    },
    {
     "name": "stdout",
     "output_type": "stream",
     "text": [
      "\n",
      "\u001b[34mTraining Acc.  : \u001b[32m66.92%\n",
      "\u001b[34mValidation Acc.: \u001b[32m65.53%\n",
      "\u001b[36m              precision    recall  f1-score   support\n",
      "\n",
      "           0       0.80      0.19      0.31       106\n",
      "           1       0.64      0.97      0.77       158\n",
      "\n",
      "    accuracy                           0.66       264\n",
      "   macro avg       0.72      0.58      0.54       264\n",
      "weighted avg       0.70      0.66      0.58       264\n",
      "\n"
     ]
    },
    {
     "data": {
      "image/png": "[encoded data removed]",
      "text/plain": [
       "<Figure size 1440x576 with 1 Axes>"
      ]
     },
     "metadata": {},
     "output_type": "display_data"
    },
    {
     "name": "stdout",
     "output_type": "stream",
     "text": [
      "\n",
      "\u001b[30m\u001b[47m⁜⁜⁜⁜⁜⁜⁜⁜⁜⁜⁜⁜⁜⁜⁜⁜⁜⁜⁜⁜⁜⁜⁜⁜⁜⁜⁜⁜⁜⁜⁜⁜⁜⁜⁜⁜⁜\n",
      "\n",
      "\u001b[43m\u001b[30m\u001b[1m Random Forest \n",
      "\u001b[49m\n"
     ]
    },
    {
     "data": {
      "image/png": "[encoded data removed]",
      "text/plain": [
       "<Figure size 1440x576 with 1 Axes>"
      ]
     },
     "metadata": {},
     "output_type": "display_data"
    },
    {
     "name": "stdout",
     "output_type": "stream",
     "text": [
      "\n",
      "\u001b[34mTraining Acc.  : \u001b[32m100.0%\n",
      "\u001b[34mValidation Acc.: \u001b[32m98.11%\n",
      "\u001b[36m              precision    recall  f1-score   support\n",
      "\n",
      "           0       0.96      0.99      0.98       106\n",
      "           1       0.99      0.97      0.98       158\n",
      "\n",
      "    accuracy                           0.98       264\n",
      "   macro avg       0.98      0.98      0.98       264\n",
      "weighted avg       0.98      0.98      0.98       264\n",
      "\n"
     ]
    },
    {
     "data": {
      "image/png": "[encoded data removed]",
      "text/plain": [
       "<Figure size 1440x576 with 1 Axes>"
      ]
     },
     "metadata": {},
     "output_type": "display_data"
    },
    {
     "name": "stdout",
     "output_type": "stream",
     "text": [
      "\n",
      "\u001b[30m\u001b[47m⁜⁜⁜⁜⁜⁜⁜⁜⁜⁜⁜⁜⁜⁜⁜⁜⁜⁜⁜⁜⁜⁜⁜⁜⁜⁜⁜⁜⁜⁜⁜⁜⁜⁜⁜⁜⁜\n",
      "\n",
      "\u001b[43m\u001b[30m\u001b[1m Bagging \n",
      "\u001b[49m\n"
     ]
    },
    {
     "data": {
      "image/png": "[encoded data removed]",
      "text/plain": [
       "<Figure size 1440x576 with 1 Axes>"
      ]
     },
     "metadata": {},
     "output_type": "display_data"
    },
    {
     "name": "stdout",
     "output_type": "stream",
     "text": [
      "\n",
      "\u001b[34mTraining Acc.  : \u001b[32m99.72%\n",
      "\u001b[34mValidation Acc.: \u001b[32m98.48%\n",
      "\u001b[36m              precision    recall  f1-score   support\n",
      "\n",
      "           0       0.98      0.98      0.98       106\n",
      "           1       0.99      0.99      0.99       158\n",
      "\n",
      "    accuracy                           0.98       264\n",
      "   macro avg       0.98      0.98      0.98       264\n",
      "weighted avg       0.98      0.98      0.98       264\n",
      "\n"
     ]
    },
    {
     "data": {
      "image/png": "[encoded data removed]",
      "text/plain": [
       "<Figure size 1440x576 with 1 Axes>"
      ]
     },
     "metadata": {},
     "output_type": "display_data"
    },
    {
     "name": "stdout",
     "output_type": "stream",
     "text": [
      "\n",
      "\u001b[30m\u001b[47m⁜⁜⁜⁜⁜⁜⁜⁜⁜⁜⁜⁜⁜⁜⁜⁜⁜⁜⁜⁜⁜⁜⁜⁜⁜⁜⁜⁜⁜⁜⁜⁜⁜⁜⁜⁜⁜\n",
      "\n",
      "\u001b[43m\u001b[30m\u001b[1m Extra Tree \n",
      "\u001b[49m\n"
     ]
    },
    {
     "data": {
      "image/png": "[encoded data removed]",
      "text/plain": [
       "<Figure size 1440x576 with 1 Axes>"
      ]
     },
     "metadata": {},
     "output_type": "display_data"
    },
    {
     "name": "stdout",
     "output_type": "stream",
     "text": [
      "\n",
      "\u001b[34mTraining Acc.  : \u001b[32m100.0%\n",
      "\u001b[34mValidation Acc.: \u001b[32m92.42%\n",
      "\u001b[36m              precision    recall  f1-score   support\n",
      "\n",
      "           0       0.91      0.90      0.90       106\n",
      "           1       0.93      0.94      0.94       158\n",
      "\n",
      "    accuracy                           0.92       264\n",
      "   macro avg       0.92      0.92      0.92       264\n",
      "weighted avg       0.92      0.92      0.92       264\n",
      "\n"
     ]
    },
    {
     "data": {
      "image/png": "[encoded data removed]",
      "text/plain": [
       "<Figure size 1440x576 with 1 Axes>"
      ]
     },
     "metadata": {},
     "output_type": "display_data"
    },
    {
     "name": "stdout",
     "output_type": "stream",
     "text": [
      "\n",
      "\u001b[30m\u001b[47m⁜⁜⁜⁜⁜⁜⁜⁜⁜⁜⁜⁜⁜⁜⁜⁜⁜⁜⁜⁜⁜⁜⁜⁜⁜⁜⁜⁜⁜⁜⁜⁜⁜⁜⁜⁜⁜\n",
      "\n",
      "\u001b[43m\u001b[30m\u001b[1m AdaBoost \n",
      "\u001b[49m\n"
     ]
    },
    {
     "data": {
      "image/png": "[encoded data removed]",
      "text/plain": [
       "<Figure size 1440x576 with 1 Axes>"
      ]
     },
     "metadata": {},
     "output_type": "display_data"
    },
    {
     "name": "stdout",
     "output_type": "stream",
     "text": [
      "\n",
      "\u001b[34mTraining Acc.  : \u001b[32m99.91%\n",
      "\u001b[34mValidation Acc.: \u001b[32m97.35%\n",
      "\u001b[36m              precision    recall  f1-score   support\n",
      "\n",
      "           0       0.95      0.98      0.97       106\n",
      "           1       0.99      0.97      0.98       158\n",
      "\n",
      "    accuracy                           0.97       264\n",
      "   macro avg       0.97      0.97      0.97       264\n",
      "weighted avg       0.97      0.97      0.97       264\n",
      "\n"
     ]
    },
    {
     "data": {
      "image/png": "[encoded data removed]",
      "text/plain": [
       "<Figure size 1440x576 with 1 Axes>"
      ]
     },
     "metadata": {},
     "output_type": "display_data"
    },
    {
     "name": "stdout",
     "output_type": "stream",
     "text": [
      "\n",
      "\u001b[30m\u001b[47m⁜⁜⁜⁜⁜⁜⁜⁜⁜⁜⁜⁜⁜⁜⁜⁜⁜⁜⁜⁜⁜⁜⁜⁜⁜⁜⁜⁜⁜⁜⁜⁜⁜⁜⁜⁜⁜\n",
      "\n",
      "\u001b[43m\u001b[30m\u001b[1m Gradient Boosting \n",
      "\u001b[49m\n"
     ]
    },
    {
     "data": {
      "image/png": "[encoded data removed]",
      "text/plain": [
       "<Figure size 1440x576 with 1 Axes>"
      ]
     },
     "metadata": {},
     "output_type": "display_data"
    },
    {
     "name": "stdout",
     "output_type": "stream",
     "text": [
      "\n",
      "\u001b[34mTraining Acc.  : \u001b[32m98.96%\n",
      "\u001b[34mValidation Acc.: \u001b[32m96.97%\n",
      "\u001b[36m              precision    recall  f1-score   support\n",
      "\n",
      "           0       0.95      0.97      0.96       106\n",
      "           1       0.98      0.97      0.97       158\n",
      "\n",
      "    accuracy                           0.97       264\n",
      "   macro avg       0.97      0.97      0.97       264\n",
      "weighted avg       0.97      0.97      0.97       264\n",
      "\n"
     ]
    },
    {
     "data": {
      "image/png": "[encoded data removed]",
      "text/plain": [
       "<Figure size 1440x576 with 1 Axes>"
      ]
     },
     "metadata": {},
     "output_type": "display_data"
    },
    {
     "name": "stdout",
     "output_type": "stream",
     "text": [
      "\n",
      "\u001b[30m\u001b[47m⁜⁜⁜⁜⁜⁜⁜⁜⁜⁜⁜⁜⁜⁜⁜⁜⁜⁜⁜⁜⁜⁜⁜⁜⁜⁜⁜⁜⁜⁜⁜⁜⁜⁜⁜⁜⁜\n",
      "\n"
     ]
    }
   ],
   "source": [
    "evaluation_scores = model_creation_training_prediction(train_x, train_y, test_x, test_y)"
   ]
  },
  {
   "cell_type": "code",
   "execution_count": 179,
   "metadata": {},
   "outputs": [
    {
     "data": {
      "image/png": "[encoded data removed]",
      "text/plain": [
       "<Figure size 1440x576 with 1 Axes>"
      ]
     },
     "metadata": {},
     "output_type": "display_data"
    }
   ],
   "source": [
    "visualize_outcomes(evaluation_scores)"
   ]
  },
  {
   "cell_type": "code",
   "execution_count": 180,
   "metadata": {},
   "outputs": [],
   "source": [
    "def create_optimized_generalized_metric_learning():\n",
    "    model_mlp = Sequential()\n",
    "\n",
    "    model_mlp.add(Dense(128, input_dim=8, activation=\"relu\"))\n",
    "    model_mlp.add(Dense(64, activation='relu'))\n",
    "    model_mlp.add(Dense(32, activation='relu'))\n",
    "    model_mlp.add(Dense(1, activation='sigmoid'))\n",
    "    return model_mlp"
   ]
  },
  {
   "cell_type": "code",
   "execution_count": 181,
   "metadata": {},
   "outputs": [],
   "source": [
    "model_ogml = create_optimized_generalized_metric_learning()"
   ]
  },
  {
   "cell_type": "code",
   "execution_count": 182,
   "metadata": {},
   "outputs": [
    {
     "name": "stdout",
     "output_type": "stream",
     "text": [
      "Model: \"sequential_2\"\n",
      "_________________________________________________________________\n",
      " Layer (type)                Output Shape              Param #   \n",
      "=================================================================\n",
      " dense_8 (Dense)             (None, 128)               1152      \n",
      "                                                                 \n",
      " dense_9 (Dense)             (None, 64)                8256      \n",
      "                                                                 \n",
      " dense_10 (Dense)            (None, 32)                2080      \n",
      "                                                                 \n",
      " dense_11 (Dense)            (None, 1)                 33        \n",
      "                                                                 \n",
      "=================================================================\n",
      "Total params: 11,521\n",
      "Trainable params: 11,521\n",
      "Non-trainable params: 0\n",
      "_________________________________________________________________\n"
     ]
    }
   ],
   "source": [
    "model_ogml.summary()"
   ]
  },
  {
   "cell_type": "code",
   "execution_count": 183,
   "metadata": {},
   "outputs": [
    {
     "name": "stdout",
     "output_type": "stream",
     "text": [
      "You must install pydot (`pip install pydot`) and install graphviz (see instructions at https://graphviz.gitlab.io/download/) for plot_model to work.\n"
     ]
    }
   ],
   "source": [
    "plot_model(model_ogml, to_file='convnet.png', show_shapes=True,show_layer_names=True)"
   ]
  },
  {
   "cell_type": "code",
   "execution_count": 184,
   "metadata": {},
   "outputs": [],
   "source": [
    "model_ogml.compile(optimizer='adam', loss='binary_crossentropy', metrics=['accuracy'])"
   ]
  },
  {
   "cell_type": "code",
   "execution_count": 185,
   "metadata": {},
   "outputs": [
    {
     "name": "stdout",
     "output_type": "stream",
     "text": [
      "Epoch 1/200\n",
      "33/33 [==============================] - 1s 6ms/step - loss: 0.7805 - accuracy: 0.6133 - val_loss: 0.6630 - val_accuracy: 0.6174\n",
      "Epoch 2/200\n",
      "33/33 [==============================] - 0s 2ms/step - loss: 0.6333 - accuracy: 0.6408 - val_loss: 0.5639 - val_accuracy: 0.6894\n",
      "Epoch 3/200\n",
      "33/33 [==============================] - 0s 3ms/step - loss: 0.6429 - accuracy: 0.6578 - val_loss: 0.5608 - val_accuracy: 0.6856\n",
      "Epoch 4/200\n",
      "33/33 [==============================] - 0s 3ms/step - loss: 0.6295 - accuracy: 0.6616 - val_loss: 0.5470 - val_accuracy: 0.6932\n",
      "Epoch 5/200\n",
      "33/33 [==============================] - 0s 3ms/step - loss: 0.5669 - accuracy: 0.6900 - val_loss: 0.7012 - val_accuracy: 0.6136\n",
      "Epoch 6/200\n",
      "33/33 [==============================] - 0s 3ms/step - loss: 0.6063 - accuracy: 0.6682 - val_loss: 0.5297 - val_accuracy: 0.7121\n",
      "Epoch 7/200\n",
      "33/33 [==============================] - 0s 3ms/step - loss: 0.5273 - accuracy: 0.7024 - val_loss: 0.5389 - val_accuracy: 0.6932\n",
      "Epoch 8/200\n",
      "33/33 [==============================] - 0s 3ms/step - loss: 0.5236 - accuracy: 0.7166 - val_loss: 0.5220 - val_accuracy: 0.7348\n",
      "Epoch 9/200\n",
      "33/33 [==============================] - 0s 3ms/step - loss: 0.5705 - accuracy: 0.6834 - val_loss: 0.5563 - val_accuracy: 0.6667\n",
      "Epoch 10/200\n",
      "33/33 [==============================] - 0s 3ms/step - loss: 0.5229 - accuracy: 0.7175 - val_loss: 0.5125 - val_accuracy: 0.7235\n",
      "Epoch 11/200\n",
      "33/33 [==============================] - 0s 3ms/step - loss: 0.5222 - accuracy: 0.7299 - val_loss: 0.5132 - val_accuracy: 0.7121\n",
      "Epoch 12/200\n",
      "33/33 [==============================] - 0s 3ms/step - loss: 0.5652 - accuracy: 0.6872 - val_loss: 0.5605 - val_accuracy: 0.6742\n",
      "Epoch 13/200\n",
      "33/33 [==============================] - 0s 3ms/step - loss: 0.5139 - accuracy: 0.7280 - val_loss: 0.5792 - val_accuracy: 0.6705\n",
      "Epoch 14/200\n",
      "33/33 [==============================] - 0s 3ms/step - loss: 0.5121 - accuracy: 0.7242 - val_loss: 0.5065 - val_accuracy: 0.7311\n",
      "Epoch 15/200\n",
      "33/33 [==============================] - 0s 2ms/step - loss: 0.5124 - accuracy: 0.7213 - val_loss: 0.5624 - val_accuracy: 0.7083\n",
      "Epoch 16/200\n",
      "33/33 [==============================] - 0s 3ms/step - loss: 0.5386 - accuracy: 0.7147 - val_loss: 0.6330 - val_accuracy: 0.6136\n",
      "Epoch 17/200\n",
      "33/33 [==============================] - 0s 3ms/step - loss: 0.5616 - accuracy: 0.6891 - val_loss: 0.6464 - val_accuracy: 0.6515\n",
      "Epoch 18/200\n",
      "33/33 [==============================] - 0s 3ms/step - loss: 0.5051 - accuracy: 0.7365 - val_loss: 0.4978 - val_accuracy: 0.7045\n",
      "Epoch 19/200\n",
      "33/33 [==============================] - 0s 3ms/step - loss: 0.4890 - accuracy: 0.7450 - val_loss: 0.5344 - val_accuracy: 0.6818\n",
      "Epoch 20/200\n",
      "33/33 [==============================] - 0s 3ms/step - loss: 0.5757 - accuracy: 0.6948 - val_loss: 0.6036 - val_accuracy: 0.6477\n",
      "Epoch 21/200\n",
      "33/33 [==============================] - 0s 3ms/step - loss: 0.4997 - accuracy: 0.7308 - val_loss: 0.4940 - val_accuracy: 0.7083\n",
      "Epoch 22/200\n",
      "33/33 [==============================] - 0s 3ms/step - loss: 0.4854 - accuracy: 0.7412 - val_loss: 0.5079 - val_accuracy: 0.7197\n",
      "Epoch 23/200\n",
      "33/33 [==============================] - 0s 3ms/step - loss: 0.4923 - accuracy: 0.7412 - val_loss: 0.5142 - val_accuracy: 0.7121\n",
      "Epoch 24/200\n",
      "33/33 [==============================] - 0s 3ms/step - loss: 0.5025 - accuracy: 0.7422 - val_loss: 0.4957 - val_accuracy: 0.7197\n",
      "Epoch 25/200\n",
      "33/33 [==============================] - 0s 3ms/step - loss: 0.5040 - accuracy: 0.7299 - val_loss: 0.5394 - val_accuracy: 0.7045\n",
      "Epoch 26/200\n",
      "33/33 [==============================] - 0s 3ms/step - loss: 0.5274 - accuracy: 0.7166 - val_loss: 0.4799 - val_accuracy: 0.7424\n",
      "Epoch 27/200\n",
      "33/33 [==============================] - 0s 3ms/step - loss: 0.4909 - accuracy: 0.7261 - val_loss: 0.4878 - val_accuracy: 0.7348\n",
      "Epoch 28/200\n",
      "33/33 [==============================] - 0s 3ms/step - loss: 0.4841 - accuracy: 0.7573 - val_loss: 0.5023 - val_accuracy: 0.7008\n",
      "Epoch 29/200\n",
      "33/33 [==============================] - 0s 3ms/step - loss: 0.4724 - accuracy: 0.7573 - val_loss: 0.5115 - val_accuracy: 0.7083\n",
      "Epoch 30/200\n",
      "33/33 [==============================] - 0s 3ms/step - loss: 0.4806 - accuracy: 0.7469 - val_loss: 0.5328 - val_accuracy: 0.6894\n",
      "Epoch 31/200\n",
      "33/33 [==============================] - 0s 3ms/step - loss: 0.4633 - accuracy: 0.7573 - val_loss: 0.4950 - val_accuracy: 0.7311\n",
      "Epoch 32/200\n",
      "33/33 [==============================] - 0s 3ms/step - loss: 0.4980 - accuracy: 0.7393 - val_loss: 0.5168 - val_accuracy: 0.7008\n",
      "Epoch 33/200\n",
      "33/33 [==============================] - 0s 2ms/step - loss: 0.4788 - accuracy: 0.7573 - val_loss: 0.5141 - val_accuracy: 0.6970\n",
      "Epoch 34/200\n",
      "33/33 [==============================] - 0s 3ms/step - loss: 0.4878 - accuracy: 0.7289 - val_loss: 0.5009 - val_accuracy: 0.7424\n",
      "Epoch 35/200\n",
      "33/33 [==============================] - 0s 3ms/step - loss: 0.4845 - accuracy: 0.7488 - val_loss: 0.4685 - val_accuracy: 0.7348\n",
      "Epoch 36/200\n",
      "33/33 [==============================] - 0s 3ms/step - loss: 0.4687 - accuracy: 0.7536 - val_loss: 0.4811 - val_accuracy: 0.7311\n",
      "Epoch 37/200\n",
      "33/33 [==============================] - 0s 3ms/step - loss: 0.4795 - accuracy: 0.7545 - val_loss: 0.5725 - val_accuracy: 0.7159\n",
      "Epoch 38/200\n",
      "33/33 [==============================] - 0s 3ms/step - loss: 0.4624 - accuracy: 0.7573 - val_loss: 0.4773 - val_accuracy: 0.7235\n",
      "Epoch 39/200\n",
      "33/33 [==============================] - 0s 3ms/step - loss: 0.4413 - accuracy: 0.7754 - val_loss: 0.4874 - val_accuracy: 0.7462\n",
      "Epoch 40/200\n",
      "33/33 [==============================] - 0s 3ms/step - loss: 0.4879 - accuracy: 0.7393 - val_loss: 0.4671 - val_accuracy: 0.7386\n",
      "Epoch 41/200\n",
      "33/33 [==============================] - 0s 3ms/step - loss: 0.4926 - accuracy: 0.7384 - val_loss: 0.4896 - val_accuracy: 0.7424\n",
      "Epoch 42/200\n",
      "33/33 [==============================] - 0s 3ms/step - loss: 0.4855 - accuracy: 0.7488 - val_loss: 0.5996 - val_accuracy: 0.6629\n",
      "Epoch 43/200\n",
      "33/33 [==============================] - 0s 3ms/step - loss: 0.4557 - accuracy: 0.7555 - val_loss: 0.4899 - val_accuracy: 0.7386\n",
      "Epoch 44/200\n",
      "33/33 [==============================] - 0s 3ms/step - loss: 0.4598 - accuracy: 0.7498 - val_loss: 0.5112 - val_accuracy: 0.7386\n",
      "Epoch 45/200\n",
      "33/33 [==============================] - 0s 3ms/step - loss: 0.4337 - accuracy: 0.7754 - val_loss: 0.4668 - val_accuracy: 0.7386\n",
      "Epoch 46/200\n",
      "33/33 [==============================] - 0s 3ms/step - loss: 0.4457 - accuracy: 0.7716 - val_loss: 0.4894 - val_accuracy: 0.7235\n",
      "Epoch 47/200\n",
      "33/33 [==============================] - 0s 3ms/step - loss: 0.4605 - accuracy: 0.7592 - val_loss: 0.4686 - val_accuracy: 0.7576\n",
      "Epoch 48/200\n",
      "33/33 [==============================] - 0s 3ms/step - loss: 0.4262 - accuracy: 0.7915 - val_loss: 0.4810 - val_accuracy: 0.7197\n",
      "Epoch 49/200\n",
      "33/33 [==============================] - 0s 3ms/step - loss: 0.4507 - accuracy: 0.7640 - val_loss: 0.4810 - val_accuracy: 0.7386\n",
      "Epoch 50/200\n",
      "33/33 [==============================] - 0s 3ms/step - loss: 0.4549 - accuracy: 0.7583 - val_loss: 0.4876 - val_accuracy: 0.7311\n",
      "Epoch 51/200\n",
      "33/33 [==============================] - 0s 3ms/step - loss: 0.4345 - accuracy: 0.7839 - val_loss: 0.4640 - val_accuracy: 0.7500\n",
      "Epoch 52/200\n",
      "33/33 [==============================] - 0s 3ms/step - loss: 0.4328 - accuracy: 0.7687 - val_loss: 0.4687 - val_accuracy: 0.7348\n",
      "Epoch 53/200\n",
      "33/33 [==============================] - 0s 3ms/step - loss: 0.4314 - accuracy: 0.7791 - val_loss: 0.4599 - val_accuracy: 0.7462\n",
      "Epoch 54/200\n",
      "33/33 [==============================] - 0s 3ms/step - loss: 0.4428 - accuracy: 0.7573 - val_loss: 0.4748 - val_accuracy: 0.7386\n",
      "Epoch 55/200\n",
      "33/33 [==============================] - 0s 3ms/step - loss: 0.4582 - accuracy: 0.7507 - val_loss: 0.5040 - val_accuracy: 0.7424\n",
      "Epoch 56/200\n",
      "33/33 [==============================] - 0s 3ms/step - loss: 0.4529 - accuracy: 0.7659 - val_loss: 0.4621 - val_accuracy: 0.7462\n",
      "Epoch 57/200\n",
      "33/33 [==============================] - 0s 3ms/step - loss: 0.4387 - accuracy: 0.7668 - val_loss: 0.4512 - val_accuracy: 0.7614\n",
      "Epoch 58/200\n",
      "33/33 [==============================] - 0s 3ms/step - loss: 0.4369 - accuracy: 0.7810 - val_loss: 0.5208 - val_accuracy: 0.7311\n"
     ]
    },
    {
     "name": "stdout",
     "output_type": "stream",
     "text": [
      "Epoch 59/200\n",
      "33/33 [==============================] - 0s 3ms/step - loss: 0.4519 - accuracy: 0.7649 - val_loss: 0.4562 - val_accuracy: 0.7538\n",
      "Epoch 60/200\n",
      "33/33 [==============================] - 0s 3ms/step - loss: 0.4283 - accuracy: 0.7763 - val_loss: 0.5457 - val_accuracy: 0.7083\n",
      "Epoch 61/200\n",
      "33/33 [==============================] - 0s 3ms/step - loss: 0.4220 - accuracy: 0.7754 - val_loss: 0.4794 - val_accuracy: 0.7348\n",
      "Epoch 62/200\n",
      "33/33 [==============================] - 0s 3ms/step - loss: 0.4104 - accuracy: 0.7915 - val_loss: 0.5249 - val_accuracy: 0.7311\n",
      "Epoch 63/200\n",
      "33/33 [==============================] - 0s 3ms/step - loss: 0.4183 - accuracy: 0.8009 - val_loss: 0.4963 - val_accuracy: 0.7538\n",
      "Epoch 64/200\n",
      "33/33 [==============================] - 0s 3ms/step - loss: 0.4088 - accuracy: 0.7735 - val_loss: 0.4675 - val_accuracy: 0.7538\n",
      "Epoch 65/200\n",
      "33/33 [==============================] - 0s 3ms/step - loss: 0.4901 - accuracy: 0.7526 - val_loss: 0.6873 - val_accuracy: 0.6477\n",
      "Epoch 66/200\n",
      "33/33 [==============================] - 0s 3ms/step - loss: 0.5024 - accuracy: 0.7374 - val_loss: 0.4750 - val_accuracy: 0.7576\n",
      "Epoch 67/200\n",
      "33/33 [==============================] - 0s 3ms/step - loss: 0.4148 - accuracy: 0.7839 - val_loss: 0.4823 - val_accuracy: 0.7348\n",
      "Epoch 68/200\n",
      "33/33 [==============================] - 0s 2ms/step - loss: 0.4141 - accuracy: 0.7829 - val_loss: 0.4774 - val_accuracy: 0.7348\n",
      "Epoch 69/200\n",
      "33/33 [==============================] - 0s 2ms/step - loss: 0.4088 - accuracy: 0.8019 - val_loss: 0.4556 - val_accuracy: 0.7348\n",
      "Epoch 70/200\n",
      "33/33 [==============================] - 0s 3ms/step - loss: 0.3990 - accuracy: 0.7943 - val_loss: 0.4707 - val_accuracy: 0.7576\n",
      "Epoch 71/200\n",
      "33/33 [==============================] - 0s 3ms/step - loss: 0.4060 - accuracy: 0.7820 - val_loss: 0.4544 - val_accuracy: 0.7727\n",
      "Epoch 72/200\n",
      "33/33 [==============================] - 0s 3ms/step - loss: 0.4162 - accuracy: 0.7943 - val_loss: 0.5300 - val_accuracy: 0.7311\n",
      "Epoch 73/200\n",
      "33/33 [==============================] - 0s 3ms/step - loss: 0.4530 - accuracy: 0.7555 - val_loss: 0.4687 - val_accuracy: 0.7500\n",
      "Epoch 74/200\n",
      "33/33 [==============================] - 0s 3ms/step - loss: 0.4661 - accuracy: 0.7488 - val_loss: 0.4792 - val_accuracy: 0.7614\n",
      "Epoch 75/200\n",
      "33/33 [==============================] - 0s 3ms/step - loss: 0.4050 - accuracy: 0.7867 - val_loss: 0.4787 - val_accuracy: 0.7652\n",
      "Epoch 76/200\n",
      "33/33 [==============================] - 0s 3ms/step - loss: 0.4121 - accuracy: 0.7867 - val_loss: 0.4777 - val_accuracy: 0.7614\n",
      "Epoch 77/200\n",
      "33/33 [==============================] - 0s 3ms/step - loss: 0.4039 - accuracy: 0.7924 - val_loss: 0.4640 - val_accuracy: 0.7576\n",
      "Epoch 78/200\n",
      "33/33 [==============================] - 0s 3ms/step - loss: 0.4071 - accuracy: 0.7943 - val_loss: 0.4969 - val_accuracy: 0.7273\n",
      "Epoch 79/200\n",
      "33/33 [==============================] - 0s 3ms/step - loss: 0.4017 - accuracy: 0.7934 - val_loss: 0.5025 - val_accuracy: 0.7424\n",
      "Epoch 80/200\n",
      "33/33 [==============================] - 0s 2ms/step - loss: 0.4111 - accuracy: 0.7839 - val_loss: 0.4770 - val_accuracy: 0.7500\n",
      "Epoch 81/200\n",
      "33/33 [==============================] - 0s 3ms/step - loss: 0.4303 - accuracy: 0.7706 - val_loss: 0.4725 - val_accuracy: 0.7462\n",
      "Epoch 82/200\n",
      "33/33 [==============================] - 0s 3ms/step - loss: 0.4451 - accuracy: 0.7536 - val_loss: 0.5565 - val_accuracy: 0.6932\n",
      "Epoch 83/200\n",
      "33/33 [==============================] - 0s 2ms/step - loss: 0.4215 - accuracy: 0.7820 - val_loss: 0.5001 - val_accuracy: 0.7500\n",
      "Epoch 84/200\n",
      "33/33 [==============================] - 0s 3ms/step - loss: 0.4095 - accuracy: 0.7962 - val_loss: 0.5628 - val_accuracy: 0.7273\n",
      "Epoch 85/200\n",
      "33/33 [==============================] - 0s 3ms/step - loss: 0.4175 - accuracy: 0.7773 - val_loss: 0.4611 - val_accuracy: 0.7462\n",
      "Epoch 86/200\n",
      "33/33 [==============================] - 0s 3ms/step - loss: 0.3982 - accuracy: 0.7981 - val_loss: 0.4611 - val_accuracy: 0.7614\n",
      "Epoch 87/200\n",
      "33/33 [==============================] - 0s 2ms/step - loss: 0.3821 - accuracy: 0.8047 - val_loss: 0.4745 - val_accuracy: 0.7500\n",
      "Epoch 88/200\n",
      "33/33 [==============================] - 0s 3ms/step - loss: 0.3884 - accuracy: 0.8000 - val_loss: 0.4977 - val_accuracy: 0.7538\n",
      "Epoch 89/200\n",
      "33/33 [==============================] - 0s 3ms/step - loss: 0.4273 - accuracy: 0.7839 - val_loss: 0.4670 - val_accuracy: 0.7576\n",
      "Epoch 90/200\n",
      "33/33 [==============================] - 0s 3ms/step - loss: 0.3848 - accuracy: 0.7953 - val_loss: 0.4842 - val_accuracy: 0.7424\n",
      "Epoch 91/200\n",
      "33/33 [==============================] - 0s 3ms/step - loss: 0.3735 - accuracy: 0.8066 - val_loss: 0.4836 - val_accuracy: 0.7614\n",
      "Epoch 92/200\n",
      "33/33 [==============================] - 0s 2ms/step - loss: 0.3786 - accuracy: 0.8057 - val_loss: 0.5227 - val_accuracy: 0.7424\n",
      "Epoch 93/200\n",
      "33/33 [==============================] - 0s 3ms/step - loss: 0.3938 - accuracy: 0.7962 - val_loss: 0.4653 - val_accuracy: 0.7689\n",
      "Epoch 94/200\n",
      "33/33 [==============================] - 0s 3ms/step - loss: 0.3803 - accuracy: 0.8038 - val_loss: 0.4570 - val_accuracy: 0.7689\n",
      "Epoch 95/200\n",
      "33/33 [==============================] - 0s 3ms/step - loss: 0.3720 - accuracy: 0.8227 - val_loss: 0.5594 - val_accuracy: 0.7311\n",
      "Epoch 96/200\n",
      "33/33 [==============================] - 0s 2ms/step - loss: 0.4241 - accuracy: 0.7839 - val_loss: 0.4858 - val_accuracy: 0.7424\n",
      "Epoch 97/200\n",
      "33/33 [==============================] - 0s 2ms/step - loss: 0.3738 - accuracy: 0.8123 - val_loss: 0.4490 - val_accuracy: 0.7803\n",
      "Epoch 98/200\n",
      "33/33 [==============================] - 0s 3ms/step - loss: 0.3843 - accuracy: 0.8066 - val_loss: 0.6779 - val_accuracy: 0.6856\n",
      "Epoch 99/200\n",
      "33/33 [==============================] - 0s 3ms/step - loss: 0.4458 - accuracy: 0.7697 - val_loss: 0.4649 - val_accuracy: 0.7652\n",
      "Epoch 100/200\n",
      "33/33 [==============================] - 0s 2ms/step - loss: 0.3895 - accuracy: 0.8066 - val_loss: 0.4835 - val_accuracy: 0.7500\n",
      "Epoch 101/200\n",
      "33/33 [==============================] - 0s 3ms/step - loss: 0.4492 - accuracy: 0.7687 - val_loss: 0.4617 - val_accuracy: 0.7538\n",
      "Epoch 102/200\n",
      "33/33 [==============================] - 0s 2ms/step - loss: 0.4522 - accuracy: 0.7668 - val_loss: 0.4804 - val_accuracy: 0.7386\n",
      "Epoch 103/200\n",
      "33/33 [==============================] - 0s 3ms/step - loss: 0.4175 - accuracy: 0.7848 - val_loss: 0.4587 - val_accuracy: 0.7462\n",
      "Epoch 104/200\n",
      "33/33 [==============================] - 0s 3ms/step - loss: 0.3827 - accuracy: 0.7991 - val_loss: 0.4628 - val_accuracy: 0.7424\n",
      "Epoch 105/200\n",
      "33/33 [==============================] - 0s 2ms/step - loss: 0.3616 - accuracy: 0.8085 - val_loss: 0.4654 - val_accuracy: 0.7765\n",
      "Epoch 106/200\n",
      "33/33 [==============================] - 0s 3ms/step - loss: 0.3785 - accuracy: 0.7981 - val_loss: 0.4988 - val_accuracy: 0.7614\n",
      "Epoch 107/200\n",
      "33/33 [==============================] - 0s 3ms/step - loss: 0.3759 - accuracy: 0.8076 - val_loss: 0.4741 - val_accuracy: 0.7727\n",
      "Epoch 108/200\n",
      "33/33 [==============================] - 0s 3ms/step - loss: 0.3683 - accuracy: 0.8076 - val_loss: 0.5054 - val_accuracy: 0.7273\n",
      "Epoch 109/200\n",
      "33/33 [==============================] - 0s 3ms/step - loss: 0.3574 - accuracy: 0.8152 - val_loss: 0.4500 - val_accuracy: 0.7652\n",
      "Epoch 110/200\n",
      "33/33 [==============================] - 0s 2ms/step - loss: 0.3659 - accuracy: 0.8161 - val_loss: 0.4850 - val_accuracy: 0.7765\n",
      "Epoch 111/200\n",
      "33/33 [==============================] - 0s 3ms/step - loss: 0.3570 - accuracy: 0.8313 - val_loss: 0.4471 - val_accuracy: 0.7727\n",
      "Epoch 112/200\n",
      "33/33 [==============================] - 0s 3ms/step - loss: 0.3510 - accuracy: 0.8294 - val_loss: 0.4699 - val_accuracy: 0.7727\n",
      "Epoch 113/200\n",
      "33/33 [==============================] - 0s 2ms/step - loss: 0.3550 - accuracy: 0.8171 - val_loss: 0.4736 - val_accuracy: 0.7689\n",
      "Epoch 114/200\n",
      "33/33 [==============================] - 0s 3ms/step - loss: 0.3416 - accuracy: 0.8398 - val_loss: 0.4867 - val_accuracy: 0.7689\n",
      "Epoch 115/200\n",
      "33/33 [==============================] - 0s 3ms/step - loss: 0.3440 - accuracy: 0.8313 - val_loss: 0.4918 - val_accuracy: 0.7803\n",
      "Epoch 116/200\n"
     ]
    },
    {
     "name": "stdout",
     "output_type": "stream",
     "text": [
      "33/33 [==============================] - 0s 3ms/step - loss: 0.3676 - accuracy: 0.8190 - val_loss: 0.4795 - val_accuracy: 0.7765\n",
      "Epoch 117/200\n",
      "33/33 [==============================] - 0s 2ms/step - loss: 0.3521 - accuracy: 0.8246 - val_loss: 0.4500 - val_accuracy: 0.7879\n",
      "Epoch 118/200\n",
      "33/33 [==============================] - 0s 3ms/step - loss: 0.3724 - accuracy: 0.8019 - val_loss: 0.4387 - val_accuracy: 0.7689\n",
      "Epoch 119/200\n",
      "33/33 [==============================] - 0s 3ms/step - loss: 0.3622 - accuracy: 0.8341 - val_loss: 0.4686 - val_accuracy: 0.7500\n",
      "Epoch 120/200\n",
      "33/33 [==============================] - 0s 3ms/step - loss: 0.3365 - accuracy: 0.8417 - val_loss: 0.4646 - val_accuracy: 0.7538\n",
      "Epoch 121/200\n",
      "33/33 [==============================] - 0s 3ms/step - loss: 0.3549 - accuracy: 0.8246 - val_loss: 0.5802 - val_accuracy: 0.7159\n",
      "Epoch 122/200\n",
      "33/33 [==============================] - 0s 2ms/step - loss: 0.3702 - accuracy: 0.8066 - val_loss: 0.4815 - val_accuracy: 0.7576\n",
      "Epoch 123/200\n",
      "33/33 [==============================] - 0s 3ms/step - loss: 0.3514 - accuracy: 0.8171 - val_loss: 0.4597 - val_accuracy: 0.7614\n",
      "Epoch 124/200\n",
      "33/33 [==============================] - 0s 3ms/step - loss: 0.3403 - accuracy: 0.8256 - val_loss: 0.4521 - val_accuracy: 0.7803\n",
      "Epoch 125/200\n",
      "33/33 [==============================] - 0s 3ms/step - loss: 0.3383 - accuracy: 0.8360 - val_loss: 0.5045 - val_accuracy: 0.7652\n",
      "Epoch 126/200\n",
      "33/33 [==============================] - 0s 2ms/step - loss: 0.3480 - accuracy: 0.8275 - val_loss: 0.4728 - val_accuracy: 0.7955\n",
      "Epoch 127/200\n",
      "33/33 [==============================] - 0s 3ms/step - loss: 0.3294 - accuracy: 0.8427 - val_loss: 0.5846 - val_accuracy: 0.7159\n",
      "Epoch 128/200\n",
      "33/33 [==============================] - 0s 2ms/step - loss: 0.3807 - accuracy: 0.7962 - val_loss: 0.4575 - val_accuracy: 0.7689\n",
      "Epoch 129/200\n",
      "33/33 [==============================] - 0s 2ms/step - loss: 0.3241 - accuracy: 0.8493 - val_loss: 0.4787 - val_accuracy: 0.7689\n",
      "Epoch 130/200\n",
      "33/33 [==============================] - 0s 3ms/step - loss: 0.3212 - accuracy: 0.8417 - val_loss: 0.4619 - val_accuracy: 0.7727\n",
      "Epoch 131/200\n",
      "33/33 [==============================] - 0s 3ms/step - loss: 0.3517 - accuracy: 0.8227 - val_loss: 0.4911 - val_accuracy: 0.7424\n",
      "Epoch 132/200\n",
      "33/33 [==============================] - 0s 2ms/step - loss: 0.3203 - accuracy: 0.8493 - val_loss: 0.4736 - val_accuracy: 0.7652\n",
      "Epoch 133/200\n",
      "33/33 [==============================] - 0s 2ms/step - loss: 0.3831 - accuracy: 0.8000 - val_loss: 0.5217 - val_accuracy: 0.7614\n",
      "Epoch 134/200\n",
      "33/33 [==============================] - 0s 3ms/step - loss: 0.3622 - accuracy: 0.8047 - val_loss: 0.4965 - val_accuracy: 0.7614\n",
      "Epoch 135/200\n",
      "33/33 [==============================] - 0s 3ms/step - loss: 0.3330 - accuracy: 0.8275 - val_loss: 0.5100 - val_accuracy: 0.7500\n",
      "Epoch 136/200\n",
      "33/33 [==============================] - 0s 3ms/step - loss: 0.3213 - accuracy: 0.8313 - val_loss: 0.5437 - val_accuracy: 0.7727\n",
      "Epoch 137/200\n",
      "33/33 [==============================] - 0s 2ms/step - loss: 0.3375 - accuracy: 0.8341 - val_loss: 0.5021 - val_accuracy: 0.7500\n",
      "Epoch 138/200\n",
      "33/33 [==============================] - 0s 3ms/step - loss: 0.3294 - accuracy: 0.8379 - val_loss: 0.5196 - val_accuracy: 0.7765\n",
      "Epoch 139/200\n",
      "33/33 [==============================] - 0s 3ms/step - loss: 0.3489 - accuracy: 0.8332 - val_loss: 0.4858 - val_accuracy: 0.7500\n",
      "Epoch 140/200\n",
      "33/33 [==============================] - 0s 2ms/step - loss: 0.3604 - accuracy: 0.8351 - val_loss: 0.5006 - val_accuracy: 0.7424\n",
      "Epoch 141/200\n",
      "33/33 [==============================] - 0s 2ms/step - loss: 0.3365 - accuracy: 0.8275 - val_loss: 0.4777 - val_accuracy: 0.7689\n",
      "Epoch 142/200\n",
      "33/33 [==============================] - 0s 3ms/step - loss: 0.3139 - accuracy: 0.8550 - val_loss: 0.4885 - val_accuracy: 0.7652\n",
      "Epoch 143/200\n",
      "33/33 [==============================] - 0s 3ms/step - loss: 0.3133 - accuracy: 0.8531 - val_loss: 0.5661 - val_accuracy: 0.7348\n",
      "Epoch 144/200\n",
      "33/33 [==============================] - 0s 2ms/step - loss: 0.3203 - accuracy: 0.8464 - val_loss: 0.5246 - val_accuracy: 0.7386\n",
      "Epoch 145/200\n",
      "33/33 [==============================] - 0s 3ms/step - loss: 0.4197 - accuracy: 0.7962 - val_loss: 0.5214 - val_accuracy: 0.7424\n",
      "Epoch 146/200\n",
      "33/33 [==============================] - 0s 3ms/step - loss: 0.3479 - accuracy: 0.8351 - val_loss: 0.5218 - val_accuracy: 0.7500\n",
      "Epoch 147/200\n",
      "33/33 [==============================] - 0s 2ms/step - loss: 0.3353 - accuracy: 0.8275 - val_loss: 0.4742 - val_accuracy: 0.7765\n",
      "Epoch 148/200\n",
      "33/33 [==============================] - 0s 2ms/step - loss: 0.3121 - accuracy: 0.8502 - val_loss: 0.5217 - val_accuracy: 0.7386\n",
      "Epoch 149/200\n",
      "33/33 [==============================] - 0s 3ms/step - loss: 0.3321 - accuracy: 0.8275 - val_loss: 0.5042 - val_accuracy: 0.7500\n",
      "Epoch 150/200\n",
      "33/33 [==============================] - 0s 3ms/step - loss: 0.3121 - accuracy: 0.8455 - val_loss: 0.5199 - val_accuracy: 0.7424\n",
      "Epoch 151/200\n",
      "33/33 [==============================] - 0s 3ms/step - loss: 0.3142 - accuracy: 0.8493 - val_loss: 0.5660 - val_accuracy: 0.7386\n",
      "Epoch 152/200\n",
      "33/33 [==============================] - 0s 3ms/step - loss: 0.3144 - accuracy: 0.8531 - val_loss: 0.4936 - val_accuracy: 0.7765\n",
      "Epoch 153/200\n",
      "33/33 [==============================] - 0s 3ms/step - loss: 0.3009 - accuracy: 0.8569 - val_loss: 0.6569 - val_accuracy: 0.7083\n",
      "Epoch 154/200\n",
      "33/33 [==============================] - 0s 3ms/step - loss: 0.3301 - accuracy: 0.8483 - val_loss: 0.5104 - val_accuracy: 0.7727\n",
      "Epoch 155/200\n",
      "33/33 [==============================] - 0s 2ms/step - loss: 0.3018 - accuracy: 0.8626 - val_loss: 0.5475 - val_accuracy: 0.7538\n",
      "Epoch 156/200\n",
      "33/33 [==============================] - 0s 3ms/step - loss: 0.3037 - accuracy: 0.8559 - val_loss: 0.7478 - val_accuracy: 0.7197\n",
      "Epoch 157/200\n",
      "33/33 [==============================] - 0s 2ms/step - loss: 0.3337 - accuracy: 0.8398 - val_loss: 0.5078 - val_accuracy: 0.7689\n",
      "Epoch 158/200\n",
      "33/33 [==============================] - 0s 2ms/step - loss: 0.3131 - accuracy: 0.8379 - val_loss: 0.5343 - val_accuracy: 0.7386\n",
      "Epoch 159/200\n",
      "33/33 [==============================] - 0s 3ms/step - loss: 0.3203 - accuracy: 0.8341 - val_loss: 0.5193 - val_accuracy: 0.7955\n",
      "Epoch 160/200\n",
      "33/33 [==============================] - 0s 3ms/step - loss: 0.3073 - accuracy: 0.8531 - val_loss: 0.4970 - val_accuracy: 0.7955\n",
      "Epoch 161/200\n",
      "33/33 [==============================] - 0s 3ms/step - loss: 0.3010 - accuracy: 0.8540 - val_loss: 0.6627 - val_accuracy: 0.7083\n",
      "Epoch 162/200\n",
      "33/33 [==============================] - 0s 3ms/step - loss: 0.3294 - accuracy: 0.8436 - val_loss: 0.4713 - val_accuracy: 0.7955\n",
      "Epoch 163/200\n",
      "33/33 [==============================] - 0s 3ms/step - loss: 0.2946 - accuracy: 0.8540 - val_loss: 0.5158 - val_accuracy: 0.7955\n",
      "Epoch 164/200\n",
      "33/33 [==============================] - 0s 3ms/step - loss: 0.3022 - accuracy: 0.8569 - val_loss: 0.4716 - val_accuracy: 0.7727\n",
      "Epoch 165/200\n",
      "33/33 [==============================] - 0s 3ms/step - loss: 0.2841 - accuracy: 0.8664 - val_loss: 0.5152 - val_accuracy: 0.7765\n",
      "Epoch 166/200\n",
      "33/33 [==============================] - 0s 3ms/step - loss: 0.3170 - accuracy: 0.8294 - val_loss: 0.4873 - val_accuracy: 0.7879\n",
      "Epoch 167/200\n",
      "33/33 [==============================] - 0s 3ms/step - loss: 0.2866 - accuracy: 0.8673 - val_loss: 0.5346 - val_accuracy: 0.7576\n",
      "Epoch 168/200\n",
      "33/33 [==============================] - 0s 3ms/step - loss: 0.2976 - accuracy: 0.8654 - val_loss: 0.4756 - val_accuracy: 0.7917\n",
      "Epoch 169/200\n",
      "33/33 [==============================] - 0s 3ms/step - loss: 0.3031 - accuracy: 0.8445 - val_loss: 0.5203 - val_accuracy: 0.7538\n",
      "Epoch 170/200\n",
      "33/33 [==============================] - 0s 2ms/step - loss: 0.2814 - accuracy: 0.8645 - val_loss: 0.5531 - val_accuracy: 0.7727\n",
      "Epoch 171/200\n",
      "33/33 [==============================] - 0s 2ms/step - loss: 0.2999 - accuracy: 0.8616 - val_loss: 0.5234 - val_accuracy: 0.7689\n",
      "Epoch 172/200\n",
      "33/33 [==============================] - 0s 2ms/step - loss: 0.2765 - accuracy: 0.8664 - val_loss: 0.5743 - val_accuracy: 0.7614\n",
      "Epoch 173/200\n"
     ]
    },
    {
     "name": "stdout",
     "output_type": "stream",
     "text": [
      "33/33 [==============================] - 0s 2ms/step - loss: 0.2980 - accuracy: 0.8483 - val_loss: 0.5506 - val_accuracy: 0.7500\n",
      "Epoch 174/200\n",
      "33/33 [==============================] - 0s 3ms/step - loss: 0.2762 - accuracy: 0.8749 - val_loss: 0.6538 - val_accuracy: 0.7841\n",
      "Epoch 175/200\n",
      "33/33 [==============================] - 0s 2ms/step - loss: 0.2984 - accuracy: 0.8559 - val_loss: 0.5540 - val_accuracy: 0.7689\n",
      "Epoch 176/200\n",
      "33/33 [==============================] - 0s 3ms/step - loss: 0.2809 - accuracy: 0.8607 - val_loss: 0.4984 - val_accuracy: 0.7879\n",
      "Epoch 177/200\n",
      "33/33 [==============================] - 0s 3ms/step - loss: 0.2910 - accuracy: 0.8550 - val_loss: 0.5191 - val_accuracy: 0.7992\n",
      "Epoch 178/200\n",
      "33/33 [==============================] - 0s 2ms/step - loss: 0.3015 - accuracy: 0.8521 - val_loss: 0.5458 - val_accuracy: 0.7500\n",
      "Epoch 179/200\n",
      "33/33 [==============================] - 0s 3ms/step - loss: 0.3050 - accuracy: 0.8550 - val_loss: 0.4979 - val_accuracy: 0.7803\n",
      "Epoch 180/200\n",
      "33/33 [==============================] - 0s 3ms/step - loss: 0.2931 - accuracy: 0.8559 - val_loss: 0.5896 - val_accuracy: 0.7689\n",
      "Epoch 181/200\n",
      "33/33 [==============================] - 0s 3ms/step - loss: 0.2734 - accuracy: 0.8692 - val_loss: 0.5382 - val_accuracy: 0.7500\n",
      "Epoch 182/200\n",
      "33/33 [==============================] - 0s 3ms/step - loss: 0.2850 - accuracy: 0.8578 - val_loss: 0.6494 - val_accuracy: 0.7235\n",
      "Epoch 183/200\n",
      "33/33 [==============================] - 0s 3ms/step - loss: 0.2714 - accuracy: 0.8711 - val_loss: 0.5249 - val_accuracy: 0.7462\n",
      "Epoch 184/200\n",
      "33/33 [==============================] - 0s 2ms/step - loss: 0.3193 - accuracy: 0.8455 - val_loss: 0.5629 - val_accuracy: 0.7803\n",
      "Epoch 185/200\n",
      "33/33 [==============================] - 0s 3ms/step - loss: 0.2771 - accuracy: 0.8711 - val_loss: 0.5773 - val_accuracy: 0.7765\n",
      "Epoch 186/200\n",
      "33/33 [==============================] - 0s 2ms/step - loss: 0.2854 - accuracy: 0.8616 - val_loss: 0.5015 - val_accuracy: 0.7879\n",
      "Epoch 187/200\n",
      "33/33 [==============================] - 0s 2ms/step - loss: 0.2674 - accuracy: 0.8739 - val_loss: 0.7398 - val_accuracy: 0.7197\n",
      "Epoch 188/200\n",
      "33/33 [==============================] - 0s 3ms/step - loss: 0.3121 - accuracy: 0.8408 - val_loss: 0.5472 - val_accuracy: 0.7652\n",
      "Epoch 189/200\n",
      "33/33 [==============================] - 0s 2ms/step - loss: 0.2841 - accuracy: 0.8569 - val_loss: 0.5528 - val_accuracy: 0.7500\n",
      "Epoch 190/200\n",
      "33/33 [==============================] - 0s 2ms/step - loss: 0.2465 - accuracy: 0.8844 - val_loss: 0.5751 - val_accuracy: 0.7652\n",
      "Epoch 191/200\n",
      "33/33 [==============================] - 0s 3ms/step - loss: 0.2915 - accuracy: 0.8531 - val_loss: 0.5586 - val_accuracy: 0.7955\n",
      "Epoch 192/200\n",
      "33/33 [==============================] - 0s 3ms/step - loss: 0.2772 - accuracy: 0.8749 - val_loss: 0.5523 - val_accuracy: 0.7765\n",
      "Epoch 193/200\n",
      "33/33 [==============================] - 0s 2ms/step - loss: 0.2454 - accuracy: 0.8948 - val_loss: 0.6482 - val_accuracy: 0.7727\n",
      "Epoch 194/200\n",
      "33/33 [==============================] - 0s 3ms/step - loss: 0.3162 - accuracy: 0.8370 - val_loss: 0.5983 - val_accuracy: 0.7652\n",
      "Epoch 195/200\n",
      "33/33 [==============================] - 0s 2ms/step - loss: 0.2618 - accuracy: 0.8806 - val_loss: 0.6729 - val_accuracy: 0.7500\n",
      "Epoch 196/200\n",
      "33/33 [==============================] - 0s 3ms/step - loss: 0.2896 - accuracy: 0.8616 - val_loss: 0.5808 - val_accuracy: 0.7879\n",
      "Epoch 197/200\n",
      "33/33 [==============================] - 0s 2ms/step - loss: 0.2630 - accuracy: 0.8758 - val_loss: 0.5697 - val_accuracy: 0.7652\n",
      "Epoch 198/200\n",
      "33/33 [==============================] - 0s 3ms/step - loss: 0.3370 - accuracy: 0.8360 - val_loss: 0.6203 - val_accuracy: 0.7765\n",
      "Epoch 199/200\n",
      "33/33 [==============================] - 0s 2ms/step - loss: 0.2549 - accuracy: 0.8853 - val_loss: 0.5845 - val_accuracy: 0.7803\n",
      "Epoch 200/200\n",
      "33/33 [==============================] - 0s 2ms/step - loss: 0.2562 - accuracy: 0.8825 - val_loss: 0.5989 - val_accuracy: 0.7727\n"
     ]
    }
   ],
   "source": [
    "history_mlp = model_ogml.fit(train_x, train_y, validation_data=(test_x, test_y), epochs=200)"
   ]
  },
  {
   "cell_type": "code",
   "execution_count": 186,
   "metadata": {},
   "outputs": [],
   "source": [
    "ss = StandardScaler()"
   ]
  },
  {
   "cell_type": "code",
   "execution_count": 187,
   "metadata": {},
   "outputs": [],
   "source": [
    "train_x = ss.fit_transform(train_x)"
   ]
  },
  {
   "cell_type": "code",
   "execution_count": 188,
   "metadata": {},
   "outputs": [],
   "source": [
    "test_x = ss.fit_transform(test_x)"
   ]
  },
  {
   "cell_type": "code",
   "execution_count": 189,
   "metadata": {},
   "outputs": [
    {
     "name": "stdout",
     "output_type": "stream",
     "text": [
      "Epoch 1/200\n",
      "27/27 [==============================] - 0s 9ms/step - loss: 0.8243 - accuracy: 0.6007 - val_loss: 0.5531 - val_accuracy: 0.6730\n",
      "Epoch 2/200\n",
      "27/27 [==============================] - 0s 3ms/step - loss: 0.5798 - accuracy: 0.7121 - val_loss: 0.5158 - val_accuracy: 0.6967\n",
      "Epoch 3/200\n",
      "27/27 [==============================] - 0s 3ms/step - loss: 0.5696 - accuracy: 0.7571 - val_loss: 0.4826 - val_accuracy: 0.7583\n",
      "Epoch 4/200\n",
      "27/27 [==============================] - 0s 3ms/step - loss: 0.4807 - accuracy: 0.7820 - val_loss: 0.5240 - val_accuracy: 0.6777\n",
      "Epoch 5/200\n",
      "27/27 [==============================] - 0s 3ms/step - loss: 0.4484 - accuracy: 0.7773 - val_loss: 0.4623 - val_accuracy: 0.7393\n",
      "Epoch 6/200\n",
      "27/27 [==============================] - 0s 3ms/step - loss: 0.4332 - accuracy: 0.7915 - val_loss: 0.4658 - val_accuracy: 0.7678\n",
      "Epoch 7/200\n",
      "27/27 [==============================] - 0s 3ms/step - loss: 0.3921 - accuracy: 0.8282 - val_loss: 0.4634 - val_accuracy: 0.7583\n",
      "Epoch 8/200\n",
      "27/27 [==============================] - 0s 3ms/step - loss: 0.3689 - accuracy: 0.8270 - val_loss: 0.3870 - val_accuracy: 0.8294\n",
      "Epoch 9/200\n",
      "27/27 [==============================] - 0s 3ms/step - loss: 0.3548 - accuracy: 0.8412 - val_loss: 0.4343 - val_accuracy: 0.7393\n",
      "Epoch 10/200\n",
      "27/27 [==============================] - 0s 3ms/step - loss: 0.3445 - accuracy: 0.8448 - val_loss: 0.4260 - val_accuracy: 0.7915\n",
      "Epoch 11/200\n",
      "27/27 [==============================] - 0s 3ms/step - loss: 0.3157 - accuracy: 0.8602 - val_loss: 0.4262 - val_accuracy: 0.7820\n",
      "Epoch 12/200\n",
      "27/27 [==============================] - 0s 3ms/step - loss: 0.3272 - accuracy: 0.8400 - val_loss: 0.3919 - val_accuracy: 0.8152\n",
      "Epoch 13/200\n",
      "27/27 [==============================] - 0s 3ms/step - loss: 0.3213 - accuracy: 0.8851 - val_loss: 0.4006 - val_accuracy: 0.8152\n",
      "Epoch 14/200\n",
      "27/27 [==============================] - 0s 3ms/step - loss: 0.3021 - accuracy: 0.8614 - val_loss: 0.4299 - val_accuracy: 0.8104\n",
      "Epoch 15/200\n",
      "27/27 [==============================] - 0s 3ms/step - loss: 0.2836 - accuracy: 0.8637 - val_loss: 0.3834 - val_accuracy: 0.8436\n",
      "Epoch 16/200\n",
      "27/27 [==============================] - 0s 3ms/step - loss: 0.2970 - accuracy: 0.8709 - val_loss: 0.3795 - val_accuracy: 0.8199\n",
      "Epoch 17/200\n",
      "27/27 [==============================] - 0s 3ms/step - loss: 0.2628 - accuracy: 0.9017 - val_loss: 0.3961 - val_accuracy: 0.8341\n",
      "Epoch 18/200\n",
      "27/27 [==============================] - 0s 3ms/step - loss: 0.2602 - accuracy: 0.8827 - val_loss: 0.3902 - val_accuracy: 0.8389\n",
      "Epoch 19/200\n",
      "27/27 [==============================] - 0s 3ms/step - loss: 0.2639 - accuracy: 0.8851 - val_loss: 0.3712 - val_accuracy: 0.8389\n",
      "Epoch 20/200\n",
      "27/27 [==============================] - 0s 3ms/step - loss: 0.2503 - accuracy: 0.9017 - val_loss: 0.3973 - val_accuracy: 0.7915\n",
      "Epoch 21/200\n",
      "27/27 [==============================] - 0s 3ms/step - loss: 0.2388 - accuracy: 0.9076 - val_loss: 0.4233 - val_accuracy: 0.8246\n",
      "Epoch 22/200\n",
      "27/27 [==============================] - 0s 3ms/step - loss: 0.2380 - accuracy: 0.9052 - val_loss: 0.3696 - val_accuracy: 0.8436\n",
      "Epoch 23/200\n",
      "27/27 [==============================] - 0s 3ms/step - loss: 0.2334 - accuracy: 0.8993 - val_loss: 0.3784 - val_accuracy: 0.8531\n",
      "Epoch 24/200\n",
      "27/27 [==============================] - 0s 3ms/step - loss: 0.2352 - accuracy: 0.9076 - val_loss: 0.3979 - val_accuracy: 0.8246\n",
      "Epoch 25/200\n",
      "27/27 [==============================] - 0s 3ms/step - loss: 0.2222 - accuracy: 0.9111 - val_loss: 0.4341 - val_accuracy: 0.8246\n",
      "Epoch 26/200\n",
      "27/27 [==============================] - 0s 3ms/step - loss: 0.2182 - accuracy: 0.9088 - val_loss: 0.3673 - val_accuracy: 0.8578\n",
      "Epoch 27/200\n",
      "27/27 [==============================] - 0s 3ms/step - loss: 0.2227 - accuracy: 0.9040 - val_loss: 0.4775 - val_accuracy: 0.8294\n",
      "Epoch 28/200\n",
      "27/27 [==============================] - 0s 3ms/step - loss: 0.2024 - accuracy: 0.9242 - val_loss: 0.4375 - val_accuracy: 0.8152\n",
      "Epoch 29/200\n",
      "27/27 [==============================] - 0s 3ms/step - loss: 0.2074 - accuracy: 0.9159 - val_loss: 0.3779 - val_accuracy: 0.8436\n",
      "Epoch 30/200\n",
      "27/27 [==============================] - 0s 3ms/step - loss: 0.1967 - accuracy: 0.9171 - val_loss: 0.4636 - val_accuracy: 0.8104\n",
      "Epoch 31/200\n",
      "27/27 [==============================] - 0s 3ms/step - loss: 0.2242 - accuracy: 0.9040 - val_loss: 0.4750 - val_accuracy: 0.8199\n",
      "Epoch 32/200\n",
      "27/27 [==============================] - 0s 3ms/step - loss: 0.1848 - accuracy: 0.9301 - val_loss: 0.4059 - val_accuracy: 0.8483\n",
      "Epoch 33/200\n",
      "27/27 [==============================] - 0s 3ms/step - loss: 0.1891 - accuracy: 0.9313 - val_loss: 0.4879 - val_accuracy: 0.8389\n",
      "Epoch 34/200\n",
      "27/27 [==============================] - 0s 3ms/step - loss: 0.1899 - accuracy: 0.9254 - val_loss: 0.4310 - val_accuracy: 0.8246\n",
      "Epoch 35/200\n",
      "27/27 [==============================] - 0s 3ms/step - loss: 0.1853 - accuracy: 0.9396 - val_loss: 0.4945 - val_accuracy: 0.8294\n",
      "Epoch 36/200\n",
      "27/27 [==============================] - 0s 3ms/step - loss: 0.2010 - accuracy: 0.9265 - val_loss: 0.4286 - val_accuracy: 0.8341\n",
      "Epoch 37/200\n",
      "27/27 [==============================] - 0s 3ms/step - loss: 0.1747 - accuracy: 0.9419 - val_loss: 0.4169 - val_accuracy: 0.8626\n",
      "Epoch 38/200\n",
      "27/27 [==============================] - 0s 3ms/step - loss: 0.1754 - accuracy: 0.9408 - val_loss: 0.3902 - val_accuracy: 0.8673\n",
      "Epoch 39/200\n",
      "27/27 [==============================] - 0s 3ms/step - loss: 0.1614 - accuracy: 0.9396 - val_loss: 0.4904 - val_accuracy: 0.8294\n",
      "Epoch 40/200\n",
      "27/27 [==============================] - 0s 3ms/step - loss: 0.1694 - accuracy: 0.9372 - val_loss: 0.3990 - val_accuracy: 0.8626\n",
      "Epoch 41/200\n",
      "27/27 [==============================] - 0s 3ms/step - loss: 0.1659 - accuracy: 0.9348 - val_loss: 0.4574 - val_accuracy: 0.8483\n",
      "Epoch 42/200\n",
      "27/27 [==============================] - 0s 3ms/step - loss: 0.1566 - accuracy: 0.9419 - val_loss: 0.4578 - val_accuracy: 0.8720\n",
      "Epoch 43/200\n",
      "27/27 [==============================] - 0s 3ms/step - loss: 0.1734 - accuracy: 0.9384 - val_loss: 0.4105 - val_accuracy: 0.8673\n",
      "Epoch 44/200\n",
      "27/27 [==============================] - 0s 3ms/step - loss: 0.1700 - accuracy: 0.9325 - val_loss: 0.4083 - val_accuracy: 0.8578\n",
      "Epoch 45/200\n",
      "27/27 [==============================] - 0s 3ms/step - loss: 0.1696 - accuracy: 0.9372 - val_loss: 0.4031 - val_accuracy: 0.8768\n",
      "Epoch 46/200\n",
      "27/27 [==============================] - 0s 3ms/step - loss: 0.1544 - accuracy: 0.9431 - val_loss: 0.4458 - val_accuracy: 0.8483\n",
      "Epoch 47/200\n",
      "27/27 [==============================] - 0s 3ms/step - loss: 0.1480 - accuracy: 0.9502 - val_loss: 0.4944 - val_accuracy: 0.8246\n",
      "Epoch 48/200\n",
      "27/27 [==============================] - 0s 3ms/step - loss: 0.1505 - accuracy: 0.9479 - val_loss: 0.4181 - val_accuracy: 0.8720\n",
      "Epoch 49/200\n",
      "27/27 [==============================] - 0s 3ms/step - loss: 0.1732 - accuracy: 0.9289 - val_loss: 0.4828 - val_accuracy: 0.8389\n",
      "Epoch 50/200\n",
      "27/27 [==============================] - 0s 3ms/step - loss: 0.1379 - accuracy: 0.9467 - val_loss: 0.4282 - val_accuracy: 0.8626\n",
      "Epoch 51/200\n",
      "27/27 [==============================] - 0s 3ms/step - loss: 0.1369 - accuracy: 0.9538 - val_loss: 0.4069 - val_accuracy: 0.8768\n",
      "Epoch 52/200\n",
      "27/27 [==============================] - 0s 3ms/step - loss: 0.1495 - accuracy: 0.9455 - val_loss: 0.4257 - val_accuracy: 0.8578\n",
      "Epoch 53/200\n",
      "27/27 [==============================] - 0s 3ms/step - loss: 0.1367 - accuracy: 0.9479 - val_loss: 0.4933 - val_accuracy: 0.8483\n",
      "Epoch 54/200\n",
      "27/27 [==============================] - 0s 3ms/step - loss: 0.1632 - accuracy: 0.9431 - val_loss: 0.5288 - val_accuracy: 0.8294\n",
      "Epoch 55/200\n",
      "27/27 [==============================] - 0s 3ms/step - loss: 0.1367 - accuracy: 0.9431 - val_loss: 0.4354 - val_accuracy: 0.8626\n",
      "Epoch 56/200\n",
      "27/27 [==============================] - 0s 3ms/step - loss: 0.1392 - accuracy: 0.9550 - val_loss: 0.4514 - val_accuracy: 0.8720\n",
      "Epoch 57/200\n",
      "27/27 [==============================] - 0s 3ms/step - loss: 0.1364 - accuracy: 0.9514 - val_loss: 0.5040 - val_accuracy: 0.8389\n",
      "Epoch 58/200\n",
      "27/27 [==============================] - 0s 3ms/step - loss: 0.1476 - accuracy: 0.9538 - val_loss: 0.5430 - val_accuracy: 0.8294\n"
     ]
    },
    {
     "name": "stdout",
     "output_type": "stream",
     "text": [
      "Epoch 59/200\n",
      "27/27 [==============================] - 0s 3ms/step - loss: 0.1338 - accuracy: 0.9502 - val_loss: 0.4274 - val_accuracy: 0.8910\n",
      "Epoch 60/200\n",
      "27/27 [==============================] - 0s 3ms/step - loss: 0.1474 - accuracy: 0.9443 - val_loss: 0.4569 - val_accuracy: 0.8720\n",
      "Epoch 61/200\n",
      "27/27 [==============================] - 0s 3ms/step - loss: 0.1188 - accuracy: 0.9562 - val_loss: 0.5702 - val_accuracy: 0.8246\n",
      "Epoch 62/200\n",
      "27/27 [==============================] - 0s 3ms/step - loss: 0.1349 - accuracy: 0.9455 - val_loss: 0.4999 - val_accuracy: 0.8626\n",
      "Epoch 63/200\n",
      "27/27 [==============================] - 0s 3ms/step - loss: 0.1317 - accuracy: 0.9455 - val_loss: 0.4944 - val_accuracy: 0.8483\n",
      "Epoch 64/200\n",
      "27/27 [==============================] - 0s 3ms/step - loss: 0.1256 - accuracy: 0.9526 - val_loss: 0.4604 - val_accuracy: 0.8673\n",
      "Epoch 65/200\n",
      "27/27 [==============================] - 0s 3ms/step - loss: 0.1220 - accuracy: 0.9514 - val_loss: 0.5138 - val_accuracy: 0.8483\n",
      "Epoch 66/200\n",
      "27/27 [==============================] - 0s 3ms/step - loss: 0.1097 - accuracy: 0.9668 - val_loss: 0.4809 - val_accuracy: 0.8720\n",
      "Epoch 67/200\n",
      "27/27 [==============================] - 0s 3ms/step - loss: 0.1292 - accuracy: 0.9467 - val_loss: 0.4714 - val_accuracy: 0.8531\n",
      "Epoch 68/200\n",
      "27/27 [==============================] - 0s 3ms/step - loss: 0.1314 - accuracy: 0.9597 - val_loss: 0.4530 - val_accuracy: 0.8720\n",
      "Epoch 69/200\n",
      "27/27 [==============================] - 0s 3ms/step - loss: 0.1306 - accuracy: 0.9479 - val_loss: 0.4507 - val_accuracy: 0.8863\n",
      "Epoch 70/200\n",
      "27/27 [==============================] - 0s 3ms/step - loss: 0.1423 - accuracy: 0.9455 - val_loss: 0.5004 - val_accuracy: 0.8815\n",
      "Epoch 71/200\n",
      "27/27 [==============================] - 0s 3ms/step - loss: 0.1498 - accuracy: 0.9443 - val_loss: 0.4898 - val_accuracy: 0.8578\n",
      "Epoch 72/200\n",
      "27/27 [==============================] - 0s 3ms/step - loss: 0.1213 - accuracy: 0.9573 - val_loss: 0.5462 - val_accuracy: 0.8436\n",
      "Epoch 73/200\n",
      "27/27 [==============================] - 0s 3ms/step - loss: 0.1052 - accuracy: 0.9621 - val_loss: 0.4573 - val_accuracy: 0.8768\n",
      "Epoch 74/200\n",
      "27/27 [==============================] - 0s 3ms/step - loss: 0.1081 - accuracy: 0.9585 - val_loss: 0.4969 - val_accuracy: 0.8626\n",
      "Epoch 75/200\n",
      "27/27 [==============================] - 0s 3ms/step - loss: 0.1201 - accuracy: 0.9538 - val_loss: 0.4911 - val_accuracy: 0.8815\n",
      "Epoch 76/200\n",
      "27/27 [==============================] - 0s 3ms/step - loss: 0.1185 - accuracy: 0.9609 - val_loss: 0.7459 - val_accuracy: 0.8152\n",
      "Epoch 77/200\n",
      "27/27 [==============================] - 0s 3ms/step - loss: 0.1622 - accuracy: 0.9325 - val_loss: 0.6255 - val_accuracy: 0.8483\n",
      "Epoch 78/200\n",
      "27/27 [==============================] - 0s 3ms/step - loss: 0.1430 - accuracy: 0.9479 - val_loss: 0.5370 - val_accuracy: 0.8531\n",
      "Epoch 79/200\n",
      "27/27 [==============================] - 0s 3ms/step - loss: 0.1169 - accuracy: 0.9585 - val_loss: 0.6439 - val_accuracy: 0.8341\n",
      "Epoch 80/200\n",
      "27/27 [==============================] - 0s 3ms/step - loss: 0.1018 - accuracy: 0.9668 - val_loss: 0.5468 - val_accuracy: 0.8578\n",
      "Epoch 81/200\n",
      "27/27 [==============================] - 0s 3ms/step - loss: 0.1121 - accuracy: 0.9585 - val_loss: 0.5766 - val_accuracy: 0.8436\n",
      "Epoch 82/200\n",
      "27/27 [==============================] - 0s 3ms/step - loss: 0.1040 - accuracy: 0.9550 - val_loss: 0.4702 - val_accuracy: 0.8863\n",
      "Epoch 83/200\n",
      "27/27 [==============================] - 0s 3ms/step - loss: 0.1084 - accuracy: 0.9621 - val_loss: 0.6140 - val_accuracy: 0.8531\n",
      "Epoch 84/200\n",
      "27/27 [==============================] - 0s 3ms/step - loss: 0.1058 - accuracy: 0.9621 - val_loss: 0.5596 - val_accuracy: 0.8673\n",
      "Epoch 85/200\n",
      "27/27 [==============================] - 0s 3ms/step - loss: 0.0983 - accuracy: 0.9645 - val_loss: 0.4828 - val_accuracy: 0.8720\n",
      "Epoch 86/200\n",
      "27/27 [==============================] - 0s 3ms/step - loss: 0.1030 - accuracy: 0.9680 - val_loss: 0.5312 - val_accuracy: 0.8720\n",
      "Epoch 87/200\n",
      "27/27 [==============================] - 0s 3ms/step - loss: 0.0909 - accuracy: 0.9739 - val_loss: 0.5119 - val_accuracy: 0.8578\n",
      "Epoch 88/200\n",
      "27/27 [==============================] - 0s 3ms/step - loss: 0.1000 - accuracy: 0.9727 - val_loss: 0.5063 - val_accuracy: 0.8768\n",
      "Epoch 89/200\n",
      "27/27 [==============================] - 0s 3ms/step - loss: 0.0967 - accuracy: 0.9727 - val_loss: 0.5550 - val_accuracy: 0.8578\n",
      "Epoch 90/200\n",
      "27/27 [==============================] - 0s 3ms/step - loss: 0.1042 - accuracy: 0.9633 - val_loss: 0.5242 - val_accuracy: 0.8578\n",
      "Epoch 91/200\n",
      "27/27 [==============================] - 0s 3ms/step - loss: 0.0979 - accuracy: 0.9621 - val_loss: 0.4883 - val_accuracy: 0.9052\n",
      "Epoch 92/200\n",
      "27/27 [==============================] - 0s 3ms/step - loss: 0.0916 - accuracy: 0.9704 - val_loss: 0.6443 - val_accuracy: 0.8389\n",
      "Epoch 93/200\n",
      "27/27 [==============================] - 0s 3ms/step - loss: 0.1158 - accuracy: 0.9455 - val_loss: 0.5742 - val_accuracy: 0.8578\n",
      "Epoch 94/200\n",
      "27/27 [==============================] - 0s 3ms/step - loss: 0.1063 - accuracy: 0.9633 - val_loss: 0.6012 - val_accuracy: 0.8483\n",
      "Epoch 95/200\n",
      "27/27 [==============================] - 0s 3ms/step - loss: 0.1298 - accuracy: 0.9443 - val_loss: 0.5586 - val_accuracy: 0.8720\n",
      "Epoch 96/200\n",
      "27/27 [==============================] - 0s 3ms/step - loss: 0.1112 - accuracy: 0.9526 - val_loss: 0.5323 - val_accuracy: 0.8720\n",
      "Epoch 97/200\n",
      "27/27 [==============================] - 0s 3ms/step - loss: 0.1112 - accuracy: 0.9585 - val_loss: 0.5639 - val_accuracy: 0.8720\n",
      "Epoch 98/200\n",
      "27/27 [==============================] - 0s 3ms/step - loss: 0.1107 - accuracy: 0.9538 - val_loss: 0.5604 - val_accuracy: 0.8863\n",
      "Epoch 99/200\n",
      "27/27 [==============================] - 0s 3ms/step - loss: 0.1080 - accuracy: 0.9526 - val_loss: 0.5546 - val_accuracy: 0.8720\n",
      "Epoch 100/200\n",
      "27/27 [==============================] - 0s 3ms/step - loss: 0.0969 - accuracy: 0.9704 - val_loss: 0.5389 - val_accuracy: 0.8720\n",
      "Epoch 101/200\n",
      "27/27 [==============================] - 0s 3ms/step - loss: 0.0971 - accuracy: 0.9633 - val_loss: 0.5082 - val_accuracy: 0.9194\n",
      "Epoch 102/200\n",
      "27/27 [==============================] - 0s 3ms/step - loss: 0.0832 - accuracy: 0.9704 - val_loss: 0.5307 - val_accuracy: 0.8815\n",
      "Epoch 103/200\n",
      "27/27 [==============================] - 0s 3ms/step - loss: 0.0859 - accuracy: 0.9680 - val_loss: 0.5673 - val_accuracy: 0.8815\n",
      "Epoch 104/200\n",
      "27/27 [==============================] - 0s 3ms/step - loss: 0.0923 - accuracy: 0.9704 - val_loss: 0.6588 - val_accuracy: 0.8341\n",
      "Epoch 105/200\n",
      "27/27 [==============================] - 0s 3ms/step - loss: 0.0822 - accuracy: 0.9704 - val_loss: 0.5427 - val_accuracy: 0.8863\n",
      "Epoch 106/200\n",
      "27/27 [==============================] - 0s 3ms/step - loss: 0.0728 - accuracy: 0.9787 - val_loss: 0.5452 - val_accuracy: 0.8768\n",
      "Epoch 107/200\n",
      "27/27 [==============================] - 0s 3ms/step - loss: 0.1592 - accuracy: 0.9289 - val_loss: 0.6842 - val_accuracy: 0.8436\n",
      "Epoch 108/200\n",
      "27/27 [==============================] - 0s 2ms/step - loss: 0.1109 - accuracy: 0.9597 - val_loss: 0.7805 - val_accuracy: 0.8389\n",
      "Epoch 109/200\n",
      "27/27 [==============================] - 0s 3ms/step - loss: 0.1195 - accuracy: 0.9668 - val_loss: 0.5384 - val_accuracy: 0.8957\n",
      "Epoch 110/200\n",
      "27/27 [==============================] - 0s 3ms/step - loss: 0.0904 - accuracy: 0.9775 - val_loss: 0.5468 - val_accuracy: 0.8815\n",
      "Epoch 111/200\n",
      "27/27 [==============================] - 0s 2ms/step - loss: 0.0799 - accuracy: 0.9787 - val_loss: 0.5379 - val_accuracy: 0.8910\n",
      "Epoch 112/200\n",
      "27/27 [==============================] - 0s 3ms/step - loss: 0.0734 - accuracy: 0.9716 - val_loss: 0.5664 - val_accuracy: 0.8815\n",
      "Epoch 113/200\n",
      "27/27 [==============================] - 0s 3ms/step - loss: 0.0915 - accuracy: 0.9597 - val_loss: 0.6566 - val_accuracy: 0.8720\n",
      "Epoch 114/200\n",
      "27/27 [==============================] - 0s 3ms/step - loss: 0.0786 - accuracy: 0.9751 - val_loss: 0.6595 - val_accuracy: 0.8483\n",
      "Epoch 115/200\n",
      "27/27 [==============================] - 0s 3ms/step - loss: 0.0817 - accuracy: 0.9751 - val_loss: 0.5768 - val_accuracy: 0.8910\n",
      "Epoch 116/200\n"
     ]
    },
    {
     "name": "stdout",
     "output_type": "stream",
     "text": [
      "27/27 [==============================] - 0s 3ms/step - loss: 0.0717 - accuracy: 0.9834 - val_loss: 0.6222 - val_accuracy: 0.8626\n",
      "Epoch 117/200\n",
      "27/27 [==============================] - 0s 3ms/step - loss: 0.0771 - accuracy: 0.9716 - val_loss: 0.6378 - val_accuracy: 0.8578\n",
      "Epoch 118/200\n",
      "27/27 [==============================] - 0s 3ms/step - loss: 0.0833 - accuracy: 0.9739 - val_loss: 0.6143 - val_accuracy: 0.8626\n",
      "Epoch 119/200\n",
      "27/27 [==============================] - 0s 3ms/step - loss: 0.0696 - accuracy: 0.9870 - val_loss: 0.5962 - val_accuracy: 0.8720\n",
      "Epoch 120/200\n",
      "27/27 [==============================] - 0s 3ms/step - loss: 0.0638 - accuracy: 0.9822 - val_loss: 0.5615 - val_accuracy: 0.8957\n",
      "Epoch 121/200\n",
      "27/27 [==============================] - 0s 3ms/step - loss: 0.0672 - accuracy: 0.9810 - val_loss: 0.5517 - val_accuracy: 0.9100\n",
      "Epoch 122/200\n",
      "27/27 [==============================] - 0s 3ms/step - loss: 0.0859 - accuracy: 0.9656 - val_loss: 0.6351 - val_accuracy: 0.8626\n",
      "Epoch 123/200\n",
      "27/27 [==============================] - 0s 3ms/step - loss: 0.0951 - accuracy: 0.9633 - val_loss: 0.6264 - val_accuracy: 0.8673\n",
      "Epoch 124/200\n",
      "27/27 [==============================] - 0s 3ms/step - loss: 0.0909 - accuracy: 0.9645 - val_loss: 0.5966 - val_accuracy: 0.8815\n",
      "Epoch 125/200\n",
      "27/27 [==============================] - 0s 3ms/step - loss: 0.0698 - accuracy: 0.9787 - val_loss: 0.5664 - val_accuracy: 0.9052\n",
      "Epoch 126/200\n",
      "27/27 [==============================] - 0s 3ms/step - loss: 0.1080 - accuracy: 0.9550 - val_loss: 0.6100 - val_accuracy: 0.8863\n",
      "Epoch 127/200\n",
      "27/27 [==============================] - 0s 3ms/step - loss: 0.1053 - accuracy: 0.9585 - val_loss: 0.6391 - val_accuracy: 0.8673\n",
      "Epoch 128/200\n",
      "27/27 [==============================] - 0s 3ms/step - loss: 0.1060 - accuracy: 0.9573 - val_loss: 0.7235 - val_accuracy: 0.8531\n",
      "Epoch 129/200\n",
      "27/27 [==============================] - 0s 3ms/step - loss: 0.0868 - accuracy: 0.9609 - val_loss: 0.6058 - val_accuracy: 0.8768\n",
      "Epoch 130/200\n",
      "27/27 [==============================] - 0s 3ms/step - loss: 0.0627 - accuracy: 0.9799 - val_loss: 0.6167 - val_accuracy: 0.8768\n",
      "Epoch 131/200\n",
      "27/27 [==============================] - 0s 3ms/step - loss: 0.0663 - accuracy: 0.9763 - val_loss: 0.5759 - val_accuracy: 0.8910\n",
      "Epoch 132/200\n",
      "27/27 [==============================] - 0s 3ms/step - loss: 0.0760 - accuracy: 0.9704 - val_loss: 0.6027 - val_accuracy: 0.8910\n",
      "Epoch 133/200\n",
      "27/27 [==============================] - 0s 3ms/step - loss: 0.0651 - accuracy: 0.9775 - val_loss: 0.6782 - val_accuracy: 0.8673\n",
      "Epoch 134/200\n",
      "27/27 [==============================] - 0s 3ms/step - loss: 0.0650 - accuracy: 0.9799 - val_loss: 0.6041 - val_accuracy: 0.8957\n",
      "Epoch 135/200\n",
      "27/27 [==============================] - 0s 3ms/step - loss: 0.0565 - accuracy: 0.9858 - val_loss: 0.5887 - val_accuracy: 0.9005\n",
      "Epoch 136/200\n",
      "27/27 [==============================] - 0s 3ms/step - loss: 0.0637 - accuracy: 0.9787 - val_loss: 0.5924 - val_accuracy: 0.9100\n",
      "Epoch 137/200\n",
      "27/27 [==============================] - 0s 3ms/step - loss: 0.0652 - accuracy: 0.9739 - val_loss: 0.6710 - val_accuracy: 0.8720\n",
      "Epoch 138/200\n",
      "27/27 [==============================] - 0s 3ms/step - loss: 0.0628 - accuracy: 0.9787 - val_loss: 0.6659 - val_accuracy: 0.8768\n",
      "Epoch 139/200\n",
      "27/27 [==============================] - 0s 3ms/step - loss: 0.0815 - accuracy: 0.9799 - val_loss: 0.7539 - val_accuracy: 0.8626\n",
      "Epoch 140/200\n",
      "27/27 [==============================] - 0s 3ms/step - loss: 0.0654 - accuracy: 0.9810 - val_loss: 0.6612 - val_accuracy: 0.8863\n",
      "Epoch 141/200\n",
      "27/27 [==============================] - 0s 3ms/step - loss: 0.0530 - accuracy: 0.9822 - val_loss: 0.6199 - val_accuracy: 0.9005\n",
      "Epoch 142/200\n",
      "27/27 [==============================] - 0s 3ms/step - loss: 0.0582 - accuracy: 0.9787 - val_loss: 0.6832 - val_accuracy: 0.8720\n",
      "Epoch 143/200\n",
      "27/27 [==============================] - 0s 3ms/step - loss: 0.0681 - accuracy: 0.9870 - val_loss: 0.6083 - val_accuracy: 0.9147\n",
      "Epoch 144/200\n",
      "27/27 [==============================] - 0s 3ms/step - loss: 0.0680 - accuracy: 0.9727 - val_loss: 0.5924 - val_accuracy: 0.9336\n",
      "Epoch 145/200\n",
      "27/27 [==============================] - 0s 3ms/step - loss: 0.0564 - accuracy: 0.9822 - val_loss: 0.8371 - val_accuracy: 0.8436\n",
      "Epoch 146/200\n",
      "27/27 [==============================] - 0s 3ms/step - loss: 0.0661 - accuracy: 0.9763 - val_loss: 0.6656 - val_accuracy: 0.8673\n",
      "Epoch 147/200\n",
      "27/27 [==============================] - 0s 3ms/step - loss: 0.0464 - accuracy: 0.9870 - val_loss: 0.6487 - val_accuracy: 0.8815\n",
      "Epoch 148/200\n",
      "27/27 [==============================] - 0s 3ms/step - loss: 0.0531 - accuracy: 0.9799 - val_loss: 0.7158 - val_accuracy: 0.8720\n",
      "Epoch 149/200\n",
      "27/27 [==============================] - 0s 3ms/step - loss: 0.0520 - accuracy: 0.9870 - val_loss: 0.6677 - val_accuracy: 0.8768\n",
      "Epoch 150/200\n",
      "27/27 [==============================] - 0s 3ms/step - loss: 0.0637 - accuracy: 0.9775 - val_loss: 0.8425 - val_accuracy: 0.8483\n",
      "Epoch 151/200\n",
      "27/27 [==============================] - 0s 3ms/step - loss: 0.0923 - accuracy: 0.9645 - val_loss: 0.7498 - val_accuracy: 0.8720\n",
      "Epoch 152/200\n",
      "27/27 [==============================] - 0s 3ms/step - loss: 0.0919 - accuracy: 0.9585 - val_loss: 1.0438 - val_accuracy: 0.8199\n",
      "Epoch 153/200\n",
      "27/27 [==============================] - 0s 3ms/step - loss: 0.1088 - accuracy: 0.9573 - val_loss: 0.6696 - val_accuracy: 0.9100\n",
      "Epoch 154/200\n",
      "27/27 [==============================] - 0s 3ms/step - loss: 0.0906 - accuracy: 0.9645 - val_loss: 0.7801 - val_accuracy: 0.8531\n",
      "Epoch 155/200\n",
      "27/27 [==============================] - 0s 3ms/step - loss: 0.1030 - accuracy: 0.9656 - val_loss: 0.8617 - val_accuracy: 0.8483\n",
      "Epoch 156/200\n",
      "27/27 [==============================] - 0s 3ms/step - loss: 0.0746 - accuracy: 0.9727 - val_loss: 0.7011 - val_accuracy: 0.8768\n",
      "Epoch 157/200\n",
      "27/27 [==============================] - 0s 3ms/step - loss: 0.0507 - accuracy: 0.9822 - val_loss: 0.6162 - val_accuracy: 0.9100\n",
      "Epoch 158/200\n",
      "27/27 [==============================] - 0s 3ms/step - loss: 0.0506 - accuracy: 0.9822 - val_loss: 0.9004 - val_accuracy: 0.8294\n",
      "Epoch 159/200\n",
      "27/27 [==============================] - 0s 3ms/step - loss: 0.0536 - accuracy: 0.9822 - val_loss: 0.6525 - val_accuracy: 0.8910\n",
      "Epoch 160/200\n",
      "27/27 [==============================] - 0s 3ms/step - loss: 0.0767 - accuracy: 0.9716 - val_loss: 0.7281 - val_accuracy: 0.8626\n",
      "Epoch 161/200\n",
      "27/27 [==============================] - 0s 3ms/step - loss: 0.0800 - accuracy: 0.9704 - val_loss: 0.7465 - val_accuracy: 0.8626\n",
      "Epoch 162/200\n",
      "27/27 [==============================] - 0s 3ms/step - loss: 0.0554 - accuracy: 0.9787 - val_loss: 0.7328 - val_accuracy: 0.8768\n",
      "Epoch 163/200\n",
      "27/27 [==============================] - 0s 3ms/step - loss: 0.0764 - accuracy: 0.9704 - val_loss: 0.6454 - val_accuracy: 0.8863\n",
      "Epoch 164/200\n",
      "27/27 [==============================] - 0s 3ms/step - loss: 0.0472 - accuracy: 0.9858 - val_loss: 0.6926 - val_accuracy: 0.8815\n",
      "Epoch 165/200\n",
      "27/27 [==============================] - 0s 3ms/step - loss: 0.0509 - accuracy: 0.9858 - val_loss: 0.6690 - val_accuracy: 0.8815\n",
      "Epoch 166/200\n",
      "27/27 [==============================] - 0s 3ms/step - loss: 0.0455 - accuracy: 0.9893 - val_loss: 0.7647 - val_accuracy: 0.8768\n",
      "Epoch 167/200\n",
      "27/27 [==============================] - 0s 3ms/step - loss: 0.0434 - accuracy: 0.9882 - val_loss: 0.6600 - val_accuracy: 0.8957\n",
      "Epoch 168/200\n",
      "27/27 [==============================] - 0s 3ms/step - loss: 0.0394 - accuracy: 0.9905 - val_loss: 0.7512 - val_accuracy: 0.8815\n",
      "Epoch 169/200\n",
      "27/27 [==============================] - 0s 3ms/step - loss: 0.0494 - accuracy: 0.9810 - val_loss: 0.7431 - val_accuracy: 0.8910\n",
      "Epoch 170/200\n",
      "27/27 [==============================] - 0s 3ms/step - loss: 0.0512 - accuracy: 0.9787 - val_loss: 0.6437 - val_accuracy: 0.9194\n",
      "Epoch 171/200\n",
      "27/27 [==============================] - 0s 3ms/step - loss: 0.0425 - accuracy: 0.9846 - val_loss: 0.7065 - val_accuracy: 0.8910\n",
      "Epoch 172/200\n",
      "27/27 [==============================] - 0s 3ms/step - loss: 0.0668 - accuracy: 0.9799 - val_loss: 0.7322 - val_accuracy: 0.8957\n",
      "Epoch 173/200\n"
     ]
    },
    {
     "name": "stdout",
     "output_type": "stream",
     "text": [
      "27/27 [==============================] - 0s 3ms/step - loss: 0.0548 - accuracy: 0.9834 - val_loss: 0.7194 - val_accuracy: 0.8768\n",
      "Epoch 174/200\n",
      "27/27 [==============================] - 0s 3ms/step - loss: 0.0450 - accuracy: 0.9882 - val_loss: 0.6995 - val_accuracy: 0.8957\n",
      "Epoch 175/200\n",
      "27/27 [==============================] - 0s 3ms/step - loss: 0.0451 - accuracy: 0.9858 - val_loss: 0.6762 - val_accuracy: 0.9052\n",
      "Epoch 176/200\n",
      "27/27 [==============================] - 0s 3ms/step - loss: 0.0572 - accuracy: 0.9775 - val_loss: 0.7280 - val_accuracy: 0.8863\n",
      "Epoch 177/200\n",
      "27/27 [==============================] - 0s 3ms/step - loss: 0.0444 - accuracy: 0.9834 - val_loss: 0.7588 - val_accuracy: 0.8863\n",
      "Epoch 178/200\n",
      "27/27 [==============================] - 0s 3ms/step - loss: 0.0538 - accuracy: 0.9834 - val_loss: 0.7698 - val_accuracy: 0.8815\n",
      "Epoch 179/200\n",
      "27/27 [==============================] - 0s 3ms/step - loss: 0.0412 - accuracy: 0.9858 - val_loss: 0.7217 - val_accuracy: 0.8957\n",
      "Epoch 180/200\n",
      "27/27 [==============================] - 0s 3ms/step - loss: 0.0362 - accuracy: 0.9905 - val_loss: 0.6763 - val_accuracy: 0.9052\n",
      "Epoch 181/200\n",
      "27/27 [==============================] - 0s 3ms/step - loss: 0.0333 - accuracy: 0.9917 - val_loss: 0.7452 - val_accuracy: 0.8815\n",
      "Epoch 182/200\n",
      "27/27 [==============================] - 0s 3ms/step - loss: 0.0361 - accuracy: 0.9905 - val_loss: 0.7247 - val_accuracy: 0.8720\n",
      "Epoch 183/200\n",
      "27/27 [==============================] - 0s 3ms/step - loss: 0.0324 - accuracy: 0.9929 - val_loss: 0.7414 - val_accuracy: 0.8815\n",
      "Epoch 184/200\n",
      "27/27 [==============================] - 0s 3ms/step - loss: 0.0574 - accuracy: 0.9822 - val_loss: 0.7836 - val_accuracy: 0.9052\n",
      "Epoch 185/200\n",
      "27/27 [==============================] - 0s 3ms/step - loss: 0.0633 - accuracy: 0.9834 - val_loss: 0.8464 - val_accuracy: 0.8720\n",
      "Epoch 186/200\n",
      "27/27 [==============================] - 0s 3ms/step - loss: 0.0560 - accuracy: 0.9846 - val_loss: 0.7621 - val_accuracy: 0.8815\n",
      "Epoch 187/200\n",
      "27/27 [==============================] - 0s 3ms/step - loss: 0.0445 - accuracy: 0.9882 - val_loss: 0.7502 - val_accuracy: 0.8910\n",
      "Epoch 188/200\n",
      "27/27 [==============================] - 0s 3ms/step - loss: 0.0330 - accuracy: 0.9905 - val_loss: 0.7390 - val_accuracy: 0.8910\n",
      "Epoch 189/200\n",
      "27/27 [==============================] - 0s 3ms/step - loss: 0.0328 - accuracy: 0.9941 - val_loss: 0.7558 - val_accuracy: 0.8957\n",
      "Epoch 190/200\n",
      "27/27 [==============================] - 0s 3ms/step - loss: 0.0385 - accuracy: 0.9858 - val_loss: 0.8089 - val_accuracy: 0.8957\n",
      "Epoch 191/200\n",
      "27/27 [==============================] - 0s 3ms/step - loss: 0.0381 - accuracy: 0.9858 - val_loss: 0.7886 - val_accuracy: 0.8957\n",
      "Epoch 192/200\n",
      "27/27 [==============================] - 0s 3ms/step - loss: 0.0405 - accuracy: 0.9870 - val_loss: 0.7669 - val_accuracy: 0.8863\n",
      "Epoch 193/200\n",
      "27/27 [==============================] - 0s 3ms/step - loss: 0.0365 - accuracy: 0.9858 - val_loss: 0.8295 - val_accuracy: 0.8815\n",
      "Epoch 194/200\n",
      "27/27 [==============================] - 0s 3ms/step - loss: 0.0278 - accuracy: 0.9941 - val_loss: 0.8779 - val_accuracy: 0.8815\n",
      "Epoch 195/200\n",
      "27/27 [==============================] - 0s 3ms/step - loss: 0.0309 - accuracy: 0.9941 - val_loss: 0.7525 - val_accuracy: 0.8957\n",
      "Epoch 196/200\n",
      "27/27 [==============================] - 0s 3ms/step - loss: 0.0324 - accuracy: 0.9929 - val_loss: 0.8110 - val_accuracy: 0.8910\n",
      "Epoch 197/200\n",
      "27/27 [==============================] - 0s 3ms/step - loss: 0.0371 - accuracy: 0.9882 - val_loss: 0.8489 - val_accuracy: 0.8768\n",
      "Epoch 198/200\n",
      "27/27 [==============================] - 0s 3ms/step - loss: 0.0808 - accuracy: 0.9668 - val_loss: 0.8722 - val_accuracy: 0.8863\n",
      "Epoch 199/200\n",
      "27/27 [==============================] - 0s 3ms/step - loss: 0.0708 - accuracy: 0.9799 - val_loss: 0.7713 - val_accuracy: 0.8863\n",
      "Epoch 200/200\n",
      "27/27 [==============================] - 0s 3ms/step - loss: 0.0357 - accuracy: 0.9893 - val_loss: 0.8594 - val_accuracy: 0.8768\n"
     ]
    }
   ],
   "source": [
    "history_mlp = model_ogml.fit(train_x, train_y, validation_split=0.2, epochs=200)"
   ]
  },
  {
   "cell_type": "code",
   "execution_count": 190,
   "metadata": {},
   "outputs": [
    {
     "data": {
      "image/png": "[encoded data removed]",
      "text/plain": [
       "<Figure size 1440x576 with 1 Axes>"
      ]
     },
     "metadata": {},
     "output_type": "display_data"
    },
    {
     "data": {
      "image/png": "[encoded data removed]",
      "text/plain": [
       "<Figure size 1440x576 with 1 Axes>"
      ]
     },
     "metadata": {},
     "output_type": "display_data"
    }
   ],
   "source": [
    "plt.plot(history_mlp.history['loss'])\n",
    "plt.plot(history_mlp.history['val_loss'])\n",
    "plt.title('model loss')\n",
    "plt.ylabel('loss')\n",
    "plt.xlabel('epoch')\n",
    "plt.legend(['train', 'test'], loc='upper left')\n",
    "plt.show()\n",
    "\n",
    "# # summarize history for accuracy\n",
    "plt.plot(history_mlp.history['accuracy'])\n",
    "plt.plot(history_mlp.history['val_accuracy'])\n",
    "plt.title('model accuracy')\n",
    "plt.ylabel('accuracy')\n",
    "plt.xlabel('epoch')\n",
    "plt.legend(['train', 'test'], loc='upper right')\n",
    "plt.show()"
   ]
  },
  {
   "cell_type": "code",
   "execution_count": 191,
   "metadata": {},
   "outputs": [
    {
     "name": "stdout",
     "output_type": "stream",
     "text": [
      "9/9 [==============================] - 0s 2ms/step\n"
     ]
    }
   ],
   "source": [
    "y_pred = model_ogml.predict(test_x)"
   ]
  },
  {
   "cell_type": "code",
   "execution_count": 192,
   "metadata": {},
   "outputs": [],
   "source": [
    "y_pred = [1 if y>=0.5 else 0 for y in y_pred]"
   ]
  },
  {
   "cell_type": "code",
   "execution_count": 193,
   "metadata": {},
   "outputs": [
    {
     "name": "stdout",
     "output_type": "stream",
     "text": [
      "9/9 [==============================] - 0s 2ms/step - loss: 2.5290 - accuracy: 0.7576\n"
     ]
    }
   ],
   "source": [
    "scores = model_ogml.evaluate(test_x, test_y)"
   ]
  },
  {
   "cell_type": "code",
   "execution_count": 194,
   "metadata": {},
   "outputs": [],
   "source": [
    "cm_model = confusion_matrix(test_y, y_pred)"
   ]
  },
  {
   "cell_type": "code",
   "execution_count": 131,
   "metadata": {},
   "outputs": [
    {
     "data": {
      "image/png": "[encoded data removed]",
      "text/plain": [
       "<Figure size 1440x576 with 1 Axes>"
      ]
     },
     "metadata": {},
     "output_type": "display_data"
    }
   ],
   "source": [
    "p_cm(cm_model)"
   ]
  },
  {
   "cell_type": "code",
   "execution_count": null,
   "metadata": {},
   "outputs": [],
   "source": []
  },
  {
   "cell_type": "code",
   "execution_count": null,
   "metadata": {},
   "outputs": [],
   "source": []
  },
  {
   "cell_type": "code",
   "execution_count": null,
   "metadata": {},
   "outputs": [],
   "source": []
  },
  {
   "cell_type": "code",
   "execution_count": null,
   "metadata": {},
   "outputs": [],
   "source": []
  },
  {
   "cell_type": "code",
   "execution_count": null,
   "metadata": {},
   "outputs": [],
   "source": []
  },
  {
   "cell_type": "code",
   "execution_count": null,
   "metadata": {},
   "outputs": [],
   "source": []
  }
 ],
 "metadata": {
  "kernelspec": {
   "display_name": "Python 3",
   "language": "python",
   "name": "python3"
  },
  "language_info": {
   "codemirror_mode": {
    "name": "ipython",
    "version": 3
   },
   "file_extension": ".py",
   "mimetype": "text/x-python",
   "name": "python",
   "nbconvert_exporter": "python",
   "pygments_lexer": "ipython3",
   "version": "3.7.4"
  }
 },
 "nbformat": 4,
 "nbformat_minor": 4
}
